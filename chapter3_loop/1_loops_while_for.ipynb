{
 "cells": [
  {
   "metadata": {
    "ExecuteTime": {
     "end_time": "2024-10-24T15:26:21.229185Z",
     "start_time": "2024-10-24T15:26:21.220290Z"
    }
   },
   "cell_type": "code",
   "source": [
    "\"\"\"\n",
    "1. 파일명 : 1_loops_while_for.ipynb\n",
    "2. 개요: 파이썬의 반복문 사용법과 예제 (while, for, break, continue)\n",
    "3. 작성자 : adam9e96\n",
    "4. 업데이트: 2024-10-23\n",
    "\"\"\""
   ],
   "id": "a37291cc8bb54930",
   "outputs": [
    {
     "data": {
      "text/plain": [
       "'\\n1. 파일명 : 1_loops_while_for.ipynb\\n2. 개요: 파이썬의 반복문 사용법과 예제 (while, for, break, continue)\\n3. 작성자 : adam9e96\\n4. 업데이트: 2024-10-23\\n'"
      ]
     },
     "execution_count": 1,
     "metadata": {},
     "output_type": "execute_result"
    }
   ],
   "execution_count": 1
  },
  {
   "metadata": {},
   "cell_type": "markdown",
   "source": [
    "# 반복문\n",
    "## 1. while 문\n",
    "- 조건이 참인 동안 반복해서 실행하는 반복문.\n",
    "- 조건이 거짓이 되면 반복이 종료됩니다.\n",
    "- 형식:\n",
    "  \n",
    "    ```python\n",
    "        while 조건식:\n",
    "            실행할_코드\n",
    "  "
   ],
   "id": "56458949398906ca"
  },
  {
   "cell_type": "code",
   "source": [
    "# 1부터 10까지 출력하는 예제\n",
    "n = 1\n",
    "while n <= 10:\n",
    "    print(n)\n",
    "    n += 1  # n = n + 1, n 값을 1씩 증가시켜 반복 조건을 변경\n",
    "print(n)  # 반복 종료 후 n의 값은 11\n",
    "# 출력:\n",
    "# 1\n",
    "# 2\n",
    "# ...\n",
    "# 10\n",
    "# 11"
   ],
   "metadata": {
    "collapsed": false,
    "ExecuteTime": {
     "end_time": "2024-10-24T16:10:43.668455Z",
     "start_time": "2024-10-24T16:10:43.663053Z"
    }
   },
   "id": "d92031854dd34a72",
   "outputs": [
    {
     "name": "stdout",
     "output_type": "stream",
     "text": [
      "1\n",
      "2\n",
      "3\n",
      "4\n",
      "5\n",
      "6\n",
      "7\n",
      "8\n",
      "9\n",
      "10\n",
      "11\n"
     ]
    }
   ],
   "execution_count": 23
  },
  {
   "cell_type": "code",
   "source": [
    "# 1부터 10 사이의 모든 정수를 역순으로 출력하는 예제\n",
    "n = 10\n",
    "while n >= 1:\n",
    "    print(n)\n",
    "    n -= 1  # n 값을 1씩 감소시켜 반복 조건을 변경\n",
    "print(n)  # 반복 종료 후 n의 값은 0\n",
    "# 출력:\n",
    "# 10\n",
    "# 9\n",
    "# ...\n",
    "# 1\n",
    "# 0"
   ],
   "metadata": {
    "collapsed": false,
    "ExecuteTime": {
     "end_time": "2024-10-24T15:28:42.117565Z",
     "start_time": "2024-10-24T15:28:42.111607Z"
    }
   },
   "id": "560905732f5b4192",
   "outputs": [
    {
     "name": "stdout",
     "output_type": "stream",
     "text": [
      "10\n",
      "9\n",
      "8\n",
      "7\n",
      "6\n",
      "5\n",
      "4\n",
      "3\n",
      "2\n",
      "1\n",
      "0\n"
     ]
    }
   ],
   "execution_count": 15
  },
  {
   "cell_type": "code",
   "source": [
    "# 100부터 50 사이의 짝수만 출력\n",
    "n = 100\n",
    "while n >= 50:\n",
    "    if n % 2 == 0:  # 짝수인지 확인\n",
    "        print(n)\n",
    "    n -= 1  # n 값을 1씩 감소시켜 조건 변화\n",
    "# 다른 방법\n",
    "n = 100\n",
    "while n >= 50:\n",
    "    print(n)  # n이 짝수로 시작하므로 바로 출력 가능\n",
    "    n -= 2  # 짝수만 출력되도록 2씩 감소"
   ],
   "metadata": {
    "collapsed": false,
    "ExecuteTime": {
     "end_time": "2024-10-24T15:28:47.879095Z",
     "start_time": "2024-10-24T15:28:47.874073Z"
    }
   },
   "id": "c09d3e216f5ba65b",
   "outputs": [
    {
     "name": "stdout",
     "output_type": "stream",
     "text": [
      "100\n",
      "98\n",
      "96\n",
      "94\n",
      "92\n",
      "90\n",
      "88\n",
      "86\n",
      "84\n",
      "82\n",
      "80\n",
      "78\n",
      "76\n",
      "74\n",
      "72\n",
      "70\n",
      "68\n",
      "66\n",
      "64\n",
      "62\n",
      "60\n",
      "58\n",
      "56\n",
      "54\n",
      "52\n",
      "50\n",
      "100\n",
      "98\n",
      "96\n",
      "94\n",
      "92\n",
      "90\n",
      "88\n",
      "86\n",
      "84\n",
      "82\n",
      "80\n",
      "78\n",
      "76\n",
      "74\n",
      "72\n",
      "70\n",
      "68\n",
      "66\n",
      "64\n",
      "62\n",
      "60\n",
      "58\n",
      "56\n",
      "54\n",
      "52\n",
      "50\n"
     ]
    }
   ],
   "execution_count": 20
  },
  {
   "cell_type": "code",
   "source": [
    "# 사용자로부터 임의의 정수를 입력받아 0을 입력할 때까지 리스트에 저장하는 프로그램\n",
    "my_list = []  # 빈 리스트 생성\n",
    "\n",
    "n = int(input('정수를 입력하세요(종료는 0입니다.) >>> '))  # 최초 입력\n",
    "\n",
    "while n != 0:  # n이 0이 아닌 동안 반복\n",
    "    my_list.append(n)  # 입력된 값을 리스트에 추가\n",
    "    n = int(input('정수를 입력하세요(종료는 0입니다.) >>> '))\n",
    "\n",
    "print(my_list)  # 최종 입력된 정수들 출력"
   ],
   "metadata": {
    "collapsed": false,
    "ExecuteTime": {
     "end_time": "2024-10-24T15:29:06.294270Z",
     "start_time": "2024-10-24T15:29:00.018781Z"
    }
   },
   "id": "b1dc475456007f4b",
   "outputs": [
    {
     "name": "stdout",
     "output_type": "stream",
     "text": [
      "[35, 35, 35, 6, 66, 34]\n"
     ]
    }
   ],
   "execution_count": 21
  },
  {
   "cell_type": "code",
   "source": [
    "my_list = []  # 빈 리스트 생성\n",
    "\n",
    "n = 1  # 0 이 아닌 초깃값을 주면 반복문이 실행 된다.\n",
    "\n",
    "while n != 0:  # n이 0이 아니면  계속 실행\n",
    "    n = int(input('정수를 입력하세요(종료는 0입니다. >>> '))\n",
    "    my_list.append(n)\n",
    "\n",
    "my_list.pop()  # my_list의 마지막 요소는 언제나 0이므로 제거합니다.\n",
    "print(my_list)"
   ],
   "metadata": {
    "collapsed": false,
    "ExecuteTime": {
     "end_time": "2024-10-24T15:26:34.134385Z",
     "start_time": "2024-10-24T15:26:32.753024Z"
    }
   },
   "id": "51d26595c6a99cc4",
   "outputs": [
    {
     "name": "stdout",
     "output_type": "stream",
     "text": [
      "[]\n"
     ]
    }
   ],
   "execution_count": 6
  },
  {
   "cell_type": "code",
   "source": [
    "# 구구단 출력 (2단부터 9단까지)\n",
    "# 내부에 중첩된 while문을 사용하여 각 단과 곱셈 값을 계산\n",
    "# 8 * 9 = 72\n",
    "# ==========\n",
    "# 9단\n",
    "# 9 * 1 = 9\n",
    "dan = 2  # 시작 단\n",
    "while dan <= 9:\n",
    "    n = 1\n",
    "    print(f'{dan}단')\n",
    "    while n <= 9:\n",
    "        print(f'{dan} * {n} = {dan * n}')\n",
    "        n += 1\n",
    "    print('=' * 10)  # 단을 구분하는 선\n",
    "    dan += 1\n"
   ],
   "metadata": {
    "collapsed": false,
    "ExecuteTime": {
     "end_time": "2024-10-24T15:26:34.264719Z",
     "start_time": "2024-10-24T15:26:34.259258Z"
    }
   },
   "id": "4c275e151d26215e",
   "outputs": [
    {
     "name": "stdout",
     "output_type": "stream",
     "text": [
      "2단\n",
      "2 * 1 = 2\n",
      "2 * 2 = 4\n",
      "2 * 3 = 6\n",
      "2 * 4 = 8\n",
      "2 * 5 = 10\n",
      "2 * 6 = 12\n",
      "2 * 7 = 14\n",
      "2 * 8 = 16\n",
      "2 * 9 = 18\n",
      "==========\n",
      "3단\n",
      "3 * 1 = 3\n",
      "3 * 2 = 6\n",
      "3 * 3 = 9\n",
      "3 * 4 = 12\n",
      "3 * 5 = 15\n",
      "3 * 6 = 18\n",
      "3 * 7 = 21\n",
      "3 * 8 = 24\n",
      "3 * 9 = 27\n",
      "==========\n",
      "4단\n",
      "4 * 1 = 4\n",
      "4 * 2 = 8\n",
      "4 * 3 = 12\n",
      "4 * 4 = 16\n",
      "4 * 5 = 20\n",
      "4 * 6 = 24\n",
      "4 * 7 = 28\n",
      "4 * 8 = 32\n",
      "4 * 9 = 36\n",
      "==========\n",
      "5단\n",
      "5 * 1 = 5\n",
      "5 * 2 = 10\n",
      "5 * 3 = 15\n",
      "5 * 4 = 20\n",
      "5 * 5 = 25\n",
      "5 * 6 = 30\n",
      "5 * 7 = 35\n",
      "5 * 8 = 40\n",
      "5 * 9 = 45\n",
      "==========\n",
      "6단\n",
      "6 * 1 = 6\n",
      "6 * 2 = 12\n",
      "6 * 3 = 18\n",
      "6 * 4 = 24\n",
      "6 * 5 = 30\n",
      "6 * 6 = 36\n",
      "6 * 7 = 42\n",
      "6 * 8 = 48\n",
      "6 * 9 = 54\n",
      "==========\n",
      "7단\n",
      "7 * 1 = 7\n",
      "7 * 2 = 14\n",
      "7 * 3 = 21\n",
      "7 * 4 = 28\n",
      "7 * 5 = 35\n",
      "7 * 6 = 42\n",
      "7 * 7 = 49\n",
      "7 * 8 = 56\n",
      "7 * 9 = 63\n",
      "==========\n",
      "8단\n",
      "8 * 1 = 8\n",
      "8 * 2 = 16\n",
      "8 * 3 = 24\n",
      "8 * 4 = 32\n",
      "8 * 5 = 40\n",
      "8 * 6 = 48\n",
      "8 * 7 = 56\n",
      "8 * 8 = 64\n",
      "8 * 9 = 72\n",
      "==========\n",
      "9단\n",
      "9 * 1 = 9\n",
      "9 * 2 = 18\n",
      "9 * 3 = 27\n",
      "9 * 4 = 36\n",
      "9 * 5 = 45\n",
      "9 * 6 = 54\n",
      "9 * 7 = 63\n",
      "9 * 8 = 72\n",
      "9 * 9 = 81\n",
      "==========\n"
     ]
    }
   ],
   "execution_count": 7
  },
  {
   "cell_type": "code",
   "source": [
    "dan = 2  # 구구단의 단을 의미\n",
    "while dan <= 9:  # 9단 까지 반복해서 처리\n",
    "    n = 1\n",
    "    print(f'{dan} 단')\n",
    "    while n <= 9:  # 모든 dan 은 변수 1~9 까지 사용\n",
    "        print(f'{dan} * {n} = {dan * n}')\n",
    "        n += 1\n",
    "    print('=' * 10)\n",
    "    dan += 1"
   ],
   "metadata": {
    "collapsed": false,
    "ExecuteTime": {
     "end_time": "2024-10-24T15:26:34.317882Z",
     "start_time": "2024-10-24T15:26:34.311966Z"
    }
   },
   "id": "8de1a0ddb467369b",
   "outputs": [
    {
     "name": "stdout",
     "output_type": "stream",
     "text": [
      "2 단\n",
      "2 * 1 = 2\n",
      "2 * 2 = 4\n",
      "2 * 3 = 6\n",
      "2 * 4 = 8\n",
      "2 * 5 = 10\n",
      "2 * 6 = 12\n",
      "2 * 7 = 14\n",
      "2 * 8 = 16\n",
      "2 * 9 = 18\n",
      "==========\n",
      "3 단\n",
      "3 * 1 = 3\n",
      "3 * 2 = 6\n",
      "3 * 3 = 9\n",
      "3 * 4 = 12\n",
      "3 * 5 = 15\n",
      "3 * 6 = 18\n",
      "3 * 7 = 21\n",
      "3 * 8 = 24\n",
      "3 * 9 = 27\n",
      "==========\n",
      "4 단\n",
      "4 * 1 = 4\n",
      "4 * 2 = 8\n",
      "4 * 3 = 12\n",
      "4 * 4 = 16\n",
      "4 * 5 = 20\n",
      "4 * 6 = 24\n",
      "4 * 7 = 28\n",
      "4 * 8 = 32\n",
      "4 * 9 = 36\n",
      "==========\n",
      "5 단\n",
      "5 * 1 = 5\n",
      "5 * 2 = 10\n",
      "5 * 3 = 15\n",
      "5 * 4 = 20\n",
      "5 * 5 = 25\n",
      "5 * 6 = 30\n",
      "5 * 7 = 35\n",
      "5 * 8 = 40\n",
      "5 * 9 = 45\n",
      "==========\n",
      "6 단\n",
      "6 * 1 = 6\n",
      "6 * 2 = 12\n",
      "6 * 3 = 18\n",
      "6 * 4 = 24\n",
      "6 * 5 = 30\n",
      "6 * 6 = 36\n",
      "6 * 7 = 42\n",
      "6 * 8 = 48\n",
      "6 * 9 = 54\n",
      "==========\n",
      "7 단\n",
      "7 * 1 = 7\n",
      "7 * 2 = 14\n",
      "7 * 3 = 21\n",
      "7 * 4 = 28\n",
      "7 * 5 = 35\n",
      "7 * 6 = 42\n",
      "7 * 7 = 49\n",
      "7 * 8 = 56\n",
      "7 * 9 = 63\n",
      "==========\n",
      "8 단\n",
      "8 * 1 = 8\n",
      "8 * 2 = 16\n",
      "8 * 3 = 24\n",
      "8 * 4 = 32\n",
      "8 * 5 = 40\n",
      "8 * 6 = 48\n",
      "8 * 7 = 56\n",
      "8 * 8 = 64\n",
      "8 * 9 = 72\n",
      "==========\n",
      "9 단\n",
      "9 * 1 = 9\n",
      "9 * 2 = 18\n",
      "9 * 3 = 27\n",
      "9 * 4 = 36\n",
      "9 * 5 = 45\n",
      "9 * 6 = 54\n",
      "9 * 7 = 63\n",
      "9 * 8 = 72\n",
      "9 * 9 = 81\n",
      "==========\n"
     ]
    }
   ],
   "execution_count": 8
  },
  {
   "cell_type": "markdown",
   "source": [
    "# 문제\n",
    "1. 정수를 입력받아서 그 횟수만큼 'Hello'를 출력하는 프로그램을 구현하세요.\n",
    "0 이하의 값이 입력되면 '잘못된 입력입니다.'라는 오류 메시지를 출력하세요.\n",
    "\n",
    "실행 예)\n",
    "정수를 입력하세요 >>> 5\n",
    "1번째 Hello\n",
    "2번째 Hello\n",
    "3번째 Hello\n",
    "4번째 Hello\n",
    "5번째 Hello\n",
    "\n",
    "----------------\n",
    "\n",
    "정수를 입력하세요 >>> -5\n",
    "잘못된 입력입니다.\n",
    "\n",
    "3. 커피 1잔을 300원에 판매하는 커피자판기가 있습니다. \n",
    "이 커피자판기에 돈을 넣으면 자판기에서 뽑을 수 있는 커피가 몇 잔이며 잔돈은 얼마인지를 함께 출력하는 프로그램을 구현하세요.\n",
    "\n",
    "실행 예)\n",
    "자판기에 얼마를 넣을까요? >>> 1400\n",
    "커피 1잔, 잔돈 1100원\n",
    "커피 2잔, 잔돈 800원\n",
    "커피 3잔, 잔돈 500원\n",
    "커피 4잔, 잔돈 200원\n",
    "\n",
    "4. 사용자에게 0부터 9사이의 정수를 입력받습니다. \n",
    "이 때 입력된 정수가 5개가 될 때까지 입력받는 프로그램을 구현하세요.\n",
    "이 때 중복된 값이 입력되면 해당 입력은 무시하세요.\n",
    "\n",
    "실행 예)\n",
    "0 ~ 9 사이 정수를 입력하세요 >>> 0\n",
    "0 ~ 9 사이 정수를 입력하세요 >>> 0\n",
    "0 ~ 9 사이 정수를 입력하세요 >>> 0\n",
    "0 ~ 9 사이 정수를 입력하세요 >>> 1\n",
    "0 ~ 9 사이 정수를 입력하세요 >>> 2\n",
    "0 ~ 9 사이 정수를 입력하세요 >>> 5\n",
    "0 ~ 9 사이 정수를 입력하세요 >>> 3\n",
    "모두 입력되었습니다.\n",
    "입력된 값은 {0, 1, 2, 3, 5}입니다."
   ],
   "metadata": {
    "collapsed": false
   },
   "id": "ee89c5803f751abc"
  },
  {
   "cell_type": "code",
   "source": [
    "# 문제 1\n",
    "inputUser = int(input('정수를 입력하세요 >>> '))\n",
    "\n",
    "if inputUser <= 0:\n",
    "    print('잘못된 입력입니다.')\n",
    "else:\n",
    "    n = 1\n",
    "    while n <= inputUser:\n",
    "        print(f'{n}번째 Hello')\n",
    "        n += 1\n",
    "        # inputUser -= 1\n"
   ],
   "metadata": {
    "collapsed": false,
    "ExecuteTime": {
     "end_time": "2024-10-24T15:26:36.083291Z",
     "start_time": "2024-10-24T15:26:34.446673Z"
    }
   },
   "id": "2fbe825b238ac26d",
   "outputs": [
    {
     "name": "stdout",
     "output_type": "stream",
     "text": [
      "1번째 Hello\n",
      "2번째 Hello\n",
      "3번째 Hello\n",
      "4번째 Hello\n",
      "5번째 Hello\n",
      "6번째 Hello\n",
      "7번째 Hello\n",
      "8번째 Hello\n",
      "9번째 Hello\n",
      "10번째 Hello\n",
      "11번째 Hello\n",
      "12번째 Hello\n",
      "13번째 Hello\n",
      "14번째 Hello\n",
      "15번째 Hello\n",
      "16번째 Hello\n",
      "17번째 Hello\n",
      "18번째 Hello\n",
      "19번째 Hello\n",
      "20번째 Hello\n",
      "21번째 Hello\n",
      "22번째 Hello\n",
      "23번째 Hello\n",
      "24번째 Hello\n",
      "25번째 Hello\n",
      "26번째 Hello\n",
      "27번째 Hello\n",
      "28번째 Hello\n",
      "29번째 Hello\n",
      "30번째 Hello\n",
      "31번째 Hello\n",
      "32번째 Hello\n",
      "33번째 Hello\n",
      "34번째 Hello\n",
      "35번째 Hello\n",
      "36번째 Hello\n",
      "37번째 Hello\n",
      "38번째 Hello\n",
      "39번째 Hello\n",
      "40번째 Hello\n",
      "41번째 Hello\n",
      "42번째 Hello\n",
      "43번째 Hello\n",
      "44번째 Hello\n",
      "45번째 Hello\n",
      "46번째 Hello\n",
      "47번째 Hello\n",
      "48번째 Hello\n",
      "49번째 Hello\n",
      "50번째 Hello\n",
      "51번째 Hello\n",
      "52번째 Hello\n",
      "53번째 Hello\n",
      "54번째 Hello\n",
      "55번째 Hello\n",
      "56번째 Hello\n",
      "57번째 Hello\n",
      "58번째 Hello\n",
      "59번째 Hello\n",
      "60번째 Hello\n",
      "61번째 Hello\n",
      "62번째 Hello\n",
      "63번째 Hello\n",
      "64번째 Hello\n",
      "65번째 Hello\n",
      "66번째 Hello\n",
      "67번째 Hello\n"
     ]
    }
   ],
   "execution_count": 9
  },
  {
   "cell_type": "code",
   "source": [
    "# 문제 3\n",
    "\n",
    "money = int(input('자판기에 얼마를 넣을까요? >>> '))\n",
    "coffee = 0\n",
    "price = 300\n",
    "if money < price:  # 추가 기능 : 초기 금액이 300원보다 적을 경우\n",
    "    print('잔액이 부족합니다.')\n",
    "while money >= price:\n",
    "    coffee += 1\n",
    "    money -= price\n",
    "    print(f'커피{coffee}잔, 잔동 {money}원')"
   ],
   "metadata": {
    "collapsed": false,
    "ExecuteTime": {
     "end_time": "2024-10-24T15:26:38.697356Z",
     "start_time": "2024-10-24T15:26:36.252427Z"
    }
   },
   "id": "bdaa407fd8fe4c2",
   "outputs": [
    {
     "name": "stdout",
     "output_type": "stream",
     "text": [
      "커피1잔, 잔동 44144원\n",
      "커피2잔, 잔동 43844원\n",
      "커피3잔, 잔동 43544원\n",
      "커피4잔, 잔동 43244원\n",
      "커피5잔, 잔동 42944원\n",
      "커피6잔, 잔동 42644원\n",
      "커피7잔, 잔동 42344원\n",
      "커피8잔, 잔동 42044원\n",
      "커피9잔, 잔동 41744원\n",
      "커피10잔, 잔동 41444원\n",
      "커피11잔, 잔동 41144원\n",
      "커피12잔, 잔동 40844원\n",
      "커피13잔, 잔동 40544원\n",
      "커피14잔, 잔동 40244원\n",
      "커피15잔, 잔동 39944원\n",
      "커피16잔, 잔동 39644원\n",
      "커피17잔, 잔동 39344원\n",
      "커피18잔, 잔동 39044원\n",
      "커피19잔, 잔동 38744원\n",
      "커피20잔, 잔동 38444원\n",
      "커피21잔, 잔동 38144원\n",
      "커피22잔, 잔동 37844원\n",
      "커피23잔, 잔동 37544원\n",
      "커피24잔, 잔동 37244원\n",
      "커피25잔, 잔동 36944원\n",
      "커피26잔, 잔동 36644원\n",
      "커피27잔, 잔동 36344원\n",
      "커피28잔, 잔동 36044원\n",
      "커피29잔, 잔동 35744원\n",
      "커피30잔, 잔동 35444원\n",
      "커피31잔, 잔동 35144원\n",
      "커피32잔, 잔동 34844원\n",
      "커피33잔, 잔동 34544원\n",
      "커피34잔, 잔동 34244원\n",
      "커피35잔, 잔동 33944원\n",
      "커피36잔, 잔동 33644원\n",
      "커피37잔, 잔동 33344원\n",
      "커피38잔, 잔동 33044원\n",
      "커피39잔, 잔동 32744원\n",
      "커피40잔, 잔동 32444원\n",
      "커피41잔, 잔동 32144원\n",
      "커피42잔, 잔동 31844원\n",
      "커피43잔, 잔동 31544원\n",
      "커피44잔, 잔동 31244원\n",
      "커피45잔, 잔동 30944원\n",
      "커피46잔, 잔동 30644원\n",
      "커피47잔, 잔동 30344원\n",
      "커피48잔, 잔동 30044원\n",
      "커피49잔, 잔동 29744원\n",
      "커피50잔, 잔동 29444원\n",
      "커피51잔, 잔동 29144원\n",
      "커피52잔, 잔동 28844원\n",
      "커피53잔, 잔동 28544원\n",
      "커피54잔, 잔동 28244원\n",
      "커피55잔, 잔동 27944원\n",
      "커피56잔, 잔동 27644원\n",
      "커피57잔, 잔동 27344원\n",
      "커피58잔, 잔동 27044원\n",
      "커피59잔, 잔동 26744원\n",
      "커피60잔, 잔동 26444원\n",
      "커피61잔, 잔동 26144원\n",
      "커피62잔, 잔동 25844원\n",
      "커피63잔, 잔동 25544원\n",
      "커피64잔, 잔동 25244원\n",
      "커피65잔, 잔동 24944원\n",
      "커피66잔, 잔동 24644원\n",
      "커피67잔, 잔동 24344원\n",
      "커피68잔, 잔동 24044원\n",
      "커피69잔, 잔동 23744원\n",
      "커피70잔, 잔동 23444원\n",
      "커피71잔, 잔동 23144원\n",
      "커피72잔, 잔동 22844원\n",
      "커피73잔, 잔동 22544원\n",
      "커피74잔, 잔동 22244원\n",
      "커피75잔, 잔동 21944원\n",
      "커피76잔, 잔동 21644원\n",
      "커피77잔, 잔동 21344원\n",
      "커피78잔, 잔동 21044원\n",
      "커피79잔, 잔동 20744원\n",
      "커피80잔, 잔동 20444원\n",
      "커피81잔, 잔동 20144원\n",
      "커피82잔, 잔동 19844원\n",
      "커피83잔, 잔동 19544원\n",
      "커피84잔, 잔동 19244원\n",
      "커피85잔, 잔동 18944원\n",
      "커피86잔, 잔동 18644원\n",
      "커피87잔, 잔동 18344원\n",
      "커피88잔, 잔동 18044원\n",
      "커피89잔, 잔동 17744원\n",
      "커피90잔, 잔동 17444원\n",
      "커피91잔, 잔동 17144원\n",
      "커피92잔, 잔동 16844원\n",
      "커피93잔, 잔동 16544원\n",
      "커피94잔, 잔동 16244원\n",
      "커피95잔, 잔동 15944원\n",
      "커피96잔, 잔동 15644원\n",
      "커피97잔, 잔동 15344원\n",
      "커피98잔, 잔동 15044원\n",
      "커피99잔, 잔동 14744원\n",
      "커피100잔, 잔동 14444원\n",
      "커피101잔, 잔동 14144원\n",
      "커피102잔, 잔동 13844원\n",
      "커피103잔, 잔동 13544원\n",
      "커피104잔, 잔동 13244원\n",
      "커피105잔, 잔동 12944원\n",
      "커피106잔, 잔동 12644원\n",
      "커피107잔, 잔동 12344원\n",
      "커피108잔, 잔동 12044원\n",
      "커피109잔, 잔동 11744원\n",
      "커피110잔, 잔동 11444원\n",
      "커피111잔, 잔동 11144원\n",
      "커피112잔, 잔동 10844원\n",
      "커피113잔, 잔동 10544원\n",
      "커피114잔, 잔동 10244원\n",
      "커피115잔, 잔동 9944원\n",
      "커피116잔, 잔동 9644원\n",
      "커피117잔, 잔동 9344원\n",
      "커피118잔, 잔동 9044원\n",
      "커피119잔, 잔동 8744원\n",
      "커피120잔, 잔동 8444원\n",
      "커피121잔, 잔동 8144원\n",
      "커피122잔, 잔동 7844원\n",
      "커피123잔, 잔동 7544원\n",
      "커피124잔, 잔동 7244원\n",
      "커피125잔, 잔동 6944원\n",
      "커피126잔, 잔동 6644원\n",
      "커피127잔, 잔동 6344원\n",
      "커피128잔, 잔동 6044원\n",
      "커피129잔, 잔동 5744원\n",
      "커피130잔, 잔동 5444원\n",
      "커피131잔, 잔동 5144원\n",
      "커피132잔, 잔동 4844원\n",
      "커피133잔, 잔동 4544원\n",
      "커피134잔, 잔동 4244원\n",
      "커피135잔, 잔동 3944원\n",
      "커피136잔, 잔동 3644원\n",
      "커피137잔, 잔동 3344원\n",
      "커피138잔, 잔동 3044원\n",
      "커피139잔, 잔동 2744원\n",
      "커피140잔, 잔동 2444원\n",
      "커피141잔, 잔동 2144원\n",
      "커피142잔, 잔동 1844원\n",
      "커피143잔, 잔동 1544원\n",
      "커피144잔, 잔동 1244원\n",
      "커피145잔, 잔동 944원\n",
      "커피146잔, 잔동 644원\n",
      "커피147잔, 잔동 344원\n",
      "커피148잔, 잔동 44원\n"
     ]
    }
   ],
   "execution_count": 10
  },
  {
   "cell_type": "code",
   "source": [
    "# 문제 4 - set 을 이용한 방법\n",
    "numbers = set()\n",
    "while len(numbers) < 5:  # numbers에 저장된 요소의 개수\n",
    "    n = int(input('0 ~ 9 사이 정수를 입력하세요 >>> '))\n",
    "    if n > 9 or n < 0:\n",
    "        print('0~9사이의 정수를 입력해주세요.')\n",
    "        continue\n",
    "    numbers.add(n)  # n이 중복된 값은 등록이 안됨\n",
    "print('모두 입력되었습니다.')\n",
    "print(f'입력된 값은 {numbers}')"
   ],
   "metadata": {
    "collapsed": false,
    "ExecuteTime": {
     "end_time": "2024-10-24T15:26:44.328481Z",
     "start_time": "2024-10-24T15:26:38.761183Z"
    }
   },
   "id": "57127a2ed4ca44c5",
   "outputs": [
    {
     "name": "stdout",
     "output_type": "stream",
     "text": [
      "모두 입력되었습니다.\n",
      "입력된 값은 {3, 4, 5, 6, 7}\n"
     ]
    }
   ],
   "execution_count": 11
  },
  {
   "cell_type": "code",
   "source": [
    "# set 개선\n",
    "my_set = set()\n",
    "while len(my_set) < 5:\n",
    "    n = int(input('0 ~ 9 사이 정수를 입력하세요 >>> '))\n",
    "    if 0 <= n <= 9:\n",
    "        if n in my_set:\n",
    "            print('이미 입력된 값입니다. 다른 값을 입력하세요.')  # 중복이면 추가는 안되지만. 중복입력이라고 문구를 추가\n",
    "        else:\n",
    "            my_set.add(n)\n",
    "    else:\n",
    "        print('0~9사이의 정수를 입력하세요')\n",
    "print('모두 입력되었습니다.')\n",
    "print(f'입력된 값은 {sorted(list(my_set))}')"
   ],
   "metadata": {
    "collapsed": false,
    "ExecuteTime": {
     "end_time": "2024-10-24T15:26:50.017600Z",
     "start_time": "2024-10-24T15:26:44.387221Z"
    }
   },
   "id": "665c3178295abd03",
   "outputs": [
    {
     "name": "stdout",
     "output_type": "stream",
     "text": [
      "0~9사이의 정수를 입력하세요\n",
      "모두 입력되었습니다.\n",
      "입력된 값은 [0, 1, 2, 3, 8]\n"
     ]
    }
   ],
   "execution_count": 12
  },
  {
   "cell_type": "code",
   "source": [
    "my_list = []\n",
    "while len(my_list) < 5:\n",
    "    n = int(input('0 ~ 9 사이 정수를 입력하세요 >>> '))\n",
    "    if 0 <= n <= 9:  # 0~9 사이의 조건으로 변경\n",
    "        if n not in my_list:  # 리스트에 없는 경우에만 추가\n",
    "            my_list.append(n)\n",
    "        else:\n",
    "            print('이미 입력된 값입니다. 다른 값을 입력하세요.')\n",
    "    else:\n",
    "        print('0~9사이의 정수를 입력하세요')  # 범위를 벗어난 입력에 대한 경고\n",
    "print('모두 입력되었습니다.')\n",
    "print(f'입력된 값은 {my_list}')"
   ],
   "metadata": {
    "collapsed": false,
    "ExecuteTime": {
     "end_time": "2024-10-24T15:35:54.409856Z",
     "start_time": "2024-10-24T15:35:40.680096Z"
    }
   },
   "id": "970accfa04333a7c",
   "outputs": [
    {
     "name": "stdout",
     "output_type": "stream",
     "text": [
      "0~9사이의 정수를 입력하세요\n",
      "이미 입력된 값입니다. 다른 값을 입력하세요.\n",
      "모두 입력되었습니다.\n",
      "입력된 값은 [5, 3, 6, 1, 2]\n"
     ]
    }
   ],
   "execution_count": 22
  },
  {
   "cell_type": "code",
   "source": [
    "# 문제 4 - 리스트를 이용한방법\n",
    "numbers = []\n",
    "while len(numbers) < 5:  # numbers에 저장된 요소의 개수\n",
    "    n = int(input('0 ~ 9 사이 정수를 입력하세요 >>> '))\n",
    "    if not n in numbers:\n",
    "        numbers.append(n)  # n이 중복된 값은 등록이 안됨\n",
    "print('모두 입력되었습니다.')\n",
    "print(f'입력된 값은 {numbers}')"
   ],
   "metadata": {
    "collapsed": false
   },
   "id": "e3857463b445ab31",
   "outputs": [],
   "execution_count": null
  },
  {
   "cell_type": "markdown",
   "source": [
    "# for 문\n",
    "기본 구조\n",
    "for 변수 in 반복가능객체 :\n",
    "    반복실행문"
   ],
   "metadata": {
    "collapsed": false
   },
   "id": "3b32f9ad9e4bc0a"
  },
  {
   "cell_type": "code",
   "source": [
    "for n in [2, 4, 6]:  # 반복될 떄마다 순서대로 전달\n",
    "    print(n)\n",
    "\n",
    "    # 출력\n",
    "    2\n",
    "    4\n",
    "    6"
   ],
   "metadata": {
    "collapsed": false
   },
   "id": "38c528beb33be966",
   "outputs": [],
   "execution_count": null
  },
  {
   "cell_type": "code",
   "source": [
    "# 1. 문자열\n",
    "# for 문자 in 문자열 :\n",
    "#    반복실행문\n",
    "\n",
    "for ch in 'Hello':  # 문자열 내부의 문자를 하나씩 꺼내서 사용할 수 있슴\n",
    "    print(ch)\n",
    "# 출력\n",
    "# e\n",
    "# l\n",
    "# l\n",
    "# o\n",
    "\n",
    "for item in ['가위', '바위', '보']:\n",
    "    print(item)\n",
    "# 출력\n",
    "# 가위\n",
    "# 바위\n",
    "# 보\n",
    "\n",
    "# 만약 인덱스 번호를 같이 출력 해야 한다면? 어떻게 해야 될까?\n",
    "# 인덱스 번호 사용 1) 변수 생성을 통한 인덱스 출력. 비추천\n",
    "n = 0\n",
    "for item in ['가위', '바위', '보']:\n",
    "    print(f'{n} {item}')\n",
    "    n += 1\n",
    "# 0 가위\n",
    "# 1 바위\n",
    "# 2 보\n",
    "# 인덱스 번호 사용 2) enumerate() 사용. 추천\n",
    "# 파이썬에서는 이넘레이트를 지원하니까 이거 쓰면됨\n",
    "\n",
    "li = ['가위', '바위', '보']\n",
    "for i, v in enumerate(li):  # i:index, v: 요소의 값 value\n",
    "    print(f'{i} {v}')\n",
    "# 0 가위\n",
    "# 1 바위\n",
    "# 2 보"
   ],
   "metadata": {
    "collapsed": false
   },
   "id": "73256cb2e7a6d322",
   "outputs": [],
   "execution_count": null
  },
  {
   "cell_type": "code",
   "source": [
    "# 리스트 내포\n",
    "# 리스트 생성할 때 for 문을 유용하게 사용할 수 있음\n",
    "# 기본 형식\n",
    "# 리스트 = [표현식 for 변수 in 반복가능객체]\n",
    "li = [n * 2 for n in [1, 2, 3]]\n",
    "\n",
    "print(li)  # [2, 4, 6]\n",
    "\n",
    "# 이런식으로도 가능하다\n",
    "li = [n * 2 for n in [1, 2, 3, 4, 5] if n % 2 == 1]  # 1, 3, 5 만 추출\n",
    "\n",
    "print(li)  # [2, 6, 10]\n",
    "\n",
    "# 리스트 내포를 사용하지 않으면\n",
    "list = []\n",
    "for n in [1, 2, 3, 4, 5]:\n",
    "    if n % 2 == 1:\n",
    "        li.append(n * 2)\n",
    "print(li)  # 출력 [2, 6, 10, 2, 6, 10]"
   ],
   "metadata": {
    "collapsed": false
   },
   "id": "40dd74cc9e2b116c",
   "outputs": [],
   "execution_count": null
  },
  {
   "cell_type": "code",
   "source": [
    "# 3. 튜플\n",
    "# 기본 형식\n",
    "# for 요소 in (튜플) :\n",
    "#   반복실행문\n",
    "\n",
    "four_seasons = ('Spring', 'Summer', 'Autumn', 'Winter')\n",
    "for season in four_seasons:\n",
    "    print(season)\n",
    "# Spring\n",
    "# Summer\n",
    "# Autumn\n",
    "# Winter"
   ],
   "metadata": {
    "collapsed": false
   },
   "id": "cfe9cc2042cce976",
   "outputs": [],
   "execution_count": null
  },
  {
   "cell_type": "code",
   "source": [
    "# 4. range() 함수"
   ],
   "metadata": {
    "collapsed": false
   },
   "id": "378cc52a8ce7f89e",
   "outputs": [],
   "execution_count": null
  },
  {
   "cell_type": "code",
   "source": [
    "print(tuple(range(1, 6)))  # (1,2,3,4,5)\n",
    "print(tuple(range(1, 10)))  # (1, 2, 3, 4, 5, 6, 7, 8, 9)\n",
    "print(tuple(range(6)))  # (0, 1, 2, 3, 4, 5)\n",
    "print(tuple(range(1, 10, 2)))  # (1, 3, 5, 7, 9)"
   ],
   "metadata": {
    "collapsed": false
   },
   "id": "f876c7410641243e",
   "outputs": [],
   "execution_count": null
  },
  {
   "cell_type": "code",
   "source": [
    "for n in [1, 2, 3, 4, 5, 6, 7, 8, 9, 10]:\n",
    "    print(n)\n",
    "\n",
    "# 아래와 같이 변경 가능\n",
    "for n in range(1, 11):\n",
    "    print(n)\n",
    "# 1\n",
    "# 2\n",
    "# 3\n",
    "# 4\n",
    "# 5\n",
    "# 6\n",
    "# 7\n",
    "# 8\n",
    "# 9\n",
    "# 10\n",
    "\n",
    "# range() 함수를 이용해 생성한 값을 사용하지 않는 경우\n",
    "for n in range(10):  # 10번 반복 0,1,2,3,4,5,6,8,9\n",
    "    print('Hello')\n",
    "# Hello\n",
    "# Hello\n",
    "# Hello\n",
    "# Hello\n",
    "# Hello\n",
    "# Hello\n",
    "# Hello\n",
    "# Hello\n",
    "# Hello\n",
    "# Hello"
   ],
   "metadata": {
    "collapsed": false
   },
   "id": "cb22baf82d033d88",
   "outputs": [],
   "execution_count": null
  },
  {
   "cell_type": "code",
   "source": [
    "# 문제\n",
    "# 문자열로 비밀번호를 입력 받아 숫자와 문자가 모두 포함이 되었는지 확인\n",
    "\n",
    "pwd = input('비밀번호를 입력하세요 >>> ')\n",
    "ch_count = 0  # 문자의 개수 저장\n",
    "num_count = 0  # 숫자의 개수 저장\n",
    "\n",
    "for ch in pwd:  # 반복 가능 객체가 문자열이니까 한 글자씩 반복\n",
    "    if ch.isalpha():  # ch가 문자인 경우 True 를 반환\n",
    "        ch_count += 1  #is로 시작하는 함수 특징 : 반환값이 불린이다. is뒤 문자의 상태가 맞으면 true/ 틀리면 false\n",
    "    elif ch.isnumeric():  # ch가 숫자인 경우 True 를 반환\n",
    "        num_count += 1  # 숫자가 포함된 횟수만큼 더함\n",
    "\n",
    "if ch_count > 0 and num_count > 0:  # 문자와 숫자를 모두 포함한 경우\n",
    "    print('가능한 비밀번호 입니다.')\n",
    "else:\n",
    "    print('불가능한 비밀번호 입니다.')\n",
    "\n",
    "print(ch_count, num_count)  # 테스트 코드\n"
   ],
   "metadata": {
    "collapsed": false
   },
   "id": "55ef7fa5fd0f9ee0",
   "outputs": [],
   "execution_count": null
  },
  {
   "cell_type": "code",
   "source": [
    "pwd = input('비밀번호를 입력하세요 >>> ')\n",
    "ch_count = 0  # 문자의 개수 저장\n",
    "num_count = 0  # 숫자의 개수 저장\n",
    "\n",
    "for ch in pwd:  # 반복 가능 객체가 문자열이니까 한 글자씩 반복\n",
    "    print(ch)"
   ],
   "metadata": {
    "collapsed": false
   },
   "id": "a4fd7fb42c94a79e",
   "outputs": [],
   "execution_count": null
  },
  {
   "cell_type": "code",
   "source": [
    "# 출력하고자 하는 구구단을 입력받아 구구단을 출력\n",
    "dan = int(input('출력할 구구단을 입력하세요 >>> '))\n",
    "for n in range(1, 10):\n",
    "    print('{} x {} = {}'.format(dan, n, dan * n))"
   ],
   "metadata": {
    "collapsed": false
   },
   "id": "7c237a719f7dc4f4",
   "outputs": [],
   "execution_count": null
  },
  {
   "cell_type": "code",
   "source": [
    "dan = 2  # 구구단의 단을 의미\n",
    "# while dan <= 9:  # 9단 까지 반복해서 처리\n",
    "#     n = 1\n",
    "#         n += 1\n",
    "#     dan += 1\n",
    "#     \n",
    "# dan =2\n",
    "for dan in range(1, 10):\n",
    "    print(f'{dan}단')\n",
    "    for n in range(1, 10):  # 모든 dan 은 변수 1~9 까지 사용 가능\n",
    "        print(f'{dan} X {n} = {dan * n}')\n",
    "    print('=' * 10)"
   ],
   "metadata": {
    "collapsed": false
   },
   "id": "768b0276d8390fa8",
   "outputs": [],
   "execution_count": null
  },
  {
   "cell_type": "markdown",
   "source": [
    "1. 1부터 5사이에 존재하는 모든 정수를 역순으로 출력하는 프로그램을 구현하세요.\n",
    "\n",
    "실행 예)\n",
    "5\n",
    "4\n",
    "3\n",
    "2\n",
    "1\n",
    "\n",
    "\n",
    "2. 사용자로부터 임의의 양의 정수를 하나 입력받은 뒤 1부터 입력받은 정수까지 모든 정수의 합계를 출력하는 프로그램을 구현하세요.\n",
    "\n",
    "실행 예)\n",
    "임의의 양수를 입력하세요 >>> 5\n",
    "1부터 5사이의 모든 정수의 합계는 15입니다.\n",
    "\n",
    "\n",
    "3. 사용자로부터 임의의 양의 정수를 하나 입력 받은 뒤 그 숫자만큼 '과일 이름'을 입력받아 'basket' 리스트에\n",
    "저장하는 프로그램을 구현하세요.\n",
    "\n",
    "실행 예)\n",
    "몇 개의 과일을 보관할까요? >>> 5\n",
    "1번째 과일을 입력하세요 >>> 사과\n",
    "2번째 과일을 입력하세요 >>> 바나나\n",
    "3번째 과일을 입력하세요 >>> 체리\n",
    "4번째 과일을 입력하세요 >>> 오렌지\n",
    "5번째 과일을 입력하세요 >>> 망고\n",
    "입력 받은 과일들은 ['사과', '바나나', '체리', '오렌지', '망고']입니다."
   ],
   "metadata": {
    "collapsed": false
   },
   "id": "587165cfcb8ca06d"
  },
  {
   "cell_type": "code",
   "source": [
    "# 1번\n",
    "for n in range(5, 0, -1):\n",
    "    print(n)\n",
    "\n",
    "for n in range(1, -6):\n",
    "    print(n)"
   ],
   "metadata": {
    "collapsed": false
   },
   "id": "546480e367353952",
   "outputs": [],
   "execution_count": null
  },
  {
   "cell_type": "code",
   "source": [
    "# 2번\n",
    "inputuser3 = int(input('임의의 양수를 입력하세요 >>> '))\n",
    "sum = 0\n",
    "\n",
    "for n in range(1, inputuser3 + 1):\n",
    "    sum += n\n",
    "\n",
    "print(f'1부터 {inputuser3}까지 모든 정수의 합계는 {sum}입니다.')"
   ],
   "metadata": {
    "collapsed": false
   },
   "id": "37655dcdc0877e85",
   "outputs": [],
   "execution_count": null
  },
  {
   "cell_type": "code",
   "source": [
    "inputuser4 = int(input('몇 개의 과일을 보관할까요? >>> '))\n",
    "basket = []\n",
    "for n in range(1, inputuser4 + 1):\n",
    "    basket.append(input('f{n}번째 과일을 입력하세요 >>> '))\n",
    "print(f'입력 받은 과일들은 {basket}')"
   ],
   "metadata": {
    "collapsed": false
   },
   "id": "c4662c4cb4d95261",
   "outputs": [],
   "execution_count": null
  },
  {
   "cell_type": "code",
   "source": [
    "# 3번\n",
    "basket = []\n",
    "count = int(input('몇 개의 과일을 보관할까요? >>> '))\n",
    "for n in range(1, count + 1):\n",
    "    basket.append(input(f'{n}번째 과일을 입력하세요 >>> '))\n",
    "print(f'입력 받은 과일들은 {basket}입니다.')\n",
    "\n",
    "# 다른 경우\n",
    "basket = []\n",
    "count = int(input('몇 개의 과일을 보관할까요? >>> '))\n",
    "for n in range(count):\n",
    "    fruit = input(f'{n + 1}번째 과일을 입력하세요 >>> ')\n",
    "    basket.append(fruit)\n",
    "print(f'입력 받은 과일들은 {basket}입니다.')\n"
   ],
   "metadata": {
    "collapsed": false
   },
   "id": "87e0f00e40c98223",
   "outputs": [],
   "execution_count": null
  },
  {
   "cell_type": "code",
   "source": [
    "# 비시퀀스 - 반복 가능 객체"
   ],
   "metadata": {
    "collapsed": false
   },
   "id": "70fac90a27f4aca5",
   "outputs": [],
   "execution_count": null
  },
  {
   "cell_type": "code",
   "source": [
    "# 1. 세트 set\n",
    "# 비시퀀스 자료형이기 때문에 저장된 요소들 사이에 순서가 없음\n",
    "\n",
    "# 기본형식\n",
    "# for 요소 in {세트}:\n",
    "#    반복실행문\n",
    "\n",
    "for item in {'가위', '바위', '보'}:  # 순서가 지켜지지 않음\n",
    "    print(item)"
   ],
   "metadata": {
    "collapsed": false
   },
   "id": "4e1e0bff7b2870e4",
   "outputs": [],
   "execution_count": null
  },
  {
   "cell_type": "code",
   "source": [
    "# 2. 딕셔너리\n",
    "# key와 value 의 조합이라 다른 자료형과 다른 방식으로 사용을 함\n",
    "# 키만 출력\n",
    "person = {'name': '에밀리', 'age': 20}\n",
    "for item in person:\n",
    "    print(item)  # name age\n",
    "# 딕셔너리 특징\n",
    "# 키만 출력이 된다.\n",
    "# 출력\n",
    "# name\n",
    "# age\n",
    "\n",
    "\n",
    "# value 출력 방법 3가지\n",
    "for key, value in person.items():\n",
    "    print(f'{key} : {value}')\n",
    "# name : 에밀리\n",
    "# age : 20\n",
    "for key in person:\n",
    "    print(person[key])  # 에밀리 20\n",
    "# 에밀리\n",
    "# 20\n",
    "for key in person:  # get() 메소드를 이용해서 해당 key에 해당하는 value 값을 가져옴\n",
    "    print(person.get(key))  # 에밀리 20\n",
    "# 에밀리\n",
    "# 20\n"
   ],
   "metadata": {
    "collapsed": false
   },
   "id": "837f8352293944c1",
   "outputs": [],
   "execution_count": null
  },
  {
   "cell_type": "code",
   "source": [
    "# 영어 사전을 딕셔너리 자료형으로 구현하고\n",
    "# 영어 사전에 등록된 모든 단어와 그 단어의 의미를 출력\n",
    "eng_dict = {\n",
    "    'sun': '태양',\n",
    "    'moon': '달',\n",
    "    'star': '별',\n",
    "    'space': '우주'\n",
    "}\n",
    "for word in eng_dict:\n",
    "    print(f'{word}의 뜻: {eng_dict.get(word)}')"
   ],
   "metadata": {
    "collapsed": false
   },
   "id": "41e22a819cc4b3b0",
   "outputs": [],
   "execution_count": null
  },
  {
   "cell_type": "code",
   "source": [
    "# break 문\n",
    "n = 1\n",
    "while n <= 10:\n",
    "    print(n)\n",
    "    n += 1\n",
    "print(n)  # 11\n",
    "# 1\n",
    "# 2\n",
    "# 3\n",
    "# 4\n",
    "# 5\n",
    "# 6\n",
    "# 7\n",
    "# 8\n",
    "# 9\n",
    "# 10\n",
    "# 11\n",
    "\n",
    "n = 1\n",
    "while True:  # while문을 무한루프\n",
    "    print(n)\n",
    "    if n == 10:\n",
    "        break  # if 문에서 break 문을 작성 했지만 실제로 종료 되는 것은 while 문\n",
    "    n += 1\n",
    "print(n)  # 10\n",
    "\n",
    "# 1\n",
    "# 2\n",
    "# 3\n",
    "# 4\n",
    "# 5\n",
    "# 6\n",
    "# 7\n",
    "# 8\n",
    "# 9\n",
    "# 10\n",
    "# 10"
   ],
   "metadata": {
    "collapsed": false
   },
   "id": "d6b4e94b2678c785",
   "outputs": [],
   "execution_count": null
  },
  {
   "cell_type": "code",
   "source": [
    "while True:  # 무한 루프\n",
    "    city = input('대한민국의 수도는 어디인가요? >>> ')\n",
    "    city = city.strip().lower()  # 문자열의 양쪽끝에서 공백을 없앰 # 문자열을 소문자로 처리함\n",
    "    if city == '서울' or city == 'seoul':  # or city == 'SEOUL':  # 대소문자 모두 정답처리\n",
    "        print('정답입니다')\n",
    "        break  # 정답을 맞춰야 종료 \n",
    "    else:\n",
    "        print('오답입니다. 다시 시도하세요.')"
   ],
   "metadata": {
    "collapsed": false
   },
   "id": "463ca20b0b6a3b0c",
   "outputs": [],
   "execution_count": null
  },
  {
   "cell_type": "code",
   "source": [
    "# 종료 조건이 2가지인 경우 : 5개 까지 입력이 가능 혹은 그전에 그만 두려면 q 입력.\n",
    "hobbies = []  # 빈 리스트 생성\n",
    "while True:  # 무한루프\n",
    "    if len(hobbies) >= 5:\n",
    "        print('5개 입력!')\n",
    "        break\n",
    "    hobby = input('취미를 입력하세요(종료는 그냥 q) >>> ')\n",
    "    if hobby == 'q':\n",
    "        print('입력된 취미가 모두 저장되었습니다.')\n",
    "        break\n",
    "    else:\n",
    "        if hobby not in hobbies:\n",
    "            hobbies.append(hobby)\n",
    "        else:\n",
    "            print('중복입니다. 다시입력해 주세요.')\n",
    "\n",
    "print(hobbies)  # 전체 요소 출력\n"
   ],
   "metadata": {
    "collapsed": false
   },
   "id": "ef8e389027a190fd",
   "outputs": [],
   "execution_count": null
  },
  {
   "cell_type": "code",
   "source": [
    "# continue 문\n",
    "# 반복문의 시작 지점으로 제어의 흐름을 옮기는 역할\n",
    "# 반복에서 제외하거나 생략하고 싶은 코드가 존재할 때 사용\n",
    "\n",
    "# 1에서 100 사이의 모든 정수를 합치는데 3의 배수는 제외\n",
    "total = 0\n",
    "for a in range(1, 101):  # 1에서 100까지\n",
    "    if a % 3 == 0:  # 3의 배수인지 검사한다.\n",
    "        continue  # 3의 배수라면 넘어가기.\n",
    "    total += a\n",
    "print(total)  # 3367"
   ],
   "metadata": {
    "collapsed": false
   },
   "id": "aa3ddb0ee5d52971",
   "outputs": [],
   "execution_count": null
  },
  {
   "cell_type": "code",
   "source": [
    "# 과일 이름 5개를 fruits 리스트에 저장.\n",
    "# 2개는 미리 저장됨.\n",
    "# 중복된 과일 이름은 저장이 안됨.\n",
    "fruits = ['사과', '감귤']\n",
    "count = 3  # 입력 가능한 횟수\n",
    "\n",
    "while count > 0:\n",
    "    fruit = input('어떤 과일을 저장할까요? >>> ')\n",
    "\n",
    "    if fruit in fruits:  # fruits 리스트에 fruit 변수에 있는 값이 있다면\n",
    "        print('동일한 과일이 있습니다.')\n",
    "        continue  # while 문의 시작 지점으로 돌아가서 다시 과일 이름을 입력\n",
    "\n",
    "    fruits.append(fruit)  # 입력된 과일 이름을 리스트에 저장\n",
    "    count -= 1  # 입력 가능한 횟수가 줄어듬\n",
    "    print(f'입력이 {count}번 남았습니다.')\n",
    "\n",
    "print(f'5개 과일은 {fruits}입니다')"
   ],
   "metadata": {
    "collapsed": false
   },
   "id": "a3eb62d4b515a12a",
   "outputs": [],
   "execution_count": null
  },
  {
   "cell_type": "markdown",
   "source": [
    "1. 현재 10000원을 가지고 있습니다.\n",
    "얼마를 사용할 것인지 반복해서 입력받아 10000원을 모두 사용하세요.\n",
    "0 이하의 금액은 사용할 수 없으며, 현재 가지고 있는 돈보다 더 큰 금액도 사용할 수 없습니다.\n",
    "\n",
    "실행 예) \n",
    "현재 10000원이 있습니다.\n",
    "사용할 금액 입력 >>> 5000\n",
    "현재 5000원이 있습니다.\n",
    "사용할 금액 입력 >>> -5000\n",
    "0 이하의 금액은 사용할 수 없습니다.\n",
    "현재 5000원이 있습니다.\n",
    "사용할 금액 입력 >>> 6000\n",
    "1000원이 부족합니다.\n",
    "현재 5000원이 있습니다.\n",
    "사용할 금액 입력 >>> 4000\n",
    "현재 1000원이 있습니다.\n",
    "사용할 금액 입력 >>> 1000\n",
    "현재 0원이 있습니다.\n",
    "\n",
    "2. 영화 평점을 1부터 5 사이의 정수로 입력받아서 해당 평점만큼 *을 표시하는 프로그램을 구현하세요.\n",
    "표시할 수 있는 평점의 범위를 벗어나면 재입력을 요구하세요.\n",
    "\n",
    "실행 예)\n",
    "이번 영화의 평점을 입력하세요 >>> 10\n",
    "평점은 1~5 사이만 입력할 수 있습니다.\n",
    "이번 영화의 평점을 입력하세요 >>> -2\n",
    "평점은 1~5 사이만 입력할 수 있습니다.\n",
    "이번 영화의 평점을 입력하세요 >>> 5\n",
    "평점: *****\n",
    "\n",
    "\n",
    "3. 저장된 비밀번호를 맞히는 프로그램을 구현하세요.\n",
    "저장된 비밀번호는 'qwerty'이며 최대 5번 시도할 수 있습니다.\n",
    "5번 이내에 비밀번호를 맞히면 '비밀번호를 맞혔습니다.'를 출력하고 그렇지 않으면 '비밀번호 입력 횟수를 초과했습니다.'\n",
    "를 출력하세요.\n",
    "\n",
    "실행 예) \n",
    "비밀번호를 입력하세요 >>> 123456\n",
    "비밀번호를 입력하세요 >>> asdfgh\n",
    "비밀번호를 입력하세요 >>> qwerty\n",
    "비밀번호를 맞혔습니다.\n",
    "\n",
    "----------------------------\n",
    "\n",
    "비밀번호를 입력하세요 >>> 123456\n",
    "비밀번호를 입력하세요 >>> asdfgh\n",
    "비밀번호를 입력하세요 >>> zxcvbn\n",
    "비밀번호를 입력하세요 >>> 098765\n",
    "비밀번호를 입력하세요 >>> poiuyt\n",
    "비밀번호 입력 횟수를 초과했습니다."
   ],
   "metadata": {
    "collapsed": false
   },
   "id": "2dfec8a32fbf3928"
  },
  {
   "cell_type": "code",
   "source": [
    "money = 10000\n",
    "\n",
    "while money != 0:  # money!= 0으로 할 수 도 있다.\n",
    "    print(f'현재 {money}원이 있습니다.')\n",
    "    spend_money = int(input('사용할 금액 입력 >>> '))\n",
    "    # 출금 조건 확인\n",
    "    if spend_money <= 0:\n",
    "        print('0 이하의 금액은 사용할 수 없습니다.')\n",
    "        continue\n",
    "    elif spend_money > money:\n",
    "        print(f'{spend_money - money}원이 부족합니다.')\n",
    "        continue\n",
    "    money -= spend_money\n",
    "print('현재 0원이 있습니다.')"
   ],
   "metadata": {
    "collapsed": false
   },
   "id": "93a03bd5006d4674",
   "outputs": [],
   "execution_count": null
  },
  {
   "cell_type": "code",
   "source": [
    "# 내가 한거\n",
    "movie_star = int(input('이번 영화의 평점을 입력하세요 >>> '))\n",
    "star = '*'\n",
    "while True:\n",
    "    if movie_star < 1 or movie_star > 5:\n",
    "        print('평점은 1~5 사이만 입력할 수 있습니다.')\n",
    "        continue\n",
    "    else:\n",
    "        print('평점: {}'.format(star * movie_star))\n",
    "        break\n",
    "\n",
    "# break를 사용하는 경우\n",
    "while True:\n",
    "    grade = int(input('이번 영화의 평점을 입력하세요 >>> '))\n",
    "    if 1 <= grade <= 5:  # 평점의 정상 범위. 종료 조건\n",
    "        print(f'평점: {\"*\" * grade}')\n",
    "        break\n",
    "    print('평점은 1~5 사이만 입력할 수 있습니다.')\n",
    "\n",
    "# 종료 조건을 while에 쓰는 경우\n",
    "score = int(input('이번 영화의 평점을 입력하세요 >>> '))\n",
    "while score < 1 or score > 5:\n",
    "    print('평점은 1~5 사이만 입력할 수 있습니다.')\n",
    "    score = int(input('이번 영화의 평점을 입력하세요 >>> '))\n",
    "print(f'평점: {\"*\" * score}')"
   ],
   "metadata": {
    "collapsed": false
   },
   "id": "acfa5c8a10f5398c",
   "outputs": [],
   "execution_count": null
  },
  {
   "cell_type": "code",
   "source": [
    "count = 0\n",
    "password = 'qwerty'\n",
    "while True:\n",
    "    intput_user = input('비밀번호를 입력하세요 >>> ')\n",
    "    count += 1\n",
    "    # if len(intput_user) >=5:\n",
    "    if intput_user == password:\n",
    "        print('비밀번호를 맞혔습니다.')\n",
    "        break\n",
    "\n",
    "    if count == 5:\n",
    "        print('비밀번호 입력 횟수를 초과했습니다.')\n",
    "        break\n",
    "\n",
    "# 다른 경우 # 이경우가 가독성이 조금 더 좋음\n",
    "answer = 'qwerty'\n",
    "count = 5\n",
    "while True:\n",
    "    pw = input('비밀번호를 입력하세요 >>> ')\n",
    "    count -= 1\n",
    "    # if len(intput_user) >=5:\n",
    "    # 종료 조건이 2개인 경우에는 같이 적어주는 것이 가독성에 좋음\n",
    "    if pw == password:\n",
    "        print('비밀번호를 맞혔습니다.')\n",
    "        break\n",
    "\n",
    "    if count == 0:\n",
    "        print('비밀번호 입력 횟수를 초과했습니다.')\n",
    "        break\n"
   ],
   "metadata": {
    "collapsed": false
   },
   "id": "743856c968a69331",
   "outputs": [],
   "execution_count": null
  }
 ],
 "metadata": {
  "kernelspec": {
   "display_name": "Python 3",
   "language": "python",
   "name": "python3"
  },
  "language_info": {
   "codemirror_mode": {
    "name": "ipython",
    "version": 2
   },
   "file_extension": ".py",
   "mimetype": "text/x-python",
   "name": "python",
   "nbconvert_exporter": "python",
   "pygments_lexer": "ipython2",
   "version": "2.7.6"
  }
 },
 "nbformat": 4,
 "nbformat_minor": 5
}
