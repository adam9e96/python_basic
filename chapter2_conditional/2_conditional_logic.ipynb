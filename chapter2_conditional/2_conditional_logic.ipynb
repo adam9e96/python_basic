{
 "cells": [
  {
   "metadata": {},
   "cell_type": "code",
   "outputs": [],
   "execution_count": null,
   "source": [
    "\"\"\"\n",
    "1. 파일명 : 2_conditional_logic.ipynb\n",
    "2. 개요: 파이썬의 조건문 사용법 과 문제\n",
    "3. 작성자 : adam9e96\n",
    "4. 업데이트: 2024-10-22\n",
    "\"\"\""
   ],
   "id": "7be1a3312ecf5641"
  },
  {
   "cell_type": "code",
   "id": "initial_id",
   "metadata": {
    "collapsed": true,
    "ExecuteTime": {
     "end_time": "2024-10-22T16:09:35.433489Z",
     "start_time": "2024-10-22T16:09:26.713535Z"
    }
   },
   "source": [
    "\"\"\"\n",
    "문제1.\n",
    "1. 점수를 입력 받아 학점을 출력하는 프로그램을 구현하세요.\n",
    "학점은 점수가 \n",
    "100~ 90점이면 'A', \n",
    "89 ~ 80 점 이면 'B', \n",
    "79 ~ 70 점 이면 'C',\n",
    "69 ~ 60 점 이면 'D', \n",
    "59 ~ 0 점 이면 'F' 입니다.\n",
    "\n",
    "실행 예)\n",
    "점수를 입력하세요 >>> 95\n",
    "점수는 95점이고, 학점은 A 학점입니다.\n",
    "\"\"\"\n",
    "\n",
    "inputUser = int(input(\"점수를 입력 하세요 >>> \"))\n",
    "\n",
    "if 90 <= inputUser <= 100:  # and 연산자의 경우 이런 간결식도 가능하다.\n",
    "    grade = 'A'\n",
    "elif inputUser >= 80:\n",
    "    grade = 'B'\n",
    "elif inputUser >= 70:\n",
    "    grade = 'C'\n",
    "elif inputUser >= 60:\n",
    "    grade = 'D'\n",
    "else:\n",
    "    grade = 'F'\n",
    "\n",
    "print(f'점수는 {inputUser}점이고, 학점은 {grade}입니다.')"
   ],
   "outputs": [
    {
     "name": "stdout",
     "output_type": "stream",
     "text": [
      "점수는 5566점이고, 학점은 B입니다.\n"
     ]
    }
   ],
   "execution_count": 1
  },
  {
   "cell_type": "code",
   "source": [
    "\"\"\"\n",
    "문제2.\n",
    "2. 임의의 정수를 입력받은 뒤 해당 값이 3의 배수인지 아닌지 판별하는 프로그램을 구현하세요.\n",
    "\n",
    "실행 예)\n",
    "정수를 입력하세요 >>> 14\n",
    "14는 3의 배수가 아닙니다 \n",
    "-----------------------\n",
    "정수를 입력하세요 >>> 15\n",
    "15는 3의 배수입니다.\n",
    "\"\"\"\n",
    "\n",
    "inputUser2 = int(input('정수를 입력하세요 >>> '))\n",
    "\n",
    "if inputUser2 % 3 == 0:\n",
    "    result2 = '입니다.'\n",
    "else:\n",
    "    result2 = '가 아닙니다.'\n",
    "\n",
    "print(f'{inputUser2}는 3의 배수{result2}')\n",
    "\n",
    "# 2. 삼항 연산자 사용\n",
    "print(f'{inputUser2}는 3의 {\"배수입니다. \" if inputUser2 % 3 == 0 else \"배수가 아닙니다.\"}')"
   ],
   "metadata": {
    "collapsed": false,
    "ExecuteTime": {
     "end_time": "2024-10-22T16:09:37.773414Z",
     "start_time": "2024-10-22T16:09:35.650556Z"
    }
   },
   "id": "5bdaba93ce0b7d98",
   "outputs": [
    {
     "name": "stdout",
     "output_type": "stream",
     "text": [
      "77는 3의 배수가 아닙니다.\n",
      "77는 3의 배수가 아닙니다.\n"
     ]
    }
   ],
   "execution_count": 2
  },
  {
   "cell_type": "code",
   "source": [
    "\"\"\"\n",
    "문제3.\n",
    "3. 임의의 정수 3개를 입력 받아 그 중에서 가장 큰 수를 출력하는 프로그램을 구현하세요.\n",
    "\n",
    "실행 예)\n",
    "정수1 입력 >>> 3\n",
    "정수2 입력 >>> 1\n",
    "정수3 입력 >>> 2\n",
    "\"\"\"\n",
    "\n",
    "# 가장 큰 수는 3입니다. \n",
    "li = [\n",
    "    int(input('정수1 입력 >>> ')), int(input('정수2 입력 >>> ')), int(input('정수3 입력 >>> '))\n",
    "]\n",
    "print(li)  # 테스트\n",
    "\n",
    "# case 1\n",
    "print(f'가장 큰 수는 {max(li)}입니다.')\n",
    "\n",
    "# case 2\n",
    "if li[0] > li[1] and li[0] > li[2]:\n",
    "    result2 = li[0]\n",
    "elif li[0] < li[1] < li[2]:\n",
    "    result2 = li[2]\n",
    "else:\n",
    "    result2 = li[1]\n",
    "print(f'가장 큰 수는 {result2}입니다.')\n",
    "\n",
    "# case 3\n",
    "max_num = li[0]\n",
    "if li[1] > max_num:\n",
    "    max_num = li[1]\n",
    "if li[2] > max_num:\n",
    "    max_num = li[2]\n",
    "\n",
    "print(f'가장 큰 수는 {max_num}입니다.')\n"
   ],
   "metadata": {
    "collapsed": false,
    "ExecuteTime": {
     "end_time": "2024-10-22T16:09:41.656487Z",
     "start_time": "2024-10-22T16:09:38.376301Z"
    }
   },
   "id": "e61dcbbc737473eb",
   "outputs": [
    {
     "name": "stdout",
     "output_type": "stream",
     "text": [
      "[55, 55, 66]\n",
      "가장 큰 수는 66입니다.\n",
      "가장 큰 수는 55입니다.\n",
      "가장 큰 수는 66입니다.\n"
     ]
    }
   ],
   "execution_count": 3
  },
  {
   "metadata": {
    "ExecuteTime": {
     "end_time": "2024-10-22T16:17:10.253837Z",
     "start_time": "2024-10-22T16:17:08.894049Z"
    }
   },
   "cell_type": "code",
   "source": [
    "# 리스트 요소 합 구하기 프로그램\n",
    "\n",
    "# 입력 받은 문자열을 정수 리스트로 변환\n",
    "input_str = input('리스트를 입력하세요 >>> ')\n",
    "print(input_str)\n",
    "\n",
    "input_list = input_str.strip('[]').split(',')\n",
    "\n",
    "# 문자열 요소들을 정수로 변환\n",
    "numbers = [int(x) for x in input_list]\n",
    "\n",
    "# 리스트 요소들의 합 계산\n",
    "sum_of_elements = sum(numbers)\n",
    "\n",
    "# 결과 출력\n",
    "print(f'리스트 요소의 합은 {sum_of_elements}입니다.')\n"
   ],
   "id": "74d83b31296479b3",
   "outputs": [
    {
     "name": "stdout",
     "output_type": "stream",
     "text": [
      "314314\n",
      "리스트 요소의 합은 314314입니다.\n"
     ]
    }
   ],
   "execution_count": 8
  }
 ],
 "metadata": {
  "kernelspec": {
   "display_name": "Python 3",
   "language": "python",
   "name": "python3"
  },
  "language_info": {
   "codemirror_mode": {
    "name": "ipython",
    "version": 2
   },
   "file_extension": ".py",
   "mimetype": "text/x-python",
   "name": "python",
   "nbconvert_exporter": "python",
   "pygments_lexer": "ipython2",
   "version": "2.7.6"
  }
 },
 "nbformat": 4,
 "nbformat_minor": 5
}
