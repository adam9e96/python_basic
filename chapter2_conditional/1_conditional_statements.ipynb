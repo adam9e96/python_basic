{
 "cells": [
  {
   "metadata": {},
   "cell_type": "code",
   "outputs": [],
   "execution_count": null,
   "source": [
    "\"\"\"\n",
    "1. 파일명 : 1_conditional_statements.ipynb\n",
    "2. 개요: 파이썬의 조건문 사용법\n",
    "3. 작성자 : adam9e96\n",
    "4. 업데이트: 2024-10-22\n",
    "\"\"\""
   ],
   "id": "585ed8827029b265"
  },
  {
   "cell_type": "markdown",
   "source": [
    "# 조건문\n",
    "## 1. `if` 문\n",
    "- 형식: \n",
    "  ```python\n",
    "  if 조건식:\n",
    "      실행문\n",
    "  ```\n",
    "- 조건식의 결과가 `True`일 때 실행된다.\n",
    "- 예:\n",
    "\n",
    "- **들여쓰기 주의**: 파이썬에서는 들여쓰기가 매우 중요하며, 실행문은 조건식 다음에 들여쓰기(공백 4개, 2개, 혹은 탭 1개)로 작성한다."
   ],
   "metadata": {
    "collapsed": false
   },
   "id": "36ed3d59080efaab"
  },
  {
   "cell_type": "code",
   "source": [
    "# if 문\n",
    "num = 15\n",
    "if num > 0:\n",
    "    print('양수')  # 조건식이 True라서 실행이 됨\n",
    "    print('양수2')  # 조건식이 True라서 실행이 됨\n",
    "    #파이썬은 if문을 사용할 때 들여쓰기를 잘 해야됨\n"
   ],
   "metadata": {
    "collapsed": false,
    "ExecuteTime": {
     "end_time": "2024-10-22T11:18:23.006Z",
     "start_time": "2024-10-22T11:18:22.999839Z"
    }
   },
   "id": "7b751c948db396f1",
   "outputs": [
    {
     "name": "stdout",
     "output_type": "stream",
     "text": [
      "양수\n",
      "양수2\n"
     ]
    }
   ],
   "execution_count": 11
  },
  {
   "cell_type": "markdown",
   "source": [
    "## 2. 들려쓰기 identation 규칙\n",
    "1. 공백 space이나 탭 tab을 이용하여 들여쓰기를 수행\n",
    "2. 공백의 개수는 상관이 없음\n",
    "3. 탭은 1개만 사용\n",
    "4. 동일 구역에서 들여쓰기는 통일해야 함. 공백과 탭을 혼용하여 사용할 수 없고 들여쓰기 수준도 동일해야 함\n",
    "5. 주로 사용하는 들여쓰기는 공백 4개, 공백 2개, 탭 1개."
   ],
   "metadata": {
    "collapsed": false
   },
   "id": "4a3e99b2874985d2"
  },
  {
   "cell_type": "code",
   "source": [
    "num = 1\n",
    "if num > 0: print('양수')  # 실행문이 하나면 한 줄 코드로 가능함."
   ],
   "metadata": {
    "collapsed": false,
    "ExecuteTime": {
     "end_time": "2024-10-22T11:18:23.039430Z",
     "start_time": "2024-10-22T11:18:23.034832Z"
    }
   },
   "id": "10375888bcb16764",
   "outputs": [
    {
     "name": "stdout",
     "output_type": "stream",
     "text": [
      "양수\n"
     ]
    }
   ],
   "execution_count": 12
  },
  {
   "metadata": {},
   "cell_type": "markdown",
   "source": "## 3. if-else 문\n",
   "id": "d66f96ff742c111c"
  },
  {
   "cell_type": "code",
   "source": [
    "\"\"\"\n",
    "if 조건식:\n",
    "    실행문1  # 조건식이 True일 때 실행\n",
    "else:\n",
    "    실행문2  # 조건식이 False일 때 실행\n",
    "\"\"\"\n",
    "num = -6\n",
    "if num >= 0:\n",
    "    print('양수')\n",
    "else:\n",
    "    print('음수')\n"
   ],
   "metadata": {
    "collapsed": false,
    "ExecuteTime": {
     "end_time": "2024-10-22T11:18:23.143833Z",
     "start_time": "2024-10-22T11:18:23.137500Z"
    }
   },
   "id": "18a8aa1769725235",
   "outputs": [
    {
     "name": "stdout",
     "output_type": "stream",
     "text": [
      "음수\n"
     ]
    }
   ],
   "execution_count": 13
  },
  {
   "metadata": {},
   "cell_type": "markdown",
   "source": "## 4. if-elif-else 문\n",
   "id": "1edb71d70c6e896c"
  },
  {
   "cell_type": "code",
   "source": [
    "\"\"\"\n",
    "if 조건식1:\n",
    "    실행문1  # 조건식1이 True 일 때\n",
    "elif 조건식2:\n",
    "    실행문2  # 조건식1이 False 이고 조건식2가 True 일 때\n",
    "else:\n",
    "    실행문3  # 모든 조건이 False 일 때\n",
    "\"\"\""
   ],
   "metadata": {
    "collapsed": false,
    "ExecuteTime": {
     "end_time": "2024-10-22T11:18:23.274314Z",
     "start_time": "2024-10-22T11:18:23.254165Z"
    }
   },
   "id": "6458785ffe1fd2d2",
   "outputs": [
    {
     "data": {
      "text/plain": [
       "'\\nif 조건식1:\\n    실행문1  # 조건식1이 True 일 때\\nelif 조건식2:\\n    실행문2  # 조건식1이 False 이고 조건식2가 True 일 때\\nelse:\\n    실행문3  # 모든 조건이 False 일 때\\n'"
      ]
     },
     "execution_count": 14,
     "metadata": {},
     "output_type": "execute_result"
    }
   ],
   "execution_count": 14
  },
  {
   "cell_type": "code",
   "source": [
    "important = 56\n",
    "\n",
    "if important >= 100:\n",
    "    print('상')\n",
    "elif important >= 50:\n",
    "    print('중')\n",
    "else:\n",
    "    print('하')\n",
    "# 중\n",
    "\n",
    "score = 76\n",
    "if score >= 90:\n",
    "    print('A')\n",
    "elif score >= 80:\n",
    "    print('B')\n",
    "elif score >= 70:\n",
    "    print('C')\n",
    "elif score >= 60:\n",
    "    print('D')\n",
    "else:\n",
    "    print('F')\n",
    "# C\n",
    "\n",
    "# 나이를 입력 받아 7살 이하면 '미취학', 8 ~ 13 살이면 '초등학생', 14~16 살 이면 '중학생',\n",
    "# 17 ~ 19 살이면 '고등학생', 20살 이상이면 '성인'을 출력하는 프로그램입니다.\n",
    "age = int(input('몇 살입니까? >>>'))  # int() 함수를 이용해서 정수로 변환\n",
    "\n",
    "if age <= 7:\n",
    "    print('미취학')\n",
    "elif age <= 13:\n",
    "    print('초등학생')\n",
    "elif age <= 16:\n",
    "    print('중학생')\n",
    "elif age <= 19:\n",
    "    print('고등학생')\n",
    "else:\n",
    "    print('성인')\n",
    "\n",
    "    # 반대로\n",
    "if age > 19:\n",
    "    print('성인')\n",
    "elif age > 16:\n",
    "    print('고등학생')\n",
    "elif age > 13:\n",
    "    print('중학생')\n",
    "elif age > 7:\n",
    "    print('초등학생')\n",
    "else:\n",
    "    print('미취학')"
   ],
   "metadata": {
    "collapsed": false,
    "ExecuteTime": {
     "end_time": "2024-10-22T11:18:25.404364Z",
     "start_time": "2024-10-22T11:18:23.339650Z"
    }
   },
   "id": "642a683f1b6d2ebe",
   "outputs": [
    {
     "name": "stdout",
     "output_type": "stream",
     "text": [
      "중\n",
      "C\n",
      "성인\n",
      "성인\n"
     ]
    }
   ],
   "execution_count": 15
  }
 ],
 "metadata": {
  "kernelspec": {
   "display_name": "Python 3",
   "language": "python",
   "name": "python3"
  },
  "language_info": {
   "codemirror_mode": {
    "name": "ipython",
    "version": 2
   },
   "file_extension": ".py",
   "mimetype": "text/x-python",
   "name": "python",
   "nbconvert_exporter": "python",
   "pygments_lexer": "ipython2",
   "version": "2.7.6"
  }
 },
 "nbformat": 4,
 "nbformat_minor": 5
}
