{
 "cells": [
  {
   "cell_type": "code",
   "id": "initial_id",
   "metadata": {
    "collapsed": true,
    "jupyter": {
     "is_executing": true
    }
   },
   "source": [
    "# 2. 배열의 연산\n",
    "import numpy as np\n",
    "\n",
    "# 1) 기본 연산\n",
    "# 배열의 형태 shape 가 같다면 덧셈과 뺄셈, 곱셈과 나눗셈 연산을 할 수 있음.\n",
    "\n",
    "arr1 = np.array([10, 20, 30, 40])\n",
    "arr2 = np.array([1, 2, 3, 4])\n",
    "print(arr1) # [10 20 30 40]\n",
    "\n",
    "print(arr2) # [1 2 3 3 4]\n",
    "\n",
    "# 각 배열의 같은 위치의 원소끼리 더함.\n",
    "print(arr1 + arr2)  # [11 22 33 44]\n",
    "\n",
    "# 두 배열의 차는 같은 위치의 원소끼리 뻄\n",
    "print(arr1 - arr2)  # [ 9 18 27 36]\n",
    "# 기본 연산 조건\n",
    "# 배열의 형태가 같아야 함 <- 같은 위치 같은 요소의 타입이 같아야함\n",
    "# 배열의 갯수가 동일해야 함\n",
    "\n",
    "# 배열의 상수를 곱하면 각 원소에 상수를 곱함.\n",
    "print(arr1 * 2)  # [20 40 60 80]\n",
    "\n",
    "# 배열의 거듭제곱은 배열의 각 원소에 거듭제곱.\n",
    "print(arr1 ** 2)  # [ 100  400  900 1600]\n",
    "\n",
    "# 두 배열끼리의 곱셈은 각 원소끼리 곱함.\n",
    "print(arr1 * arr2)  # [ 10  40  90 160]\n",
    "\n",
    "# 두 배열의 나눗셈은 각 원소끼리 나눔.\n",
    "print(arr1 / arr2)  # [10. 10. 10. 10.]\n",
    "\n",
    "# 배열은 비교 연산도 가능. 원소별로 조건과 일치하는지 검사한 후 일치하면 True를 , 그렇지 않으면 False 를 반환\n",
    "print(arr1 > 20)  # 20보다 큰지 요소별로 검사   # [False False  True  True]\n",
    "\n"
   ],
   "outputs": [],
   "execution_count": null
  },
  {
   "cell_type": "code",
   "outputs": [
    {
     "name": "stdout",
     "output_type": "stream",
     "text": [
      "[0 1 2 3 4]\n",
      "10\n",
      "2.0\n",
      "1.4142135623730951\n",
      "2.0\n",
      "0\n",
      "4\n",
      "[1 2 3 4]\n",
      "[ 1  3  6 10]\n",
      "[ 1  2  6 24]\n"
     ]
    }
   ],
   "source": [
    "# 2) 통계를 위한 연산\n",
    "# NumPy에는 배열의 합, 평균, 표주 편차, 분산, 최솟값과 최댓값, 누적 합과 누적 곱 등 주로 통계에서 많이 이용하느 메서드가 있음.\n",
    "# 각각 sum(), std(), var(), min(), max(), cumsum(), cumprod()\n",
    "\n",
    "arr3 = np.arange(5)\n",
    "print(arr3)  # [0 1 2 3 4]\n",
    "\n",
    "# 합\n",
    "print(arr3.sum())  # 10\n",
    "\n",
    "# 평균\n",
    "print(arr3.mean())  # 2.0\n",
    "\n",
    "# 표준편차\n",
    "print(arr3.std())  # 1.4142135623730951\n",
    "\n",
    "# 분산\n",
    "print(arr3.var())   # 2.0\n",
    "\n",
    "# 최솟값\n",
    "print(arr3.min())   # 0\n",
    "\n",
    "# 최댓값\n",
    "print(arr3.max())   # 4\n",
    "\n",
    "arr4 = np.arange(1,5)\n",
    "print(arr4) # [1 2 3 4]\n",
    "\n",
    "# 누적 합\n",
    "print(arr4.cumsum())    # [ 1  3  6 10]\n",
    "\n",
    "# 누적 곱\n",
    "print(arr4.cumprod())   # [ 1  2  6 24]"
   ],
   "metadata": {
    "collapsed": false,
    "ExecuteTime": {
     "end_time": "2024-10-12T14:45:33.233888800Z",
     "start_time": "2024-03-11T14:33:56.818117Z"
    }
   },
   "id": "bba9dc370560c8ee",
   "execution_count": 2
  },
  {
   "metadata": {
    "ExecuteTime": {
     "end_time": "2024-10-12T14:45:56.236793Z",
     "start_time": "2024-10-12T14:45:56.227161Z"
    }
   },
   "cell_type": "code",
   "source": [
    "ary = list(range(1,10))\n",
    "print(ary)"
   ],
   "id": "e05d174b053cac39",
   "outputs": [
    {
     "name": "stdout",
     "output_type": "stream",
     "text": [
      "[1, 2, 3, 4, 5, 6, 7, 8, 9]\n"
     ]
    }
   ],
   "execution_count": 1
  }
 ],
 "metadata": {
  "kernelspec": {
   "display_name": "Python 3",
   "language": "python",
   "name": "python3"
  },
  "language_info": {
   "codemirror_mode": {
    "name": "ipython",
    "version": 2
   },
   "file_extension": ".py",
   "mimetype": "text/x-python",
   "name": "python",
   "nbconvert_exporter": "python",
   "pygments_lexer": "ipython2",
   "version": "2.7.6"
  }
 },
 "nbformat": 4,
 "nbformat_minor": 5
}
