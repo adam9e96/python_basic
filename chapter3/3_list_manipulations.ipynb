{
 "cells": [
  {
   "cell_type": "code",
   "id": "initial_id",
   "metadata": {
    "collapsed": true,
    "ExecuteTime": {
     "end_time": "2024-10-23T15:26:05.899838Z",
     "start_time": "2024-10-23T15:26:05.888124Z"
    }
   },
   "source": [
    "# 리스트 슬라이싱 (부분 선택)\n",
    "numbers = [0, 1, 2, 3, 4, 5]\n",
    "sub_numbers = numbers[1:3]  # 인덱스 1부터 2까지의 요소 추출 (3은 포함되지 않음)\n",
    "print(sub_numbers)  # 출력: [1, 2]\n",
    "sub_numbers2 = numbers[1:]  # 인덱스 1부터 끝까지 모든 요소 추출\n",
    "print(sub_numbers2)  # 출력: [1, 2, 3, 4, 5]\n",
    "\n",
    "# 리스트 내 요소들을 제곱하여 새 리스트 생성\n",
    "squares = [x ** 2 for x in range(10)]  # 0부터 9까지의 제곱 값 리스트\n",
    "print(squares)  # 출력: [0, 1, 4, 9, 16, 25, 36, 49, 64, 81]"
   ],
   "outputs": [
    {
     "name": "stdout",
     "output_type": "stream",
     "text": [
      "[1, 2]\n",
      "[1, 2, 3, 4, 5]\n",
      "[0, 1, 4, 9, 16, 25, 36, 49, 64, 81]\n"
     ]
    }
   ],
   "execution_count": 9
  },
  {
   "cell_type": "code",
   "source": [
    "# 리스트 연결과 반복\n",
    "# `+`로 두 리스트를 연결하고, `*`로 리스트를 반복할 수 있습니다.\n",
    "list1 = [1, 2, 3]\n",
    "list2 = [4, 5, 6]\n",
    "\n",
    "# 두 리스트를 합쳐서 새로운 리스트 생성\n",
    "combined_list = list1 + list2\n",
    "print(combined_list)  # 출력: [1, 2, 3, 4, 5, 6]\n",
    "\n",
    "# 리스트의 요소를 여러 번 반복\n",
    "repeated_list = list1 * 3\n",
    "print(repeated_list)  # 출력: [1, 2, 3, 1, 2, 3, 1, 2, 3]"
   ],
   "metadata": {
    "collapsed": false,
    "ExecuteTime": {
     "end_time": "2024-10-23T15:26:05.946298Z",
     "start_time": "2024-10-23T15:26:05.939060Z"
    }
   },
   "id": "d4bdc3692587d29d",
   "outputs": [
    {
     "name": "stdout",
     "output_type": "stream",
     "text": [
      "[1, 2, 3, 4, 5, 6]\n",
      "[1, 2, 3, 1, 2, 3, 1, 2, 3]\n"
     ]
    }
   ],
   "execution_count": 10
  },
  {
   "cell_type": "code",
   "source": [
    "# 리스트 정렬\n",
    "# `sort()`는 리스트 자체를 오름차순으로 정렬합니다.\n",
    "# `sorted()`는 정렬된 새로운 리스트를 반환합니다.\n",
    "random_numbers = [5, 1, 4, 3, 2]\n",
    "random_numbers.sort()  # 리스트를 오름차순으로 정렬 (원본 리스트 변경)\n",
    "print(random_numbers)  # 출력: [1, 2, 3, 4, 5]"
   ],
   "metadata": {
    "collapsed": false,
    "ExecuteTime": {
     "end_time": "2024-10-23T15:26:06.061971Z",
     "start_time": "2024-10-23T15:26:06.057315Z"
    }
   },
   "id": "c5656468ba82a90f",
   "outputs": [
    {
     "name": "stdout",
     "output_type": "stream",
     "text": [
      "[1, 2, 3, 4, 5]\n"
     ]
    }
   ],
   "execution_count": 11
  },
  {
   "cell_type": "code",
   "source": [
    "# 리스트 역순 정렬\n",
    "numbers = [1, 2, 3, 4, 5]\n",
    "numbers.reverse()  # 리스트의 순서를 거꾸로 뒤집음 (원본 리스트 변경)\n",
    "print(numbers)  # 출력: [5, 4, 3, 2, 1]\n",
    "\n",
    "# 슬라이싱으로 리스트를 뒤집는 또 다른 방법\n",
    "numbers = [1, 2, 3, 4, 5]\n",
    "print(numbers[::-1])  # 출력: [5, 4, 3, 2, 1]"
   ],
   "metadata": {
    "collapsed": false,
    "ExecuteTime": {
     "end_time": "2024-10-23T15:26:06.201132Z",
     "start_time": "2024-10-23T15:26:06.194979Z"
    }
   },
   "id": "a3beb63b66ecc500",
   "outputs": [
    {
     "name": "stdout",
     "output_type": "stream",
     "text": [
      "[5, 4, 3, 2, 1]\n",
      "[5, 4, 3, 2, 1]\n"
     ]
    }
   ],
   "execution_count": 12
  },
  {
   "cell_type": "code",
   "source": [
    "# 리스트에서 요소 찾기\n",
    "animals = ['dog', 'cat', 'bird', 'fish']\n",
    "index_of_cat = animals.index('cat')  # 'cat'의 인덱스 위치를 찾음\n",
    "print(index_of_cat)  # 출력: 1\n",
    "\n",
    "# 리스트에서 특정 요소의 개수를 셈\n",
    "letters = ['a', 'b', 'c', 'a', 'b', 'a']\n",
    "count_of_a = letters.count('a')  # 'a'의 개수를 계산\n",
    "print(count_of_a)  # 출력: 3"
   ],
   "metadata": {
    "collapsed": false,
    "ExecuteTime": {
     "end_time": "2024-10-23T15:26:06.335455Z",
     "start_time": "2024-10-23T15:26:06.330301Z"
    }
   },
   "id": "b6d4772b91a85388",
   "outputs": [
    {
     "name": "stdout",
     "output_type": "stream",
     "text": [
      "1\n",
      "3\n"
     ]
    }
   ],
   "execution_count": 13
  }
 ],
 "metadata": {
  "kernelspec": {
   "display_name": "Python 3",
   "language": "python",
   "name": "python3"
  },
  "language_info": {
   "codemirror_mode": {
    "name": "ipython",
    "version": 2
   },
   "file_extension": ".py",
   "mimetype": "text/x-python",
   "name": "python",
   "nbconvert_exporter": "python",
   "pygments_lexer": "ipython2",
   "version": "2.7.6"
  }
 },
 "nbformat": 4,
 "nbformat_minor": 5
}
