{
 "cells": [
  {
   "metadata": {},
   "cell_type": "code",
   "outputs": [],
   "execution_count": null,
   "source": [
    "\"\"\"\n",
    "1. 파일명 : 4_string_formatting_and_input.ipynb\n",
    "2. 개요: 파이썬의 문자열 포맷팅과 사용자 입력 처리 예제\n",
    "3. 작성자 : adam9e96\n",
    "4. 업데이트: 2024-10-22\n",
    "\"\"\""
   ],
   "id": "9155f3ca8f5a006b"
  },
  {
   "metadata": {},
   "cell_type": "markdown",
   "source": [
    "### % 연산자\n",
    "- % 연산자는 문자열에 형식을 지정할 때 사용됩니다.\n",
    "- 형식 문자를 포함한 문자열에 값을 삽입하는 방식입니다."
   ],
   "id": "b03617f160c5f9b9"
  },
  {
   "cell_type": "code",
   "source": [
    "# % 연산자 사용 예제\n",
    "name = 'Kai'\n",
    "print('내 이름은 %s입니다.' % name)  # %s는 문자열을 삽입 (출력: 내 이름은 Kai입니다.)\n",
    "print('내 이름은 ', name, '입니다.', sep='')  # 여러 값을 ','로 연결하여 출력\n",
    "print('내 이름은 ' + name + '입니다.')  # 문자열을 직접 연결 (자바 스타일)\n",
    "\n",
    "height = 120.5\n",
    "print('내 키는 %fcm입니다.' % height)  # %f는 실수를 삽입 (출력: 내 키는 120.500000cm입니다.)\n",
    "\n",
    "weight = 23.55\n",
    "print('내 몸무게는 %.1fkg 입니다.' % weight)  # %.1f는 소수점 첫째 자리까지 출력 (출력: 내 몸무게는 23.6kg 입니다.)\n",
    "\n",
    "# 여러 값을 % 연산자로 전달\n",
    "year, month, day = 2014, 8, 25\n",
    "print('내 생일은 %d 년 %d월 %d일입니다.' % (year, month, day))\n",
    "# %d는 정수를 삽입 (출력: 내 생일은 2014 년 8월 25일입니다.)\n",
    "\n",
    "# 이 방법은 최신 파이썬 코드에서는 거의 사용되지 않습니다.\n",
    "# 이렇게 썼었다는 것을 알고 넘어가면 됩니다."
   ],
   "metadata": {
    "collapsed": false,
    "ExecuteTime": {
     "end_time": "2024-10-24T06:27:34.453998Z",
     "start_time": "2024-10-24T06:27:34.439751Z"
    }
   },
   "id": "3c2da2db615a04a6",
   "outputs": [
    {
     "name": "stdout",
     "output_type": "stream",
     "text": [
      "내 이름은 Kai입니다.\n",
      "내 이름은 Kai입니다.\n",
      "내 이름은 Kai입니다.\n",
      "내 키는 120.500000cm입니다.\n",
      "내 몸무게는 23.6kg입니다.\n",
      "내 생일은 2014 년 8월 25일입니다.\n"
     ]
    }
   ],
   "execution_count": 1
  },
  {
   "cell_type": "code",
   "source": [
    "# format() 메소드\n",
    "# format() 메소드를 사용하여 중괄호({}) 위치에 값을 삽입합니다.\n",
    "\n",
    "zipcode = '06236'\n",
    "print('우편번호 : {}'.format(zipcode))  # format() 메소드를 사용한 출력\n",
    "\n",
    "# 변수에 결과를 저장해 사용할 수 있습니다.\n",
    "zipcode_str = '우편번호 : {}'.format(zipcode)\n",
    "print(zipcode_str)\n",
    "\n",
    "# 여러 줄 문자열도 format()을 사용해 삽입 가능\n",
    "address = '''서울특별시 강남구\n",
    "테헤란로 146'''  # 여러 줄 문자열\n",
    "\n",
    "print('주소 : {addr}'.format(addr=address))  # 변수명을 지정하여 값 삽입\n",
    "print('주소 : ' + address)  # 문자열 연결을 통한 출력"
   ],
   "metadata": {
    "collapsed": false,
    "ExecuteTime": {
     "end_time": "2024-10-24T06:45:21.297769Z",
     "start_time": "2024-10-24T06:45:21.286382Z"
    }
   },
   "id": "f68c62acceacebd",
   "outputs": [
    {
     "name": "stdout",
     "output_type": "stream",
     "text": [
      "우편번호 : 06236\n",
      "우편번호 : 06236\n",
      "주소 : 서울특별시 강남구\n",
      "테헤란로 146\n",
      "주소 : 서울특별시 강남구\n",
      "테헤란로 146\n"
     ]
    }
   ],
   "execution_count": 10
  },
  {
   "cell_type": "code",
   "source": [
    "# f-strings (formatted strings)\n",
    "# 파이썬 3.6 이후부터 사용 가능. f 문자열을 사용해 값을 쉽게 삽입\n",
    "\n",
    "who = 'you'\n",
    "how = 'happy'\n",
    "print(f'{who} make me {how}')  # 변수 값을 직접 문자열에 삽입 (출력: you make me happy)\n",
    "\n",
    "age = 25\n",
    "print(f'내년엔 {age + 1}살이 됩니다.')  # 계산 결과도 삽입 가능 (출력: 내년엔 26살이 됩니다.)\n",
    "\n",
    "lol_champion = 'Zeri'\n",
    "print(f'lol의 158번 째 챔피언은 {lol_champion}')"
   ],
   "metadata": {
    "collapsed": false,
    "ExecuteTime": {
     "end_time": "2024-10-24T07:37:55.156523Z",
     "start_time": "2024-10-24T07:37:55.144284Z"
    }
   },
   "id": "264a784b6d86beae",
   "outputs": [
    {
     "name": "stdout",
     "output_type": "stream",
     "text": [
      "you make me happy\n",
      "내년엔 26살이 됩니다.\n",
      "lol의 158번 째 챔피언은 Zeri\n"
     ]
    }
   ],
   "execution_count": 12
  },
  {
   "cell_type": "code",
   "source": [
    "# 표준입력\n",
    "# input() 함수: 사용자로부터 입력을 받을 때 사용\n",
    "# n = input('정수를 입력하세요.'). 모든 입력은 기본적으로 문자열로 처리된다.\n",
    "\n",
    "n = input('정수를 입력하세요.')  # 예: 100 (입력한 값은 문자열로 저장된다)\n",
    "print(n)  # 입력된 값 출력\n",
    "print(type(n))  # <class 'str'>: 입력된 값의 자료형 확인\n",
    "\n",
    "# 입력된 값을 정수로 변환하려면 int()를 사용한다.\n",
    "n = int(input('정수를 입력하세요.'))  # 정수로 형 변환\n",
    "print(type(n))  # <class 'int'>: 형 변환 후의 자료형 확인"
   ],
   "metadata": {
    "collapsed": false,
    "ExecuteTime": {
     "end_time": "2024-10-24T07:49:46.051730Z",
     "start_time": "2024-10-24T07:49:39.107482Z"
    }
   },
   "id": "4ce2c83954cad168",
   "outputs": [
    {
     "name": "stdout",
     "output_type": "stream",
     "text": [
      "100\n",
      "<class 'str'>\n",
      "<class 'int'>\n"
     ]
    }
   ],
   "execution_count": 13
  },
  {
   "cell_type": "code",
   "source": [
    "name = input('이름을 입력하세요 >>> ')\n",
    "age = input('나이를 입력하세요 >>>')\n",
    "\n",
    "print('입력된 이름은 {} 입니다.'.format(name))  # format 메서드를 이용한 출력\n",
    "print('입력된 나이는 {} 입니다.'.format(age))"
   ],
   "metadata": {
    "collapsed": false,
    "ExecuteTime": {
     "end_time": "2024-10-24T06:27:55.573096Z",
     "start_time": "2024-10-24T06:27:51.708008Z"
    }
   },
   "id": "53799f50e630cd69",
   "outputs": [
    {
     "name": "stdout",
     "output_type": "stream",
     "text": [
      "입력된 이름은 66 입니다.\n",
      "입력된 나이는 33 입니다.\n"
     ]
    }
   ],
   "execution_count": 5
  },
  {
   "cell_type": "code",
   "source": [
    "# 1. 사용자로부터 2개의 실수를 입력받아 합계를 구하는 프로그램\n",
    "\n",
    "# 실행 예)\n",
    "# 첫 번째 실수를 입력하세요 >>> 1.23\n",
    "# 두 번째 실수를 입력하세요 >>> 2.34\n",
    "# 1.23 와 2.34 의 합은 3.57 입니다.\n",
    "\n",
    "a = float(input('첫 번째 실수를 입력하세요 >>> '))\n",
    "b = float(input('두 번째 실수를 입력하세요 >>> '))\n",
    "\n",
    "# format()과 f-string을 사용한 출력 예제\n",
    "print('{} 와 {} 의 합은 {} 입니다.'.format(a, b, a + b))\n",
    "print(f'{a} 와 {b} 의 합은 {a + b} 입니다.')"
   ],
   "metadata": {
    "collapsed": false,
    "ExecuteTime": {
     "end_time": "2024-10-24T08:08:17.011442Z",
     "start_time": "2024-10-24T08:08:11.411582Z"
    }
   },
   "id": "170919deeee14851",
   "outputs": [
    {
     "name": "stdout",
     "output_type": "stream",
     "text": [
      "1.23 와 2.34 의 합은 3.57 입니다.\n",
      "1.23 와 2.34 의 합은 3.57 입니다.\n"
     ]
    }
   ],
   "execution_count": 14
  },
  {
   "cell_type": "code",
   "source": [
    "# 사용자로부터 1에서 12 사이의 월을 입력 받아 해당 월의 일수를 출력하는 프로그램\n",
    "# 실행 예)\n",
    "# 1~ 12 사이의 월을 입력하세요 >>> 2\n",
    "# 2월은 28일 까지 있습니다.\n",
    "\n",
    "# 1. 리스트 사용\n",
    "intputUser = int(input('1~12사이의 월을 입력하세요 >>> '))\n",
    "days = [31, 28, 31, 30, 31, 30, 31, 31, 30, 31, 30, 31]  # 각 월의 일수\n",
    "day = days[intputUser - 1]  # 입력된 월에 해당하는 일수 선택\n",
    "print(f'{intputUser}월은 {day}일 까지 있습니다.')\n",
    "\n",
    "# 2. 딕셔너리 사용\n",
    "days_dict = {1: 31, 2: 28, 3: 31, 4: 30, 5: 31, 6: 30, 7: 31, 8: 31, 9: 30, 10: 31, 11: 30, 12: 31}\n",
    "print(f'{intputUser}월은 {days_dict[intputUser]}일 까지 있습니다.')"
   ],
   "metadata": {
    "collapsed": false,
    "ExecuteTime": {
     "end_time": "2024-10-24T08:10:11.805481Z",
     "start_time": "2024-10-24T08:10:09.352800Z"
    }
   },
   "id": "97c7323e04615829",
   "outputs": [
    {
     "name": "stdout",
     "output_type": "stream",
     "text": [
      "11월은 30일 까지 있습니다.\n",
      "11월은 30일 까지 있습니다.\n"
     ]
    }
   ],
   "execution_count": 15
  },
  {
   "metadata": {
    "ExecuteTime": {
     "end_time": "2024-10-24T08:27:50.789538Z",
     "start_time": "2024-10-24T08:27:46.634582Z"
    }
   },
   "cell_type": "code",
   "source": [
    "# 3. 파이썬으로 영어사전 구현 예제\n",
    "# 딕셔너리를 사용해 영어 단어와 그 뜻을 저장\n",
    "english_dict = {\n",
    "    'flower': '꽃',\n",
    "    'fly': '날다',\n",
    "    'floor': '바닥'\n",
    "}\n",
    "\n",
    "intputUser2 = input('영어 단어를 입력하세요 >>> ')\n",
    "print(f'{intputUser2} : {english_dict[intputUser2]}')"
   ],
   "id": "d473a5555bdf9dd3",
   "outputs": [
    {
     "name": "stdout",
     "output_type": "stream",
     "text": [
      "fly : 날다\n"
     ]
    }
   ],
   "execution_count": 16
  },
  {
   "cell_type": "code",
   "outputs": [
    {
     "name": "stdout",
     "output_type": "stream",
     "text": [
      "flower: 꽃\n",
      "조사된 수학여행지는 {'제주', '몰디브'} 입니다.\n",
      "조사된 수학여행지는 {'제주', '북한'} 입니다.\n",
      "조사된 수학여행지는 {'제주', '영국'} 입니다.\n"
     ]
    }
   ],
   "source": [
    "# 4. 수학여행지 설문조사 프로그램\n",
    "# 학생들이 원하는 여행지를 입력받아 중복 없이 저장\n",
    "\n",
    "# 수학여행을 어디로 갈지 결정하기 위해 학생들이 희망하는 모든 수학여행 장소를 조사하기로 했습니다.\n",
    "# 학생들이 원하는 장소를 입력받아 동일한 입력은 무시하고 모든 입력을 저장하려고 합니다.\n",
    "# 학생을 3명으로 가정하고 실행 예와 같이 동작하는 프로그램을 구현하세요.\n",
    "\n",
    "# 실행 예)\n",
    "# 희망하는 수학여행지를 입력하세요 >>> 제주\n",
    "# 희망하는 수학여행지를 입력하세요 >>> 제주\n",
    "# 희망하는 수학여행지를 입력하세요 >>> 민속촌\n",
    "# 조사된 수학여행지는 {'제주', '민속촌'} 입니다.\n",
    "\n",
    "intputUser3 = input('희망하는 수학여행지를 입력하세요 >>> ')\n",
    "intputUser4 = input('희망하는 수학여행지를 입력하세요 >>> ')\n",
    "intputUser5 = input('희망하는 수학여행지를 입력하세요 >>> ')\n",
    "result = {intputUser3, intputUser4, intputUser5}\n",
    "print(f'조사된 수학여행지는 {result} 입니다.')\n",
    "\n",
    "# set()을 사용한 방법\n",
    "s = set()\n",
    "s.add(input('희망하는 수학여행지를 입력하세요 >>> '))\n",
    "s.add(input('희망하는 수학여행지를 입력하세요 >>> '))\n",
    "s.add(input('희망하는 수학여행지를 입력하세요 >>> '))\n",
    "print(f'조사된 수학여행지는 {s} 입니다.')\n",
    "\n",
    "# 리스트를 사용한 방법 (set으로 중복 제거)\n",
    "li = list()\n",
    "li.append(input('희망하는 수학여행지를 입력하세요 >>> '))\n",
    "li.append(input('희망하는 수학여행지를 입력하세요 >>> '))\n",
    "li.append(input('희망하는 수학여행지를 입력하세요 >>> '))\n",
    "print(f'조사된 수학여행지는 {set(li)} 입니다.')"
   ],
   "metadata": {
    "collapsed": false,
    "ExecuteTime": {
     "end_time": "2024-10-24T06:28:02.262002500Z",
     "start_time": "2024-02-26T16:14:27.385346100Z"
    }
   },
   "id": "2acfa6ffd9463920",
   "execution_count": 3
  }
 ],
 "metadata": {
  "kernelspec": {
   "display_name": "Python 3",
   "language": "python",
   "name": "python3"
  },
  "language_info": {
   "codemirror_mode": {
    "name": "ipython",
    "version": 2
   },
   "file_extension": ".py",
   "mimetype": "text/x-python",
   "name": "python",
   "nbconvert_exporter": "python",
   "pygments_lexer": "ipython2",
   "version": "2.7.6"
  }
 },
 "nbformat": 4,
 "nbformat_minor": 5
}
