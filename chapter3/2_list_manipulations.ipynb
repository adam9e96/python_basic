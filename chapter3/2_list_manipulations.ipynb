{
 "cells": [
  {
   "metadata": {},
   "cell_type": "code",
   "outputs": [],
   "execution_count": null,
   "source": [
    "\"\"\"\n",
    "1. 파일명 : 2_list_manipulations.ipynb\n",
    "2. 개요: 파이썬의 리스트 메소드 사용법과 예제\n",
    "3. 작성자 : adam9e96\n",
    "4. 업데이트: 2024-10-22\n",
    "\"\"\""
   ],
   "id": "5cc139ddad251c68"
  },
  {
   "metadata": {},
   "cell_type": "markdown",
   "source": [
    "# 리스트 메소드\n",
    "(2_list_add_remove 이후편)\n"
   ],
   "id": "7bbcc02e99bae435"
  },
  {
   "cell_type": "code",
   "id": "initial_id",
   "metadata": {
    "collapsed": true,
    "ExecuteTime": {
     "end_time": "2024-10-23T15:05:41.785441Z",
     "start_time": "2024-10-23T15:05:41.780616Z"
    }
   },
   "source": [
    "# 1) append()\n",
    "# 리스트의 끝에 인수로 전달된 데이터를 추가\n",
    "\n",
    "my_list = ['apple', 'banana']\n",
    "my_list.append('cherry')\n",
    "print(my_list)  # 출력 : ['apple', 'banana', 'cherry']"
   ],
   "outputs": [
    {
     "name": "stdout",
     "output_type": "stream",
     "text": [
      "['apple', 'banana', 'cherry']\n"
     ]
    }
   ],
   "execution_count": 3
  },
  {
   "metadata": {
    "ExecuteTime": {
     "end_time": "2024-10-23T15:13:28.691831Z",
     "start_time": "2024-10-23T15:13:28.685646Z"
    }
   },
   "cell_type": "code",
   "source": [
    "# 2) extend()\n",
    "# 리스트에 다른 리스트나 반복 가능한 객체의 모든 요소를 추가한다.\n",
    "my_list = ['apple', 'banana']\n",
    "my_list.extend(['cherry', 'mango'])  # 'cherry'와 'mango'를 리스트에 개별 요소로 추가\n",
    "print(my_list)  # 출력 : ['apple', 'banana', 'cherry', 'mango']\n",
    "\n",
    "# `+=` 연산자도 같은 방식으로 작동된다.\n",
    "my_list = ['apple', 'banana']\n",
    "my_list += ['cherry', 'mango']\n",
    "print(my_list)  # 출력 : ['apple', 'banana', 'cherry', 'mango']"
   ],
   "id": "97b78a2021ea06bd",
   "outputs": [
    {
     "name": "stdout",
     "output_type": "stream",
     "text": [
      "['apple', 'banana', 'cherry', 'mango']\n",
      "['apple', 'banana', 'cherry', 'mango']\n"
     ]
    }
   ],
   "execution_count": 9
  },
  {
   "metadata": {},
   "cell_type": "markdown",
   "source": [
    "#### append()와 extend()의 차이점\n",
    "Python에서 리스트(list)를 다룰 때 `append()`와 `extend()`는 리스트에 요소를 추가하지만, 방식이 다릅니다.\n",
    "\n",
    "##### `append()` 메소드\n",
    "- 리스트의 끝에 하나의 요소를 추가합니다.\n",
    "- 추가되는 요소가 리스트라면, 그 리스트 자체가 하나의 요소로 추가됩니다.\n",
    "\n",
    "```python\n",
    "my_list = [1, 2, 3]\n",
    "my_list.append([4, 5])\n",
    "# 결과: my_list = [1, 2, 3, [4, 5]]  # [4, 5]가 하나의 요소로 추가됨\n",
    "```\n",
    "\n",
    "##### `extend()` 메소드\n",
    "- 반복 가능한 객체의 모든 요소를 리스트에 개별적으로 추가합니다.\n",
    "\n",
    "```python\n",
    "my_list = [1, 2, 3]\n",
    "my_list.extend([4, 5])\n",
    "# 결과: my_list = [1, 2, 3, 4, 5]  # [4, 5]의 요소가 각각 추가됨\n",
    "```\n",
    "\n",
    "### 요약\n",
    "- `append()`는 하나의 요소를 그대로 추가.\n",
    "- `extend()`는 여러 요소를 각각 추가."
   ],
   "id": "3805d3f1122f0416"
  },
  {
   "metadata": {
    "ExecuteTime": {
     "end_time": "2024-10-23T15:15:17.694891Z",
     "start_time": "2024-10-23T15:15:17.690641Z"
    }
   },
   "cell_type": "code",
   "source": [
    "# 3) insert()\n",
    "# 리스트의 특정 위치에 요소를 추가합니다.\n",
    "# 첫 번째 인수는 위치(인덱스), 두 번째 인수는 추가할 값입니다.\n",
    "my_list = ['apple', 'banana']\n",
    "my_list.insert(0, 'cherry')  # 인덱스 0 위치에 'cherry' 추가\n",
    "print(my_list)  # 출력 : ['cherry', 'apple', 'banana']"
   ],
   "id": "a04eb61d0c260be1",
   "outputs": [
    {
     "name": "stdout",
     "output_type": "stream",
     "text": [
      "['cherry', 'apple', 'banana']\n"
     ]
    }
   ],
   "execution_count": 10
  },
  {
   "metadata": {
    "ExecuteTime": {
     "end_time": "2024-10-23T15:15:56.090993Z",
     "start_time": "2024-10-23T15:15:56.083948Z"
    }
   },
   "cell_type": "code",
   "source": [
    "# 4) clear()\n",
    "# 리스트의 모든 요소를 삭제하여 빈 리스트로 만듭니다.\n",
    "my_list = ['apple', 'banana']\n",
    "my_list.clear()  # 리스트의 모든 요소 삭제\n",
    "print(my_list)  # 출력 : []\n",
    "\n",
    "# `clear()`와 같은 효과를 가지는 방법\n",
    "my_list = ['apple', 'banana']\n",
    "my_list = []  # 빈 리스트 할당\n",
    "print(my_list)  # 출력 : []"
   ],
   "id": "1ac4473d8a5bd3d8",
   "outputs": [
    {
     "name": "stdout",
     "output_type": "stream",
     "text": [
      "[]\n",
      "[]\n"
     ]
    }
   ],
   "execution_count": 11
  },
  {
   "metadata": {
    "ExecuteTime": {
     "end_time": "2024-10-23T15:16:09.807624Z",
     "start_time": "2024-10-23T15:16:09.799930Z"
    }
   },
   "cell_type": "code",
   "source": [
    "# 5) pop()\n",
    "# 리스트에서 마지막 요소를 제거하고 반환합니다.\n",
    "my_list = ['apple', 'banana']\n",
    "item = my_list.pop()  # 마지막 요소 'banana'를 제거하고 반환\n",
    "print(item)  # 출력 : banana\n",
    "item = my_list.pop()  # 남은 마지막 요소 'apple'을 제거하고 반환\n",
    "print(item)  # 출력 : apple\n",
    "# 빈 리스트에서 pop()을 호출하면 에러가 발생합니다.\n",
    "\n",
    "# 인덱스를 지정하여 해당 위치의 요소를 제거할 수도 있습니다.\n",
    "my_list = ['apple', 'banana']\n",
    "item = my_list.pop(0)  # 인덱스 0의 요소 'apple'을 제거하고 반환\n",
    "print(item)  # 출력 : apple\n",
    "print(my_list)  # 출력 : ['banana']"
   ],
   "id": "16d82be39a460965",
   "outputs": [
    {
     "name": "stdout",
     "output_type": "stream",
     "text": [
      "banana\n",
      "apple\n",
      "apple\n",
      "['banana']\n"
     ]
    }
   ],
   "execution_count": 12
  },
  {
   "metadata": {
    "ExecuteTime": {
     "end_time": "2024-10-23T15:16:24.153009Z",
     "start_time": "2024-10-23T15:16:24.143565Z"
    }
   },
   "cell_type": "code",
   "source": [
    "# 6) remove()\n",
    "# 리스트에서 특정 값을 찾아 제거합니다.\n",
    "# 동일한 값이 여러 개 있으면 첫 번째 값만 제거합니다.\n",
    "my_list = ['apple', 'banana', 'cherry', 'mango']\n",
    "my_list.remove('cherry')  # 'cherry'를 제거\n",
    "print(my_list)  # 출력 : ['apple', 'banana', 'mango']\n",
    "\n",
    "# 중복된 값이 있을 때는 첫 번째 값만 제거됩니다.\n",
    "my_list = ['apple', 'banana', 'cherry', 'mango', 'cherry']\n",
    "my_list.remove('cherry')  # 첫 번째 'cherry'만 제거됨\n",
    "print(my_list)  # 출력 : ['apple', 'banana', 'mango', 'cherry']\n",
    "\n",
    "# 특정 값을 모두 제거하려면 반복문을 사용할 수 있습니다.\n",
    "my_list = ['apple', 'banana', 'cherry', 'mango', 'cherry']\n",
    "print(my_list.count('cherry'))  # 출력 : 2 ('cherry'의 개수)\n",
    "for _ in range(my_list.count('cherry')):\n",
    "    my_list.remove('cherry')  # 'cherry'를 발견할 때마다 제거\n",
    "print(my_list)  # 출력 : ['apple', 'banana', 'mango']"
   ],
   "id": "bb7c12dc385b4032",
   "outputs": [
    {
     "name": "stdout",
     "output_type": "stream",
     "text": [
      "['apple', 'banana', 'mango']\n",
      "['apple', 'banana', 'mango', 'cherry']\n",
      "2\n",
      "['apple', 'banana', 'mango']\n"
     ]
    }
   ],
   "execution_count": 13
  }
 ],
 "metadata": {
  "kernelspec": {
   "display_name": "Python 3",
   "language": "python",
   "name": "python3"
  },
  "language_info": {
   "codemirror_mode": {
    "name": "ipython",
    "version": 2
   },
   "file_extension": ".py",
   "mimetype": "text/x-python",
   "name": "python",
   "nbconvert_exporter": "python",
   "pygments_lexer": "ipython2",
   "version": "2.7.6"
  }
 },
 "nbformat": 4,
 "nbformat_minor": 5
}
