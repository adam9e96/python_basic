{
 "cells": [
  {
   "metadata": {},
   "cell_type": "code",
   "outputs": [],
   "execution_count": null,
   "source": [
    "\"\"\"\n",
    "1. 파일명 : 1_method_manipulations.ipynb\n",
    "2. 개요: 파이썬의 조건문 사용법 과 문제\n",
    "3. 작성자 : adam9e96\n",
    "4. 업데이트: 2024-10-22\n",
    "\"\"\""
   ],
   "id": "471ae0b96cb78705"
  },
  {
   "cell_type": "markdown",
   "source": [
    "# 메소드 개요\n",
    "- **메소드 (method)**: 특정 객체에 속하는 함수. 메소드는 객체의 상태를 변경하거나 객체와 관련된 작업을 수행하는 데 사용된다. \n",
    "    - 예를 들어, 문자열 객체나 리스트 객체와 같은 다양한 데이터 타입에는 그 데이터 타입에 특화된 메소드들이 있다.\n",
    "- 함수와 메소드의 차이점은 호출 방식에 있습니다. 함수는 독립적으로 호출할 수 있지만, 메소드는 반드시 `객체`를 통해서만 호출 가능하다. 즉, 메소드는 객체의 상태나 행동과 밀접한 관련이 있다..\n",
    "\n",
    "## 1. 문자열 메소드\n",
    "- Python의 문자열 (`str`)은 일반적인 작업을 위해 다양한 내장 메소드를 제공한다. \n",
    "- 문자열 메소드는 문자열의 변형, 탐색, 분할, 조합 등을 간편하게 처리할 수 있다."
   ],
   "metadata": {
    "collapsed": false
   },
   "id": "7a130144cc023ee"
  },
  {
   "metadata": {},
   "cell_type": "markdown",
   "source": [
    "#### 1.1 `format()`\n",
    "문자열의 형식화된 출력을 위해 사용됩니다. 주로 출력 형식을 맞추기 위해 사용하며, 문자열 내에서 변수 값을 동적으로 삽입하는 데 유용합니다.\n",
    "- `<`: 지정된 너비 내에서 왼쪽 정렬\n",
    "- `>`: 지정된 너비 내에서 오른쪽 정렬\n",
    "- `^`: 지정된 너비 내에서 가운데 정렬"
   ],
   "id": "e8618d131489ea7a"
  },
  {
   "cell_type": "code",
   "outputs": [
    {
     "name": "stdout",
     "output_type": "stream",
     "text": [
      "10자리 폭 왼 쪽 정렬 '123       '\n",
      "10자리 폭 오른 쪽 정렬 '       123'\n",
      "10자리 폭 가운데 정렬 '   123    '\n",
      "\n",
      "10자리 폭 왼 쪽 정렬 채움문자 '123*******'\n",
      "10자리 폭 오른 쪽 정렬 채움문자 '*******123'\n",
      "10자리 폭 가운데 쪽 정렬 채움문자 '***123****'\n"
     ]
    }
   ],
   "source": [
    "# 10d는 10자리의 필드 폭을 의미\n",
    "print(\"10자리 폭 왼 쪽 정렬 '{:<10d}'\".format(123))  # 10자리 폭 왼 쪽 정렬 '123       '\n",
    "print(\"10자리 폭 오른 쪽 정렬 '{:>10d}'\".format(123))  # 10자리 폭 오른 쪽 정렬 '       123'\n",
    "print(\"10자리 폭 가운데 정렬 '{:^10d}'\".format(123))  # 10자리 폭 가운데 정렬 '   123    '\n",
    "print()\n",
    "# 채움문자를 지정하면 공백 대신 채움문자가 빈자리를 채움\n",
    "print(\"10자리 폭 왼 쪽 정렬 채움문자 '{:*<10d}'\".format(123))  # 10자리 폭 왼 쪽 정렬 채움문자 '123*******'\n",
    "print(\"10자리 폭 오른 쪽 정렬 채움문자 '{:*>10d}'\".format(123))  # 10자리 폭 오른 쪽 정렬 채움문자 '*******123'\n",
    "print(\"10자리 폭 가운데 쪽 정렬 채움문자 '{:*^10d}'\".format(123))  # 10자리 폭 가운데 쪽 정렬 채움문자 '***123****'\n",
    "# 현재는 많이는 사용안한다."
   ],
   "metadata": {
    "collapsed": false,
    "ExecuteTime": {
     "end_time": "2024-02-28T00:11:24.277870100Z",
     "start_time": "2024-02-28T00:11:24.220206100Z"
    }
   },
   "id": "9072d7f295e41830",
   "execution_count": 1
  },
  {
   "metadata": {},
   "cell_type": "markdown",
   "source": [
    "#### 1.2 `count()`\n",
    "- 문자열에서 특정 부분 문자열이 나타나는 횟수를 반환한다.\n",
    "- 특정 단어의 빈도수를 확인할 때 유용하다."
   ],
   "id": "457267e0f344414c"
  },
  {
   "cell_type": "code",
   "source": [
    "s = '내가 그린 기린 그림은 목 긴 기린 그림이고, 네가 그린 기린 그림은 목 짧은 기린 그림이다.'\n",
    "print(s.count('기린'))  # 출력: 4\n",
    "print(s.find('기린'))  # 6\n",
    "\n",
    "# 시작 인덱스를 지정하여 그 이후로 나타나는 특정 문자열의 개수를 세어보기\n",
    "# 인덱스를 지정해서 범위를 지정할 수 있음\n",
    "s = 'best of best'\n",
    "print(s.count('best', 5))  # 출력: 1 / 인덱스 5번 부터 검색\n",
    "\n",
    "# 마이너스 인덱스를 사용하여 문자열의 뒤에서부터 검색 범위를 지정하기\n",
    "\n",
    "# 마이너스 인덱스를 사용할 수 있음\n",
    "s = 'best of best'\n",
    "print(s.count('best', -7))  # 출력: 1 / o 부터 검색\n",
    "\n",
    "s = '이것은 샘플 텍스트입니다. 반복된 단어와 반복된 구문이 있습니다.'\n",
    "print(s.count('반복된'))  # 출력: 2"
   ],
   "metadata": {
    "collapsed": false,
    "ExecuteTime": {
     "end_time": "2024-10-22T16:38:48.575937Z",
     "start_time": "2024-10-22T16:38:48.569919Z"
    }
   },
   "id": "4c7b33a73417cae3",
   "outputs": [
    {
     "name": "stdout",
     "output_type": "stream",
     "text": [
      "4\n",
      "6\n",
      "1\n",
      "1\n",
      "2\n"
     ]
    }
   ],
   "execution_count": 1
  },
  {
   "metadata": {},
   "cell_type": "markdown",
   "source": [
    "#### 1.3 `find()`와 `index()`\n",
    "- **`find()`**: 주어진 부분 문자열의 첫 번째 인덱스를 반환하거나 찾지 못하면 `-1`을 반환한다. 문자열 내에서 특정 문자열의 위치를 찾는 데 사용된다.\n",
    "- **`index()`**: `find()`와 유사하게 동작하지만, 부분 문자열을 찾지 못하면 `ValueError`를 발생시킨다. 따라서 문자열이 반드시 포함되어야 할 경우 사용된다."
   ],
   "id": "c97dfe83609e9164"
  },
  {
   "cell_type": "code",
   "source": [
    "# find()\n",
    "s = 'apple'\n",
    "print(s.find('p'))  # 출력: 1\n",
    "print(s.find('z'))  # 출력: -1\n",
    "print(s.index('p'))  # 출력: 1\n",
    "# print(s.index('z'))  # ValueError 발생\n",
    "\n",
    "## find메소드 활용\n",
    "# 1. 특정 문자열의 존재 여부 확인: .find() 메소드의 반환값이 -1인지 아닌지를 확인하여 특정 문자열의 존재 여부를 판단\n",
    "# 2. 검색 범위 지정: .find() 메소드에는 시작 인덱스를 옵션으로 지정할 수 있어, 문자열의 특정 부분에서부터 검색을 할 수있음.\n",
    "#    문자열의 일부분에서만 검색을 수행하고자 할 때 유용합니다.\n",
    "\n",
    "if s.find('z') == -1:\n",
    "    print(s)\n",
    "\n",
    "# 인덱스를 이용해서 검색할 범위를 지정 가능\n",
    "# 시작할 인덱스를 지정하지 않는 경우에는 문자열의 처음부터 찾고, 시작할 인덱스를 지정하는 경우 지정된 인덱스부터 찾음\n",
    "s = 'best of best'\n",
    "print(s.find('best'))  # 0\n",
    "print(s.find('best', 5))  # 8\n",
    "\n",
    "# find() 메소드와 찾는 방향이 다른 rfind() 메소드 . right + find()\n",
    "# right와 find 를 합친 이름으로 오른쪽 부터 찾음\n",
    "s = 'best of best'\n",
    "print(s.rfind('best'))  # 8\n",
    "\n",
    "# index()\n",
    "s = 'apple'\n",
    "# find() 메소드 사용 예\n",
    "print(s.find('p'))  # 1\n",
    "print(s.find('z'))  # -1\n",
    "\n",
    "# index() 메소드 사용 예\n",
    "print(s.index('p'))  # 1\n",
    "# print(s.index('z'))  # ValueError: substring not found\n",
    "# 통상적으로 index()는 잘 사용안하고 find()을 사용함\n",
    "# 빈 문자열 검색\n",
    "print(s.index(''))  # 0\n"
   ],
   "metadata": {
    "collapsed": false,
    "ExecuteTime": {
     "end_time": "2024-10-22T17:02:53.276008Z",
     "start_time": "2024-10-22T17:02:53.260210Z"
    }
   },
   "id": "272b50a8162e7523",
   "outputs": [
    {
     "name": "stdout",
     "output_type": "stream",
     "text": [
      "1\n",
      "-1\n",
      "1\n",
      "apple\n",
      "0\n",
      "8\n",
      "8\n",
      "1\n",
      "-1\n",
      "1\n",
      "0\n"
     ]
    }
   ],
   "execution_count": 3
  },
  {
   "metadata": {},
   "cell_type": "markdown",
   "source": [
    "#### 1.4 대소문자 변환\n",
    "- `upper()`, `lower()`, `capitalize()`는 문자열의 대소문자를 변환하는 데 사용된다. \n",
    "- 데이터의 표준화를 위해 자주 사용된다."
   ],
   "id": "62bc1947fe1cac83"
  },
  {
   "cell_type": "code",
   "source": [
    "# 대소문자 변환 메소드\n",
    "# upper : 모두 대문자로 변환한 결과를 반환\n",
    "# lower : 모두 소문자로 변환한 결과를 반환\n",
    "# capitalize : 첫 글자는 대문자로 변환하고 나머지는 소문자로 변환한 결과를 반환\n",
    "\n",
    "s = 'hello world'\n",
    "print(s.upper())  # 출력: HELLO WORLD\n",
    "print(s.lower())  # 출력: hello world\n",
    "print(s.capitalize())  # 출력: Hello world"
   ],
   "metadata": {
    "collapsed": false,
    "ExecuteTime": {
     "end_time": "2024-10-22T17:06:32.061127Z",
     "start_time": "2024-10-22T17:06:32.055179Z"
    }
   },
   "id": "62c54952a4593103",
   "outputs": [
    {
     "name": "stdout",
     "output_type": "stream",
     "text": [
      "HELLO WORLD\n",
      "hello world\n",
      "Hello world\n"
     ]
    }
   ],
   "execution_count": 4
  },
  {
   "metadata": {},
   "cell_type": "markdown",
   "source": [
    "#### 1.5 `split()`과 `join()`\n",
    "- **`split()`**: 문자열을 구분자를 기준으로 나누어 리스트로 반환합니다. 주로 데이터를 분할할 때 사용됩니다.\n",
    "- **`join()`**: 반복 가능한 객체의 요소들을 문자열 구분자로 연결합니다. 리스트의 요소들을 하나의 문자열로 결합할 때 유용합니다."
   ],
   "id": "f8f608136a5e6156"
  },
  {
   "cell_type": "code",
   "outputs": [
    {
     "name": "stdout",
     "output_type": "stream",
     "text": [
      "\n",
      "p-y-t-h-o-n\n",
      "a+b+c+d+e\n",
      "x y z\n",
      "ab\n"
     ]
    }
   ],
   "source": [
    "# join() # 거의 쓸일이 없음\n",
    "# 인수로 전달한 반복가능객체(문자열, 리스트 등)의 각 요소 사이에\n",
    "# 문자열을 포함시켜 새로운 문자열을 만들고 그 결과를 반환\n",
    "\n",
    "print('-'.join('python'))  # p-y-t-h-o-n\n",
    "\n",
    "print('+'.join(['a', 'b', 'c', 'd', 'e']))  # a+b+c+d+e\n",
    "\n",
    "# 포함하는 문자 없이 단순하게 리스트의 요소들을 연결하고자 한다면 빈 문자열 사용\n",
    "print(' '.join(['x', 'y', 'z']))  # x y z\n",
    "a = {'a': 'apple', 'b': 'banana'}\n",
    "print(''.join(a))  # ab / 딕셔너리의 경우 key를 연결\n",
    "\n",
    "# 실제 이러한 작업이 필요한 경우 for문으로도 가능해서 이 함수를 쓰면 좋지만\n",
    "# 거기 까지 생각이 안나서 잘 안쓰게됨"
   ],
   "metadata": {
    "collapsed": false,
    "ExecuteTime": {
     "end_time": "2024-02-28T00:32:39.810459100Z",
     "start_time": "2024-02-28T00:32:39.786139100Z"
    }
   },
   "id": "c81d6c06ac9b2cbb",
   "execution_count": 25
  },
  {
   "cell_type": "code",
   "source": [
    "# split()\n",
    "# 하나의 문자열을 여러 개의 문자열로 분리해서 저장한 리스트를 반환\n",
    "\n",
    "s = 'Life is too short'\n",
    "s2 = s.split()  # split() 메소드에 아무 인수도 전달하지 않으면 공백 문자를 기준으로 각 문자열이 분리\n",
    "\n",
    "print(s2)  # ['Life', 'is', 'too', 'short']\n",
    "\n",
    "s = '010-1234-5678'\n",
    "s2 = s.split('-')  # 공백 대신 특정 문자열을 기준으로 분리하는 기법\n",
    "print(s2)  # ['010', '1234', '5678']\n",
    "\n",
    "s = 'apple,banana,grape'\n",
    "parts = s.split(',')\n",
    "print(parts)  # 출력: ['apple', 'banana', 'grape']\n",
    "\n",
    "joined_str = '-'.join(parts)\n",
    "print(joined_str)  # 출력: apple-banana-grape\n",
    "\n",
    "# 이건 반복문으로도 되지만 split()메소드를 사용하면 간단하게 처리가 가능함으로 알아두면 좋다."
   ],
   "metadata": {
    "collapsed": false,
    "ExecuteTime": {
     "end_time": "2024-10-22T17:10:49.252735Z",
     "start_time": "2024-10-22T17:10:49.237076Z"
    }
   },
   "id": "a205a58e570b8a6",
   "outputs": [
    {
     "name": "stdout",
     "output_type": "stream",
     "text": [
      "['Life', 'is', 'too', 'short']\n",
      "['010', '1234', '5678']\n",
      "['apple', 'banana', 'grape']\n",
      "apple-banana-grape\n"
     ]
    }
   ],
   "execution_count": 6
  },
  {
   "metadata": {},
   "cell_type": "markdown",
   "source": [
    "#### 1.6 `replace()`\n",
    "부분 문자열을 다른 문자열로 대체합니다. 특정 단어나 문구를 변경할 때 유용합니다."
   ],
   "id": "b369779d0ef967cd"
  },
  {
   "cell_type": "code",
   "source": [
    "# replace()\n",
    "s = 'Life is too short'\n",
    "s2 = s.replace('short', 'long')\n",
    "print(s2)  # Life is too long\n",
    "\n",
    "# 특정 문자열을 제거하기 위한 용도로 사용 <- 자주 사용함\n",
    "s = '010-1234-5678'\n",
    "s2 = s.replace('-', '')  # - 제거\n",
    "print(s2)  #01012345678 \n",
    "\n",
    "# replace() 메소드의 경우 특정 문자열을 삭제하는 용도로 많이 사용한다."
   ],
   "metadata": {
    "collapsed": false,
    "ExecuteTime": {
     "end_time": "2024-10-22T17:12:47.499717Z",
     "start_time": "2024-10-22T17:12:47.493241Z"
    }
   },
   "id": "d76d79987b7f1aa4",
   "outputs": [
    {
     "name": "stdout",
     "output_type": "stream",
     "text": [
      "Life is too long\n",
      "01012345678\n"
     ]
    }
   ],
   "execution_count": 7
  },
  {
   "metadata": {},
   "cell_type": "markdown",
   "source": [
    "#### 1.7 문자열 다듬기\n",
    "- **`strip()`**: 문자열 양 끝의 불필요한 문자를 제거합니다. 주로 사용자 입력값의 공백을 제거할 때 사용됩니다.\n",
    "- **`lstrip()`**: 문자열의 왼쪽 끝의 불필요한 문자를 제거합니다.\n",
    "- **`rstrip()`**: 문자열의 오른쪽 끝의 불필요한 문자를 제거합니다."
   ],
   "id": "b9b8578a02780df9"
  },
  {
   "metadata": {
    "ExecuteTime": {
     "end_time": "2024-10-22T17:16:17.524305Z",
     "start_time": "2024-10-22T17:16:17.517510Z"
    }
   },
   "cell_type": "code",
   "source": [
    "s = '  hello world  '\n",
    "print(s.strip())  # 출력: 'hello world'\n",
    "s = '     apple'\n",
    "print(len(s))  # 10\n",
    "\n",
    "s2 = s.lstrip()\n",
    "print(s2)  # apple\n",
    "print(len(s2))  # 5 . 공백 5칸 제거\n",
    "# 공백도 문자열임.\n",
    "# 주로 공백제거 용도로 많이 사용함.\n",
    "s3 = 'apple is very short      '\n",
    "s4 = s3.rstrip()\n",
    "print(s3)  # apple is very short      \n",
    "print(s4)  # apple is very short  \n",
    "print(len(s3))  # 25\n",
    "print(len(s4))  # 19\n",
    "# 다른 언어(java)에서는 trim 이라는 메소드로 동일한 기능을 제공한다. \n",
    "# 대부분의 언어에 trim이나 strip라는 이름으로 불필요한 문자열 제거 메소드를 제공한다.\n",
    "\n",
    "s = '###This is a test###'\n",
    "s2 = s.lstrip('#')\n",
    "print(s2)  # 'This is a test###'\n",
    "# lstrip('#') 메소드는 문자열 왼쪽 끝에 있는 '#' 문자를 제거합니다.\n",
    "s = '---example---'\n",
    "s2 = s.rstrip('-')\n",
    "print(s2)  # '---example'\n",
    "# rstrip('-') 메소드는 문자열 오른쪽 끝에 있는 '-' 문자를 제거합니다."
   ],
   "id": "45081b011ee1a5c0",
   "outputs": [
    {
     "name": "stdout",
     "output_type": "stream",
     "text": [
      "hello world\n",
      "10\n",
      "apple\n",
      "5\n",
      "apple is very short      \n",
      "apple is very short\n",
      "25\n",
      "19\n",
      "This is a test###\n",
      "---example\n"
     ]
    }
   ],
   "execution_count": 11
  },
  {
   "cell_type": "code",
   "source": [
    "# 활용 1\n",
    "# 주민등록번호에서 생년월일 6자리를 추출하는 프로그램\n",
    "# 사용자로 부터 하이픈을 포함한 전체 주민등록번호를 입력받아 처리를 하는데\n",
    "# 만약 하이픈의 위치가 올바르지 않다면 오류 메시지를 출력하고 다시 입력 받도록 처리.\n",
    "\n",
    "# split을 시용한 방법\n",
    "while True:\n",
    "    p = input('주민등록번호를 입력하세요(하이픈을 포함해서 총 14자리) >>> ')\n",
    "    if p.find('-') != 6:  # 문자열 내부에 포함된 특정 문자열을 찾고자 할 때 사용\n",
    "        print('하이픈의 위치가 잘못되었습니다.')\n",
    "        continue\n",
    "    # e.g) 000000-0000000\n",
    "    birthday = p.split('-')\n",
    "    print(birthday)\n",
    "    print('생년월일은 {} 입니다.'.format(birthday[0]))\n",
    "    print(f'생년월일은 {p[0:6]} 입니다.')  # 문자열 슬라이싱 사용\n",
    "    break"
   ],
   "metadata": {
    "collapsed": false,
    "ExecuteTime": {
     "end_time": "2024-10-22T17:21:06.071497Z",
     "start_time": "2024-10-22T17:20:57.248114Z"
    }
   },
   "id": "b25e2f8355e8309b",
   "outputs": [
    {
     "name": "stdout",
     "output_type": "stream",
     "text": [
      "['990324', '1655555']\n",
      "생년월일은 990324 입니다.\n",
      "생년월일은 990324 입니다.\n"
     ]
    }
   ],
   "execution_count": 12
  },
  {
   "cell_type": "markdown",
   "source": [
    "# 문제\n",
    "1. 우리나라의 전화번호는 '지역번호-국번-가입자 개별번호'형식으로 되어 있습니다.\n",
    "\n",
    "02-543-2109\n",
    "02-2345-6789\n",
    "032-789-0123\n",
    "031-4567-8900\n",
    "\n",
    "어떤 형식의 전화번호를 입력하더라도 '국번'을 추출하여 출력하는 프로그램을 구현하세요.\n",
    "\n",
    "실행 예)\n",
    "전화번호를 입력하세요 >>> 02-1234-5678\n",
    "1234\n",
    "\n",
    "2. '숫자3자리-숫자2자리-숫자5자리' 형식(예: 123-45-67890)의 사업자등록번호를 입력받아서 형식이 \n",
    "맞는지 점검하는 프로그램을 구현하세요.\n",
    "다음 지시사항을 모두 점검해야 합니다.\n",
    "\n",
    "지시사항\n",
    "1. 전체 글자 수를 점검합니다.\n",
    "2. 모든 하이픈(-)의 위치가 올바른지 점검합니다.\n",
    "3. 하이픈(-)을 제외하면 모두 숫자인지 점검합니다.\n",
    "\n",
    "실행 예) \n",
    "사업자등록번호를 입력하세요(예: 123-45-67890) >>> 123-사오-67890\n",
    "올바른 형식이 아닙니다.\n",
    "\n",
    "--------------------\n",
    "\n",
    "사업자등록번호를 입력하세요(예: 123-45-67890) >>> 123-4-67890\n",
    "올바른 형식이 아닙니다\n",
    "--------------------\n",
    "\n",
    "사업자등록번호를 입력하세요(예: 123-45-67890) >>> 123-45-67890\n",
    "올바른 형식입니다.\n",
    "\n",
    "힌트 : 숫자인지는 점검할 때는 isdecimal() 메서드를 이용합니다."
   ],
   "metadata": {
    "collapsed": false
   },
   "id": "3d088d99c6e8ce3"
  },
  {
   "cell_type": "code",
   "outputs": [
    {
     "name": "stdout",
     "output_type": "stream",
     "text": [
      "789\n",
      "4\n",
      "7\n",
      "789\n"
     ]
    }
   ],
   "source": [
    "# 문제1\n",
    "phone = input('전화번호를 입력하세요 >>> ')\n",
    "# 02-543-2109 \n",
    "# 02-2345-6789 \n",
    "# 032-789-0123 \n",
    "# 031-4567-8900\n",
    "\n",
    "# case1\n",
    "code = phone.split('-')[1]\n",
    "print(code)\n",
    "\n",
    "# case2\n",
    "start = phone.find('-') + 1  # 첫번째 '-' 이 나오는 인덱스의 다음 인덱스를 구함.\n",
    "end = phone.find('-', start)  # 인덱스로 범위를 지정해 두번째 '-' 인덱스를 구함\n",
    "print(start)  # 테스트 4\n",
    "print(end)  # 테스트 7\n",
    "code = phone[start:end]  # 문자열 슬라이싱을 사용\n",
    "print(code)"
   ],
   "metadata": {
    "collapsed": false,
    "ExecuteTime": {
     "end_time": "2024-02-28T01:45:14.780885300Z",
     "start_time": "2024-02-28T01:45:06.625692800Z"
    }
   },
   "id": "d3c97d8431c91fc5",
   "execution_count": 10
  },
  {
   "cell_type": "code",
   "outputs": [
    {
     "name": "stdout",
     "output_type": "stream",
     "text": [
      "올바른 형식이 아닙니다.\n",
      "0\n"
     ]
    }
   ],
   "source": [
    "# 문제 2\n",
    "\n",
    "# 형식검사:\n",
    "input_number = input('사업자등록번호를 입력하세요(예:123-45-67890 >>> ')\n",
    "if len(input_number) != 12:  # 전체 글자 수 점검\n",
    "    print('올바른 형식이 아닙니다.')\n",
    "    print('0')\n",
    "elif input_number.find('-') != 3 or input_number.find('-', 5) != 6:\n",
    "    print('올바른 형식이 아닙니다.')\n",
    "    print('1')  # 에러 코드 자체\n",
    "elif input_number.replace('-', '').isnumeric() != 1:  # - 제거\n",
    "    print('올바른 형식이 아닙니다.')  # 문자열이 들어간 경우\n",
    "    print('2')\n",
    "else:\n",
    "    print(input_number)\n",
    "    print('올바른 형식입니다.')\n",
    "# s = input_number.find('-')  # 3 # 6\n",
    "# print(s)\n",
    "\n"
   ],
   "metadata": {
    "collapsed": false,
    "ExecuteTime": {
     "end_time": "2024-02-28T01:59:56.279300500Z",
     "start_time": "2024-02-28T01:59:50.093359200Z"
    }
   },
   "id": "bf33c58539747ea1",
   "execution_count": 8
  },
  {
   "cell_type": "code",
   "outputs": [],
   "source": [
    "# case1\n",
    "\n",
    "no = input('사업자등록번호를 입력하세요(예:123-45-67890 >>> ')\n",
    "if len(no) != 12:  # 전체 글자수 (12) 확인\n",
    "    print('올바른 형식이 아닙니다.')\n",
    "elif no.find('-') != 3:  # 첫번째 '-' 위치 확인\n",
    "    print('올바른 형식이 아닙니다.')\n",
    "elif no.find('-', 4) != 6:  # 두번째 '-' 위치 확인\n",
    "    print('올바른 형식이 아닙니다.')\n",
    "elif not no.replace('-').isdecimal():  # '-' 을 제외한 문자가 숫자인지 확인\n",
    "    print('올바른 형식이 아닙니다.')\n",
    "else:\n",
    "    print('올바른 형식입니다.')"
   ],
   "metadata": {
    "collapsed": false
   },
   "id": "c98b19c6a3347d6b",
   "execution_count": null
  },
  {
   "cell_type": "code",
   "outputs": [],
   "source": [
    "# case 2\n",
    "condition1 = (no.find('-') == 3)  # 첫번째 '-' 위치 확인\n",
    "condition2 = (no.find('-', 4) == 6)  # 두번째 '-' 위치 확인\n",
    "condition3 = (len(no)) == 12  # 전체 글자수 (12) 확인\n",
    "condition4 = (no.replace('-').isdecimal())  # '-' 을 제외한 문자가 숫자인지 확인\n",
    "if condition1 or condition2 or condition3 or condition4:\n",
    "    print('올바른 형식입니다.')\n",
    "else:\n",
    "    print('올바른 형식이 아닙니다.')"
   ],
   "metadata": {
    "collapsed": false
   },
   "id": "9d99f9e2c119e0cf",
   "execution_count": null
  }
 ],
 "metadata": {
  "kernelspec": {
   "display_name": "Python 3",
   "language": "python",
   "name": "python3"
  },
  "language_info": {
   "codemirror_mode": {
    "name": "ipython",
    "version": 2
   },
   "file_extension": ".py",
   "mimetype": "text/x-python",
   "name": "python",
   "nbconvert_exporter": "python",
   "pygments_lexer": "ipython2",
   "version": "2.7.6"
  }
 },
 "nbformat": 4,
 "nbformat_minor": 5
}
