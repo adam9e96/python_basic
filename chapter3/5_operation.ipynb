{
 "cells": [
  {
   "metadata": {},
   "cell_type": "code",
   "outputs": [],
   "execution_count": null,
   "source": [
    "\"\"\"\n",
    "1. 파일명 : 5_operation.ipynb\n",
    "2. 개요: 파이썬의 연산자 사용법과 예제 (산술, 대입, 복합 대입, 비교, 논리, 시퀀스, 삼항 조건 연산자)\n",
    "3. 작성자 : adam9e96\n",
    "4. 업데이트: 2024-10-22\n",
    "\"\"\""
   ],
   "id": "e7703ad29a77e0e9"
  },
  {
   "cell_type": "markdown",
   "source": [
    "# 파이썬 연산자\n",
    "### 1. 산술 연산자\n",
    "- 산술 연산자는 수학적인 계산을 수행할 때 사용됩니다.\n"
   ],
   "metadata": {
    "collapsed": false
   },
   "id": "218c5ce5f4eb8991"
  },
  {
   "cell_type": "code",
   "outputs": [
    {
     "name": "stdout",
     "output_type": "stream",
     "text": [
      "7 + 2 = 9 \n",
      "7 - 2 = 5 \n",
      "7 * 2 = 14 \n",
      "7 ** 2 = 49 \n",
      "7 / 2 = 3.5 \n",
      "7 // 2 = 3 \n",
      "7 % 2 = 1 \n"
     ]
    }
   ],
   "source": [
    "a = 7\n",
    "b = 2\n",
    "\n",
    "print('{} + {} = {} '.format(a, b, a + b))  # 덧셈\n",
    "print('{} - {} = {} '.format(a, b, a - b))  # 뺄셈\n",
    "print('{} * {} = {} '.format(a, b, a * b))  # 곱셈\n",
    "print('{} ** {} = {} '.format(a, b, a ** b))  # 거듭제곱\n",
    "print('{} / {} = {} '.format(a, b, a / b))  # 나눗셈 (소수점까지 계산)\n",
    "print('{} // {} = {} '.format(a, b, a // b))  # 몫\n",
    "print('{} % {} = {} '.format(a, b, a % b))  # 나머지\n",
    "\n",
    "# 거듭제곱 연산은 잘 사용하지 않습니다."
   ],
   "metadata": {
    "collapsed": true,
    "ExecuteTime": {
     "end_time": "2024-02-26T08:29:34.546805Z",
     "start_time": "2024-02-26T08:29:34.526259800Z"
    }
   },
   "id": "initial_id",
   "execution_count": 80
  },
  {
   "cell_type": "markdown",
   "source": [
    "### 2. 대입 연산자\n",
    "- 대입 연산자는 변수에 값을 저장할 때 사용됩니다."
   ],
   "metadata": {
    "collapsed": false
   },
   "id": "4e8812b11b7201e6"
  },
  {
   "cell_type": "code",
   "outputs": [
    {
     "name": "stdout",
     "output_type": "stream",
     "text": [
      "a = 10, b = 20\n",
      "a = 10, b = 20\n",
      "a = 20, b= 10\n"
     ]
    }
   ],
   "source": [
    "# a = b : b 에 있는 값을 a라는 변수에 저장을 하라.\n",
    "a = 10\n",
    "a, b = 10, 20  # 2개 이상의 변수에 저장. 튜플을 이용.\n",
    "\n",
    "print('a = %d, b = %d' % (a, b))  # 10, 20\n",
    "\n",
    "print(f'a = {a}, b = {b}')\n",
    "\n",
    "a, b = b, a  # 값을 교환 (튜플을 이용해서 가능한거임)\n",
    "print('a = %d, b= %d' % (a, b))  # 20,10"
   ],
   "metadata": {
    "collapsed": false,
    "ExecuteTime": {
     "end_time": "2024-02-26T08:34:30.527828500Z",
     "start_time": "2024-02-26T08:34:30.507317Z"
    }
   },
   "id": "ec6e0a1e57e7034a",
   "execution_count": 88
  },
  {
   "cell_type": "markdown",
   "source": [
    "### 3. 복합 대입 연산자\n",
    "- 복합 대입 연산자는 연산과 대입을 함께 수행한다."
   ],
   "metadata": {
    "collapsed": false
   },
   "id": "28936e6fed95d9d8"
  },
  {
   "cell_type": "code",
   "source": [
    "c = 10\n",
    "c += 10  # c = c + 10\n",
    "print(c)\n",
    "\n",
    "c -= 10  # c = c - 10\n",
    "print(c)\n",
    "\n",
    "c //= 10  # c = c // 10 (정수 나눗셈)\n",
    "print(c)\n",
    "\n",
    "c *= 10  # c = c * 10\n",
    "print(c)"
   ],
   "metadata": {
    "collapsed": false,
    "ExecuteTime": {
     "end_time": "2024-10-24T09:13:21.083272Z",
     "start_time": "2024-10-24T09:13:21.073998Z"
    }
   },
   "id": "a49b4280a95d7d68",
   "outputs": [
    {
     "name": "stdout",
     "output_type": "stream",
     "text": [
      "20\n",
      "10\n",
      "1\n",
      "10\n"
     ]
    }
   ],
   "execution_count": 2
  },
  {
   "cell_type": "markdown",
   "source": [
    "### 4. 비교 연산자\n",
    "- 비교 연산자는 두 값을 비교하여 결과를 True 또는 False로 반환한다."
   ],
   "metadata": {
    "collapsed": false
   },
   "id": "b84a4ff6de390b3f"
  },
  {
   "cell_type": "code",
   "outputs": [
    {
     "name": "stdout",
     "output_type": "stream",
     "text": [
      "15 > 10 : True\n",
      "15 > 10 : True\n",
      "15 < 10 : False \n",
      "15 >= 10 : True\n",
      "15 <= 10 : False \n",
      "15 == 10 : False \n",
      "15 != 10 : True \n"
     ]
    }
   ],
   "source": [
    "# 결과 값은 True 와 False 둘 중 하나\n",
    "a = 15\n",
    "\n",
    "print(f'{a} > 10 : {a > 10}')  # True. a가 10 보다 크다\n",
    "print('{} < 10 : {} '.format(a, a < 10))  # False.  a 가 10보다 작다.\n",
    "print('{} >= 10 : {}'.format(a, a >= 10))  # True.  a 가 10보다 크거나 같다.\n",
    "print('{} <= 10 : {} '.format(a, a <= 10))  # False. a 가 10보다 작거나 같다.\n",
    "print('{} == 10 : {} '.format(a, a == 10))  # False. a 와 10이 같다.\n",
    "print('{} != 10 : {} '.format(a, a != 10))  # True.  a 와 10이 같지 않다."
   ],
   "metadata": {
    "collapsed": false,
    "ExecuteTime": {
     "end_time": "2024-02-26T08:37:04.360208500Z",
     "start_time": "2024-02-26T08:37:04.341206200Z"
    }
   },
   "id": "7d517f0b3d5781e7",
   "execution_count": 108
  },
  {
   "cell_type": "markdown",
   "source": [
    "### 문제"
   ],
   "metadata": {
    "collapsed": false
   },
   "id": "390625c98e416b50"
  },
  {
   "cell_type": "code",
   "outputs": [
    {
     "name": "stdout",
     "output_type": "stream",
     "text": [
      "십의 자리 : 4\n",
      "일의 자리 : 6\n",
      "십의 자리 : 4\n",
      "일의 자리 : 6\n"
     ]
    }
   ],
   "source": [
    "# 임의의 두 자리 정수 (10 ~ 99) 를 입력 받아서 십의 자리와 일의 자리로 분류하여\n",
    "# 출력하는 프로그램을 구현하세요.\n",
    "\n",
    "# 실행 예)\n",
    "# 10 ~ 99 사이의 정수를 입력하세요 >>> 45\n",
    "# 십의 자리 : 4\n",
    "# 일의 자리 : 5\n",
    "\n",
    "# intputInt = int(input('10 ~ 99 사이의 정수를 입력하세요 >>> '))\n",
    "# print('십의 자리 : {}'.format(intputInt // 10))\n",
    "# print('일의 자리 : {}'.format(intputInt) % 10)\n",
    "\n",
    "# Case1. 정수 연산을 이용\n",
    "number = int(input('10 ~ 99 사이의 정수를 입력하세요 >>> '))  # 정수로 입력을 받음\n",
    "\n",
    "tens = number // 10  # 입력받은 정수를 10으로 나눈 몫\n",
    "# 십의 자리 계산: // 연산자(정수 나눗셈)를 사용하여 입력받은 정수를 10으로 나눕니다. \n",
    "# 45를 10으로 나누면 4.5이지만, // 연산자는 결과값을 정수로 반환하기 때문에 소수점 이하를 버리고 4만 반환한다.\n",
    "units = number % 10  # 입력받은 정수를 10으로 나누고 남은 나머지 값\n",
    "\n",
    "print('십의 자리 : {}'.format(tens))\n",
    "print('일의 자리 : {}'.format(units))\n",
    "\n",
    "# Case2. 문자열 처리를 이용\n",
    "# 문자열 인덱싱을 이용하여 십의 자리와 일의 자리 숫자를 추출 한다.\n",
    "number_str = input('Enter a number')  # 문자열로 입력을 받음\n",
    "\n",
    "print(f'십의 자리 : {number_str[0]}')  # 인덱스를 조회해서 값을 출력\n",
    "print(f'일의 자리 : {number_str[1]}')\n",
    "# 사용자로부터 입력받은 문자열에서 \n",
    "# 첫 번째 문자([0])는 십의 자리를 나타냄.\n",
    "# 두 번째 문자([1])는 일의 자리를 나타냄.\n",
    "\n",
    "# 요약\n",
    "\n",
    "# 두 방법 모두 유효하지만, 상황에 따라 적합한 방법을 선택할 수 있습니다. \n",
    "# 정수 연산을 사용하는 방법은 수학적 계산에 기반하고 있으며, 문자열 처리 방법은 입력값을 텍스트로 취급하여 처리합니다. \n",
    "# 문자열 처리 방법은 입력 데이터의 형태를 변환하지 않고 직접 접근하는 것이 특징."
   ],
   "metadata": {
    "collapsed": false,
    "ExecuteTime": {
     "end_time": "2024-02-26T08:40:40.489130Z",
     "start_time": "2024-02-26T08:40:39.153283400Z"
    }
   },
   "id": "105e878b3c982c1e",
   "execution_count": 112
  },
  {
   "cell_type": "code",
   "outputs": [
    {
     "name": "stdout",
     "output_type": "stream",
     "text": [
      "변환 결과는 1시간 1분 40 초 입니다.\n"
     ]
    }
   ],
   "source": [
    "# 1분은 60초이고, 1시간은 60분입니다. 따라서 1시간은 3600초 입니다.\n",
    "# 임의의 초를 입력받아 해당 초를 시, 분, 초로 변환하여 출력하는 프로그램을 구현하세요.\n",
    "\n",
    "# 실행 예)\n",
    "# 초를 입력하세요 >> 3690\n",
    "# 변환 결과는 1시간 1분 30초 입니다.\n",
    "\n",
    "# 힌트 : 나누기에 관련된 산술 연산자를 활용하는 문제입니다.\n",
    "\n",
    "input_sec = int(input('초를 입력하세요'))  # 정수로 입력을 받음\n",
    "# print(input_sec) # 3690\n",
    "hours = input_sec // 3600  # 3600을 나눈 몫 : 1\n",
    "minutes = input_sec % 3600 // 60  # 3600을 나눈 나머지 : 90 여기서 60을 나눈 몫\n",
    "seconds = input_sec % 60  # 60으로 나눈 나머지값\n",
    "\n",
    "print(f'변환 결과는 {hours}시간 {minutes}분 {seconds} 초 입니다.')\n",
    "# 변환 결과는 1시간 1분 40 초 입니다."
   ],
   "metadata": {
    "collapsed": false,
    "ExecuteTime": {
     "end_time": "2024-02-26T08:46:14.651314Z",
     "start_time": "2024-02-26T08:46:12.881720800Z"
    }
   },
   "id": "e9cc02301e48c665",
   "execution_count": 115
  },
  {
   "cell_type": "markdown",
   "source": [
    "### 5. 논리 연산자\n",
    "- 논리 연산자는 조건을 결합하거나 반전시킬 때 사용."
   ],
   "metadata": {
    "collapsed": false
   },
   "id": "a60b486d21f7e0c8"
  },
  {
   "cell_type": "code",
   "source": [
    "# 결과값은 True 와 False 둘 중 하나\n",
    "# a 논리연산자 b 의 형식. a, b  모두 불형.\n",
    "# a and b : a 와 b 가 모두 참(True) 이면 True, 아니면 False\n",
    "# a or b : a 와 b 중 하나라도 참(True) 이면 True, 아니면 False \n",
    "# not a : a가 참(True) 이면 False, a 가 거짓(False) 이면 True\n",
    "\n",
    "a = 10\n",
    "b = 0\n",
    "\n",
    "print('{} > 0 and {} > 0 : {} '.format(a, b, a > 0 and b > 0))  # False\n",
    "print('{} > 0 or {} > 0 : {} '.format(a, b, a > 0 or b > 0))  # True\n",
    "print('not {} : {} '.format(a, not a))  # False (0이 아니면 True)\n",
    "print('not {} : {} '.format(b, not b))  # True (0이면 False)"
   ],
   "metadata": {
    "collapsed": false,
    "ExecuteTime": {
     "end_time": "2024-10-24T09:30:58.212458Z",
     "start_time": "2024-10-24T09:30:58.203746Z"
    }
   },
   "id": "6263c2d5f7eb5016",
   "outputs": [
    {
     "name": "stdout",
     "output_type": "stream",
     "text": [
      "10 > 0 and 0 > 0 : False \n",
      "10 > 0 or 0 > 0 : True \n",
      "not 10 : False \n",
      "not 0 : True \n"
     ]
    }
   ],
   "execution_count": 3
  },
  {
   "cell_type": "markdown",
   "source": [
    "### 6. 시퀀스 연산자\n",
    "- 시퀀스 연산자는 순서가 있는 시퀀스에서 사용된다. (리스트, 튜플, 문자열 등)"
   ],
   "metadata": {
    "collapsed": false
   },
   "id": "223894e8c4f6d49a"
  },
  {
   "cell_type": "code",
   "outputs": [
    {
     "name": "stdout",
     "output_type": "stream",
     "text": [
      "    #\n",
      "   ###\n",
      "  #####\n",
      " #######\n",
      "#########\n",
      "--------------------\n"
     ]
    }
   ],
   "source": [
    "# 순서가 있는 시퀀스 ( 리스트, 튜플, range, 문자열 등) 에서 사용할 수 있는 연산자\n",
    "# + : 연결하기\n",
    "# * : 반복하기\n",
    "tree = '#'\n",
    "space = ' '\n",
    "print(space * 4 + tree * 1)  #         #\n",
    "print(space * 3 + tree * 3)  #        ###\n",
    "print(space * 2 + tree * 5)  #       #####\n",
    "print(space * 1 + tree * 7)  #      #######\n",
    "print(space * 0 + tree * 9)  #     #########\n",
    "print('-' * 20)"
   ],
   "metadata": {
    "collapsed": false,
    "ExecuteTime": {
     "end_time": "2024-02-26T06:25:46.546118600Z",
     "start_time": "2024-02-26T06:25:46.538119500Z"
    }
   },
   "id": "c74a6316289b4d5f",
   "execution_count": 46
  },
  {
   "cell_type": "code",
   "outputs": [],
   "source": [
    "### 삼항 조건 연산자 (ternary conditional operator) \n",
    "# Python에서 if-else 문을 한 줄로 간단히 표현할 수 있다."
   ],
   "metadata": {
    "collapsed": false
   },
   "id": "a76ed7b28f582624",
   "execution_count": null
  },
  {
   "cell_type": "code",
   "source": [
    "# 일반적인 삼항 조건 연산자 : 조건식 ? 참 : 거짓\n",
    "# 파이썬 삼항 조건 연산자 : 참 if 조건식 else 거짓\n",
    "# Python에서 삼항 조건 연산자는 if-else 문을 한 줄로 간단히 표현할 수 있게 해줍니다. \n",
    "# Python의 삼항 조건 연산자는 다음과 같은 형태를 취합니다\n",
    "#   - 참일 때의 값 if 조건 else 거짓일 때의  값\n",
    "a = 10\n",
    "b = 20\n",
    "\n",
    "# 참  if    조건식    # else 거짓\n",
    "result = (a - b) if (a >= b) else (b - a)  # 조건식 a >= b 은 False 이므로 b-a 실행\n",
    "print('{} 과 {}의 차이는 {} 입니다.'.format(a, b, result))  # 10과 20의 차이는 10 입니다."
   ],
   "metadata": {
    "collapsed": false,
    "ExecuteTime": {
     "end_time": "2024-10-24T09:33:10.344056Z",
     "start_time": "2024-10-24T09:33:10.334398Z"
    }
   },
   "id": "722a0ae757a92b3c",
   "outputs": [
    {
     "name": "stdout",
     "output_type": "stream",
     "text": [
      "10 과 20의 차이는 10 입니다.\n"
     ]
    }
   ],
   "execution_count": 4
  },
  {
   "cell_type": "markdown",
   "source": [
    "### 문제"
   ],
   "metadata": {
    "collapsed": false
   },
   "id": "81061f5c6f81df7a"
  },
  {
   "cell_type": "code",
   "outputs": [
    {
     "name": "stdout",
     "output_type": "stream",
     "text": [
      "5\n",
      "오전\n",
      "근무 시간은 오전\n",
      "평균은84.75점이고, 결과는불합격\n"
     ]
    }
   ],
   "source": [
    "# 네 자리 정수로 구성된 사원번호를 기준으로 근무 시간을 결정하고자 합니다.\n",
    "# 사원번호의 끝자리 숫자가 5 이상이면 '오전', 아니면 '오후'를 출력하는 프로그램을 구현하세요.\n",
    "\n",
    "# 실행 예)\n",
    "# 4자리 사원번호를 입력하세요 >>> 1255\n",
    "# 근무 시간은 오전입니다.\n",
    "inputUser = int(input('4자리 사원번호를 입력하세요 >>> '))\n",
    "# result3 = (inputUser % 1000 )\n",
    "# print(result3)\n",
    "\n",
    "result_ = inputUser % 10\n",
    "print(result_)  # 5\n",
    "work_time = '오전' if result_ >= 5 else '오후'\n",
    "\n",
    "print(work_time)\n",
    "print(f'근무 시간은 {work_time}')\n",
    "\n",
    "# 국어, 영어, 수학 점수를 각각 입력받아서 평균을 구하고, 평균이 80점 이상이면 '합격',\n",
    "# 아니면 '불합격'을 출력하는 프로그램을 구현하세요.\n",
    "\n",
    "# 실행 예)\n",
    "# 국어 점수를 입력하세요 >>> 85 \n",
    "# 영어 점수를 입력하세요 >>> 83\n",
    "# 수학 점수를 입력하세요 >>> 81\n",
    "# 평균은 83.0점이고, 결과는 합격입니다.\n",
    "\n",
    "kor = int(input('국어 점수를 입력하세요 >>>'))\n",
    "eng = int(input('영어 점수를 입력하세요 >>>'))\n",
    "math = int(input('수학 점수를 입력하세요 >>>'))\n",
    "sci = int(input('과학 점수를 입력하세요 >>>'))\n",
    "total = kor + eng + math + sci\n",
    "avg = total / 4\n",
    "\n",
    "result4 = '합격' if avg >= 80 else '불합격'\n",
    "\n",
    "result5 = '합격' if avg >= 90 else '불합격'\n",
    "print(f'평균은{avg}점이고, 결과는{result5}')"
   ],
   "metadata": {
    "collapsed": false,
    "ExecuteTime": {
     "end_time": "2024-02-26T12:48:25.725487500Z",
     "start_time": "2024-02-26T12:48:18.878532300Z"
    }
   },
   "id": "48e6ed0ee4691151",
   "execution_count": 120
  },
  {
   "cell_type": "code",
   "outputs": [
    {
     "name": "stdout",
     "output_type": "stream",
     "text": [
      "한 박스에 20개의 라면을 담을 수 있습니다.\n",
      "라면의 개수를 입력하시면 필요한 박스 수를 알려드립니다.\n",
      "2\n",
      "55개의 라면을 담으려면 3박스가 필요합니다 \n"
     ]
    }
   ],
   "source": [
    "\"\"\"\n",
    "1박스에 라면이 20개씩 들어갑니다. 라면이 21개가 있다면 2박스가 있어야 모두 담을 수 있습니다.\n",
    "라면의 갯수를 입력받아 라면을 담기 위해서 필요한 박스의 개수를 구하여 출력하는 프로그램을 구현하세요.\n",
    "\n",
    "실행 예)\n",
    "한 박스에 20개의 라면을 담을 수 있습니다.\n",
    "라면의 개수를 입력하시면 필요한 박스 수를 알려드립니다.\n",
    "라면의 개수를 입력하세요 >>> 50\n",
    "50개의 라면을 담으려면 3박스가 필요합니다.\n",
    "\n",
    "한 박스에 20개의 라면을 담을 수 있습니다.\n",
    "라면의 개수를 입력하시면 필요한 박스 수를 알려드립니다.\n",
    "라면의 개수를 입력하세요 >>> 60\n",
    "60개의 라면을 담으려면 3박스가 필요합니다.\n",
    "\"\"\"\n",
    "print('한 박스에 20개의 라면을 담을 수 있습니다.')\n",
    "print('라면의 개수를 입력하시면 필요한 박스 수를 알려드립니다.')\n",
    "inputUser = int(input('라면의 개수를 입력하세요 >>>'))\n",
    "# print(inputUser)\n",
    "result = inputUser // 20\n",
    "# 20  : 1 \n",
    "# 30  : 1\n",
    "# 40  : 2\n",
    "# 50  : 2\n",
    "# 60  : 3\n",
    "\n",
    "result2 = result if result == 0 else (inputUser // 20) + 1\n",
    "print(result)\n",
    "print(f'{inputUser}개의 라면을 담으려면 {result2}박스가 필요합니다 ')"
   ],
   "metadata": {
    "collapsed": false,
    "ExecuteTime": {
     "end_time": "2024-02-26T07:15:20.284206500Z",
     "start_time": "2024-02-26T07:15:18.455063900Z"
    }
   },
   "id": "8dd270aa084cd38d",
   "execution_count": 77
  },
  {
   "cell_type": "code",
   "outputs": [],
   "source": [],
   "metadata": {
    "collapsed": false
   },
   "id": "64cc100481af4e7c",
   "execution_count": null
  }
 ],
 "metadata": {
  "kernelspec": {
   "display_name": "Python 3",
   "language": "python",
   "name": "python3"
  },
  "language_info": {
   "codemirror_mode": {
    "name": "ipython",
    "version": 2
   },
   "file_extension": ".py",
   "mimetype": "text/x-python",
   "name": "python",
   "nbconvert_exporter": "python",
   "pygments_lexer": "ipython2",
   "version": "2.7.6"
  }
 },
 "nbformat": 4,
 "nbformat_minor": 5
}
