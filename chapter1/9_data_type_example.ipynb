{
 "cells": [
  {
   "metadata": {
    "ExecuteTime": {
     "end_time": "2024-10-22T10:06:42.349207Z",
     "start_time": "2024-10-22T10:06:42.343968Z"
    }
   },
   "cell_type": "code",
   "source": [
    "\"\"\"\n",
    "1. 파일명 : data_type_example.ipynb\n",
    "2. 개요: 파이썬의 기본 데이터 타입과 관련 기능, 예시 정리\n",
    "3. 작성자 : adam9e96\n",
    "4. 업데이트: 2024-10-22\n",
    "\"\"\""
   ],
   "id": "4257d93d21e5dc99",
   "outputs": [
    {
     "data": {
      "text/plain": [
       "'\\n1. 파일명 : data_type_example.ipynb\\n2. 개요: 파이썬의 기본 데이터 타입과 관련 기능, 예시 정리\\n3. 작성자 : adam9e96\\n4. 업데이트: 2024-10-22\\n'"
      ]
     },
     "execution_count": 12,
     "metadata": {},
     "output_type": "execute_result"
    }
   ],
   "execution_count": 12
  },
  {
   "cell_type": "markdown",
   "source": [
    "# 기본 데이터 타입\n",
    "1. 정수(int): 숫자 데이터 유형 중 하나로, 소수점이 없는 숫자를 나타냅니다. 예를 들어, age = 25에서 25는 정수이다.\n",
    "2. 실수(float): 소수점을 포함하는 숫자를 나타냅니다. 예를 들어, height = 168.5에서 168.5는 실수이다.\n",
    "3. 논리(bool): 참(True) 또는 거짓(False)의 두 가지 값만 가질 수 있는 데이터 유형이다.\n",
    "4. 문자열(str): 텍스트 데이터를 나타내며, 작은따옴표(') 또는 큰따옴표(\")로 둘러쌉니다. 여러 줄의 문자열을 저장할 때는 삼중 따옴표(''' 또는 \"\"\")를 사용합니다.\n",
    "\n",
    "핵심\n",
    "- 파이썬의 기본 데이터 타입 4 가지 : 정수, 실수, 불, 문자열\n",
    "- 파이썬의 컬렉션 데이터 타입 4가지 : list, tuple, set, dict\n",
    " - 파이썬에 컬렉션은 기본 데이터 타입처럼 사용합니다.\n",
    "\n",
    ">파이썬은 8가지 데이터 타입만 외우면 된다."
   ],
   "metadata": {
    "collapsed": false
   },
   "id": "8f140e51cc245ade"
  },
  {
   "metadata": {},
   "cell_type": "markdown",
   "source": [
    "## 파이썬의 기본 데이터 타입\n",
    "### 1. **정수(int)**: 소수점이 없는 숫자, 예: `age = 25`\n",
    "### 2. **실수(float)**: 소수점을 포함하는 숫자, 예: `height = 168.5`\n",
    "### 3. **논리(bool)**: 참(`True`) 또는 거짓(`False`)만 가질 수 있는 데이터 유형\n",
    "### 4. **문자열(str)**: 텍스트 데이터를 나타내며 작은따옴표('')나 큰따옴표(\"\")로 감쌈"
   ],
   "id": "493fb8f3adb06b33"
  },
  {
   "metadata": {},
   "cell_type": "markdown",
   "source": "### 1. 문자열(str), 정수(int), 실수(float), None 사용 예시\n",
   "id": "4714a9c889b639a2"
  },
  {
   "metadata": {
    "collapsed": true,
    "ExecuteTime": {
     "end_time": "2024-10-22T10:06:42.395214Z",
     "start_time": "2024-10-22T10:06:42.385425Z"
    }
   },
   "cell_type": "code",
   "source": [
    "name = 'Alice'  # 단일 줄 문자열 저장\n",
    "age = 25  # 정수를 저장\n",
    "address = '''우편번호 12345\n",
    "서울시 영등포구 여의도동\n",
    "서울빌딩 501호'''  # 여러 줄 문자열 저장\n",
    "boyfriend = None  # 값이 없음을 나타내는 None (자바의 null과 유사)\n",
    "height = 168.5  # 실수를 저장\n",
    "\n",
    "# 변수 출력\n",
    "print(name)\n",
    "print(age)\n",
    "print(address)\n",
    "print(boyfriend)\n",
    "print(height)\n",
    "\n",
    "# 데이터 타입 확인\n",
    "print(type(name))  # 출력: <class 'str'>\n",
    "print(type(age))  # 출력: <class 'int'>\n",
    "print(type(address))  # 출력: <class 'str'>\n",
    "print(type(boyfriend))  # 출력: <class 'NoneType'>\n",
    "print(type(height))  # 출력: <class 'float'>"
   ],
   "id": "initial_id",
   "outputs": [
    {
     "name": "stdout",
     "output_type": "stream",
     "text": [
      "Alice\n",
      "25\n",
      "우편번호 12345\n",
      "서울시 영등포구 여의도동\n",
      "서울빌딩 501호\n",
      "None\n",
      "168.5\n",
      "<class 'str'>\n",
      "<class 'int'>\n",
      "<class 'str'>\n",
      "<class 'NoneType'>\n",
      "<class 'float'>\n"
     ]
    }
   ],
   "execution_count": 13
  },
  {
   "metadata": {},
   "cell_type": "markdown",
   "source": [
    "### 2. 정수(int)\n",
    " - 정수(integer)는 소수점이 없는 숫자입니다.\n",
    " - `int()` 함수를 사용하여 다른 데이터 타입을 정수로 변환할 수 있습니다."
   ],
   "id": "d86d3d03834c612a"
  },
  {
   "cell_type": "code",
   "source": [
    "# 정수형 변환 예시\n",
    "print(int(1.9))  # 1 / 소수점 이하를 제거하여 정수로 변환\n",
    "print(int(True))  # 1 / True는 정수 1로 변환\n",
    "print(int(False))  # 0 / False는 정수 0으로 변환\n",
    "print(int('100'))  # 100 / 문자열 '100'을 정수로 변환\n",
    "\n",
    "# 10진수를 2진수, 8진수, 16진수로 변환\n",
    "n = 95\n",
    "print(bin(n))  # 0b1011111 / 2진수로 변환\n",
    "print(oct(n))  # 0o137 / 8진수로 변환\n",
    "print(hex(n))  # 0x5f / 16진수로 변환"
   ],
   "metadata": {
    "collapsed": false,
    "ExecuteTime": {
     "end_time": "2024-10-22T10:06:42.449078Z",
     "start_time": "2024-10-22T10:06:42.444256Z"
    }
   },
   "id": "a44e270a59922203",
   "outputs": [
    {
     "name": "stdout",
     "output_type": "stream",
     "text": [
      "1\n",
      "1\n",
      "0\n",
      "100\n",
      "0b1011111\n",
      "0o137\n",
      "0x5f\n"
     ]
    }
   ],
   "execution_count": 14
  },
  {
   "metadata": {},
   "cell_type": "markdown",
   "source": [
    "### 3. 실수(float)\n",
    "# - 소수점을 포함하는 숫자를 실수(floating point)라고 합니다.\n",
    "# - `float()` 함수를 사용하여 다른 데이터 타입을 실수로 변환할 수 있습니다."
   ],
   "id": "b2f8448cfa6c4755"
  },
  {
   "cell_type": "code",
   "source": [
    "# 실수형 변환 예시\n",
    "print(float(1))  # 1.0 / 정수 1을 실수로 변환\n",
    "print(float(True))  # 1.0 / True는 1.0으로 변환\n",
    "print(float('3.14'))  # 3.14 / 문자열 '3.14'를 실수로 변환\n",
    "\n",
    "# 실수 연산의 부정확성\n",
    "# 컴퓨터는 실수를 이진수로 표현하기 때문에 연산 결과가 부정확할 수 있습니다.\n",
    "print(0.1 + 0.2)  # 0.30000000000000004\n",
    "print(0.1 + 0.2 == 0.3)  # False\n",
    "print(0.1 + 0.2 == 0.30000000000000004)\n",
    "\n",
    "# 해결방법: 정수로 변환 후 연산하거나 반올림 사용"
   ],
   "metadata": {
    "collapsed": false,
    "ExecuteTime": {
     "end_time": "2024-10-22T10:08:48.213420Z",
     "start_time": "2024-10-22T10:08:48.203524Z"
    }
   },
   "id": "aa72164bcfefcdae",
   "outputs": [
    {
     "name": "stdout",
     "output_type": "stream",
     "text": [
      "1.0\n",
      "1.0\n",
      "3.14\n",
      "0.30000000000000004\n",
      "False\n",
      "True\n"
     ]
    }
   ],
   "execution_count": 23
  },
  {
   "metadata": {},
   "cell_type": "markdown",
   "source": [
    "### 4. 논리(bool)\n",
    "# - 참(True) 또는 거짓(False)을 나타내는 데이터 타입입니다.\n",
    "# - 조건문에서 주로 사용됩니다."
   ],
   "id": "4dcc5db9d594ee65"
  },
  {
   "cell_type": "code",
   "source": [
    "# 불 자료형의 참/거짓 평가\n",
    "print(bool(0))  # False (0은 거짓)\n",
    "print(bool(''))  # False (빈 문자열은 거짓)\n",
    "print(bool([]))  # False (빈 리스트는 거짓)\n",
    "print(bool(1))  # True (0이 아닌 숫자는 참)\n",
    "\n",
    "print(3 > 4)  # False\n",
    "print(3 < 4)  # True"
   ],
   "metadata": {
    "collapsed": false,
    "ExecuteTime": {
     "end_time": "2024-10-22T10:09:29.474786Z",
     "start_time": "2024-10-22T10:09:29.461898Z"
    }
   },
   "id": "2527d387dfc5d047",
   "outputs": [
    {
     "name": "stdout",
     "output_type": "stream",
     "text": [
      "False\n",
      "False\n",
      "False\n",
      "True\n",
      "False\n",
      "True\n"
     ]
    }
   ],
   "execution_count": 24
  },
  {
   "cell_type": "markdown",
   "source": [
    "### 5. 문자열 str\n",
    "\n",
    " - 문자열은 텍스트 데이터를 나타내며 작은따옴표('') 또는 큰따옴표(\"\")로 감싸서 표현합니다.\n",
    " - 문자열을 한 글자이거나 여러 글자여도 작은 따옴표(')와 큰 따옴표(\")를 모두 사용할 수 있음\n",
    " - 여러 줄 문자열은 삼중 따옴표(''' ''', \"\"\" \"\"\")를 사용합니다.\n",
    "    - single line : 한 줄의 문자열 : 작은 따옴표(')와 큰 따옴표(\")\n",
    "    - mulitple line : 여러 줄의 문자열 : 삼중 따옴표(''' ''', \"\"\" \"\"\")"
   ],
   "metadata": {
    "collapsed": false
   },
   "id": "3fd373c62a588773"
  },
  {
   "cell_type": "code",
   "source": [
    "# 문자열 변환\n",
    "# str() 함수를 사용하면 다른 자료형의 값을 문자열 데이터로 변환 할 수 있음\n",
    "print(str(100))  # '100' / 정수 100을 문자열 '100'으로 변환\n",
    "print(str(True))  # 'True' / 논리 True 를 문자열 'True'로 변환\n",
    "print(str(False))  # 'False' / 논리 False 를 문자열 'False' 로 변환\n",
    "print(type(str(3.14)))  # <class 'str'> '3.14' / 실수 3.14 를 문자열 '3.14' 로 변환\n",
    "\n",
    "# 문자열 길이\n",
    "a = \"Life is too short\"\n",
    "print(type(a))  # <class 'str'>\n",
    "print(len(a))  # 17  # 문자열 길이 구하기 : len 함수 | 파이썬의 내장 함수\n",
    "# 길이계산에는 공백도 포함된다.\n",
    "\n",
    "# 문자열 인덱싱 indexing\n",
    "# 0번 부터 시작\n",
    "# 한 글자씩 뽑아낼 때 사용\n",
    "s = 'hello'\n",
    "print(s[1])  # e\n",
    "\n",
    "# 마이너스(-)인덱스는 문자열 뒤에서 부터 부여, 마지막 인덱스는 -1이 됨 #0은 사용하고 있으니 -1부터 시작함\n",
    "print(s[-1])  # o # 뒤에서 세어 첫 번째가 되는 문자.\n",
    "print(s[-4])  # e\n",
    "print(s[-0])  # h\n",
    "print(s[0])  # h\n",
    "\n",
    "print(s[0] == s[-0])  # True # 0과 -0은 같다.\n",
    "print(s[1] == s[-4])  # True\n",
    "print(s[4] == s[-1])  # 뒤에서 부터 셀때는 -1부터 시작하므로 같다.\n",
    "print(s[-5] == s[0])  # True\n",
    "# 주의 : 파이썬은 0 부터 숫자를 센다"
   ],
   "metadata": {
    "collapsed": false,
    "ExecuteTime": {
     "end_time": "2024-10-22T10:06:42.920369Z",
     "start_time": "2024-10-22T10:06:42.911055Z"
    }
   },
   "id": "872f48f6f7385a57",
   "outputs": [
    {
     "name": "stdout",
     "output_type": "stream",
     "text": [
      "100\n",
      "True\n",
      "False\n",
      "<class 'str'>\n",
      "<class 'str'>\n",
      "17\n",
      "e\n",
      "o\n",
      "e\n",
      "h\n",
      "h\n",
      "True\n",
      "True\n",
      "True\n",
      "True\n"
     ]
    }
   ],
   "execution_count": 18
  },
  {
   "cell_type": "code",
   "source": [
    "# 문자열 슬라이싱 slicing\n",
    "# 문자열 인덱스를 활용하여 한 문자 이상으로 구성된 단어나 문장을 추출할 때 사용\n",
    "\"\"\"\n",
    "s[start:stop:step]\n",
    "# start : 시작 인덱스를 지정. 생략하면 처음부터 추출\n",
    "# stop : 종료 인덱스를 지정. 생략하면 끝까지 추출\n",
    "# step : 인덱스의 증감값, 생략하면 1씩 변화\n",
    "\"\"\"\n",
    "\n",
    "s = 'banana'\n",
    "print(s[0:3])  # 출력 : ban\n",
    "print(s[0:6:2])  # 출력 : bnn\n",
    "\n",
    "# 파이썬 인덱스 특징\n",
    "# 종료 인덱스 앞에서 끝남.\n",
    "print(s[:6:2])  # bnn\n",
    "print(s[::])  # banana\n",
    "print(s[2::2])  # nn\n",
    "\n",
    "s2 = 'hello world'\n",
    "print(s2[:])\n",
    "\n",
    "s3 = 'Life is too short, You need Python'\n",
    "print(s3[:3])\n",
    "# 수식으로 나타내면\n",
    "# 0 <= s3 <= 3\n",
    "# 이 수식을 만족하는 것은 s3[0], s3[1], s3[2]\n",
    "\n",
    "print(s3[-3:])  # hon\n",
    "print(s3[19:])  # 끝 번호 부분을 생략하면 시작 번호부터 그 문자열의 끝까지 뽑아준다.\n",
    "print(s3[:])  # 시작 번호와 끝 번호 둘다 생략하면 문자열의 처음부터 끝까지 뽑아낸다.\n",
    "print(s3[19:-7])  # You need | a[19] 에서 a[-8] 까지를 의미.\n",
    "\n",
    "\n",
    "# 인덱싱과 슬라이싱 개념"
   ],
   "metadata": {
    "collapsed": false,
    "ExecuteTime": {
     "end_time": "2024-10-22T10:06:42.970084Z",
     "start_time": "2024-10-22T10:06:42.963759Z"
    }
   },
   "id": "a0f0a53b414d67ee",
   "outputs": [
    {
     "name": "stdout",
     "output_type": "stream",
     "text": [
      "ban\n",
      "bnn\n",
      "bnn\n",
      "banana\n",
      "nn\n",
      "hello world\n",
      "Lif\n",
      "hon\n",
      "You need Python\n",
      "Life is too short, You need Python\n",
      "You need\n"
     ]
    }
   ],
   "execution_count": 19
  },
  {
   "metadata": {},
   "cell_type": "markdown",
   "source": [
    "\n",
    "---\n",
    "### 1. **인덱싱(Indexing)**\n",
    "   - 인덱싱은 시퀀스 자료형에서 **특정 위치에 있는 요소를 가져오는** 방법이야.\n",
    "   - 인덱스는 **0**부터 시작해, 양수와 음수 모두 사용 가능해.\n",
    "     - 양수 인덱스는 앞에서부터(왼쪽에서 오른쪽) 위치를 지정.\n",
    "     - 음수 인덱스는 뒤에서부터(오른쪽에서 왼쪽) 위치를 지정.\n",
    "\n",
    "#### 인덱싱 예시:\n",
    "```python\n",
    "# 문자열 예시\n",
    "s = 'Python'\n",
    "print(s[0])  # 'P' / 0번 인덱스의 문자\n",
    "print(s[2])  # 't' / 2번 인덱스의 문자\n",
    "print(s[-1])  # 'n' / -1번 인덱스의 문자 (뒤에서 첫 번째)\n",
    "print(s[-2])  # 'o' / -2번 인덱스의 문자 (뒤에서 두 번째)\n",
    "\n",
    "# 리스트 예시\n",
    "li = [10, 20, 30, 40, 50]\n",
    "print(li[0])  # 10 / 첫 번째 요소\n",
    "print(li[-1])  # 50 / 마지막 요소\n",
    "print(li[2])  # 30 / 세 번째 요소\n",
    "```\n",
    "\n",
    "#### 특징:\n",
    "   - **양수 인덱스**는 `0`부터 시작하며, `0`이 첫 번째 요소, `1`이 두 번째 요소를 의미해.\n",
    "   - **음수 인덱스**는 `-1`부터 시작하며, `-1`이 마지막 요소, `-2`가 뒤에서 두 번째 요소를 의미해.\n",
    "\n",
    "---\n",
    "\n",
    "### 2. **슬라이싱(Slicing)**\n",
    "   - 슬라이싱은 시퀀스 자료형에서 **특정 범위를 잘라내서 부분 시퀀스를 가져오는** 방법이야.\n",
    "   - 기본적으로 `[start:stop:step]` 형식을 사용해.\n",
    "     - `start`: 시작 인덱스 (포함)\n",
    "     - `stop`: 끝 인덱스 (포함하지 않음)\n",
    "     - `step`: 인덱스의 증감값 (생략 시 1)\n",
    "\n",
    "#### 슬라이싱 예시:\n",
    "```python\n",
    "# 문자열 예시\n",
    "s = 'Python'\n",
    "print(s[0:4])  # 'Pyth' / 0번 인덱스부터 4번 인덱스 전까지 (0, 1, 2, 3)\n",
    "print(s[2:])  # 'thon' / 2번 인덱스부터 끝까지\n",
    "print(s[:4])  # 'Pyth' / 처음부터 4번 인덱스 전까지\n",
    "print(s[::2])  # 'Pto' / 처음부터 끝까지, 2씩 증가하며 추출\n",
    "\n",
    "# 리스트 예시\n",
    "li = [10, 20, 30, 40, 50]\n",
    "print(li[1:4])  # [20, 30, 40] / 1번 인덱스부터 4번 인덱스 전까지\n",
    "print(li[:3])  # [10, 20, 30] / 처음부터 3번 인덱스 전까지\n",
    "print(li[2::2])  # [30, 50] / 2번 인덱스부터 끝까지, 2씩 증가\n",
    "print(li[::-1])  # [50, 40, 30, 20, 10] / 리스트를 뒤집음 (step이 -1인 경우)\n",
    "```\n",
    "\n",
    "#### 특징:\n",
    "   - **`start`**는 포함되지만, **`stop`**은 포함되지 않는다는 점에 주의해야 해.\n",
    "   - **`step`** 값을 사용해, 데이터를 건너뛰면서 추출할 수 있어. (예: `::2`는 두 개씩 건너뛰며 추출)\n",
    "   - **`start`**와 **`stop`**을 생략할 수 있어:\n",
    "     - `s[:]`: 전체 시퀀스 반환 (처음부터 끝까지)\n",
    "     - `s[2:]`: 2번 인덱스부터 끝까지\n",
    "     - `s[:4]`: 처음부터 4번 인덱스 전까지\n",
    "\n",
    "---\n",
    "\n",
    "### 인덱싱과 슬라이싱의 차이:\n",
    "- **인덱싱**은 **단일 요소**를 가져오고, **슬라이싱**은 **여러 요소의 범위**를 가져와.\n",
    "- 인덱싱은 요소 하나를 가리키지만, 슬라이싱은 부분 문자열이나 리스트를 반환해.\n",
    "\n",
    "#### 예시 비교:\n",
    "```python\n",
    "s = 'Python'\n",
    "print(s[2])  # 't' (인덱싱: 2번 위치의 문자)\n",
    "print(s[2:5])  # 'tho' (슬라이싱: 2번부터 5번 전까지의 문자들)\n",
    "```"
   ],
   "id": "ccd8a94eaab745a2"
  },
  {
   "cell_type": "code",
   "source": [
    "# 데이터 타입 복습 겸 문제 풀이\n",
    "# 문제\n",
    "student = '31025'\n",
    "grade_no = student[0]\n",
    "class_no = student[1:3]\n",
    "# stu_no = student[3:] # stu_no = student[-2:] 도 가능\n",
    "stu_no = student[-2:]  # stu_no = student[-2:] 도 가능\n",
    "\n",
    "print(grade_no, '학년', class_no, '반', stu_no, '번')\n",
    "# 3 학년 10 반 25 번\n",
    "\n",
    "# 마이너스 인덱싱도 가능하다.\n",
    "print(student[-3])"
   ],
   "metadata": {
    "collapsed": false,
    "ExecuteTime": {
     "end_time": "2024-10-22T10:06:43.020353Z",
     "start_time": "2024-10-22T10:06:43.016101Z"
    }
   },
   "id": "266a601efe2bca59",
   "outputs": [
    {
     "name": "stdout",
     "output_type": "stream",
     "text": [
      "3 학년 10 반 25 번\n",
      "0\n"
     ]
    }
   ],
   "execution_count": 20
  },
  {
   "cell_type": "code",
   "source": [
    "# 문제 2\n",
    "# 전체 차량번호에서 뒤에 숫자 4자리만 출력하는 프로그램을 구현하세요.\n",
    "# 전체 차량번호는 '서울2가 1234', '10가 1234', '288가 1234'와 같이 다르지만, 모두 차량번호 4자리는 '1234'입니다.\n",
    "# 실행 예)\n",
    "# 서울2가 1234의 차량번호 4자리는 1234입니다.\n",
    "\n",
    "car1 = '서울2가1234'\n",
    "car2 = '10가1234'\n",
    "car3 = '288가1234'\n",
    "\n",
    "car_no1 = car1[-4:]\n",
    "car_no2 = car2[-4:]\n",
    "car_no3 = car3[-4:]\n",
    "print(car1, '의 차량번호는 4자리는', car_no1, '입니다.')\n",
    "print(car2, '의 차량번호는 4자리는', car_no2, '입니다.')\n",
    "print(car3, '의 차량번호는 4자리는', car_no3, '입니다.')"
   ],
   "metadata": {
    "collapsed": false,
    "ExecuteTime": {
     "end_time": "2024-10-22T10:06:43.075814Z",
     "start_time": "2024-10-22T10:06:43.068172Z"
    }
   },
   "id": "1bfac112d5d62613",
   "outputs": [
    {
     "name": "stdout",
     "output_type": "stream",
     "text": [
      "서울2가1234 의 차량번호는 4자리는 1234 입니다.\n",
      "10가1234 의 차량번호는 4자리는 1234 입니다.\n",
      "288가1234 의 차량번호는 4자리는 1234 입니다.\n"
     ]
    }
   ],
   "execution_count": 21
  },
  {
   "cell_type": "code",
   "source": [
    "# Pithon 문자열을 Python 으로 바꾸기\n",
    "a = 'Pithon'\n",
    "print(a[1])\n",
    "\n",
    "a[1] = 'y'\n",
    "# 이건 불가능하다\n",
    "# 문자열을 변경 불가능한 immutable 자료형이라고 불린다."
   ],
   "metadata": {
    "collapsed": false,
    "ExecuteTime": {
     "end_time": "2024-10-22T10:06:43.171942Z",
     "start_time": "2024-10-22T10:06:43.157397Z"
    }
   },
   "id": "5b994cf8fb8aceed",
   "outputs": [
    {
     "name": "stdout",
     "output_type": "stream",
     "text": [
      "i\n"
     ]
    },
    {
     "ename": "TypeError",
     "evalue": "'str' object does not support item assignment",
     "output_type": "error",
     "traceback": [
      "\u001B[1;31m---------------------------------------------------------------------------\u001B[0m",
      "\u001B[1;31mTypeError\u001B[0m                                 Traceback (most recent call last)",
      "Cell \u001B[1;32mIn[22], line 5\u001B[0m\n\u001B[0;32m      2\u001B[0m a \u001B[38;5;241m=\u001B[39m \u001B[38;5;124m'\u001B[39m\u001B[38;5;124mPithon\u001B[39m\u001B[38;5;124m'\u001B[39m\n\u001B[0;32m      3\u001B[0m \u001B[38;5;28mprint\u001B[39m(a[\u001B[38;5;241m1\u001B[39m])\n\u001B[1;32m----> 5\u001B[0m \u001B[43ma\u001B[49m\u001B[43m[\u001B[49m\u001B[38;5;241;43m1\u001B[39;49m\u001B[43m]\u001B[49m \u001B[38;5;241m=\u001B[39m \u001B[38;5;124m'\u001B[39m\u001B[38;5;124my\u001B[39m\u001B[38;5;124m'\u001B[39m\n\u001B[0;32m      6\u001B[0m \u001B[38;5;66;03m# 이건 불가능하다\u001B[39;00m\n\u001B[0;32m      7\u001B[0m \u001B[38;5;66;03m# 문자열을 변경 불가능한 immutable 자료형이라고 불린다.\u001B[39;00m\n",
      "\u001B[1;31mTypeError\u001B[0m: 'str' object does not support item assignment"
     ]
    }
   ],
   "execution_count": 22
  }
 ],
 "metadata": {
  "kernelspec": {
   "display_name": "Python 3",
   "language": "python",
   "name": "python3"
  },
  "language_info": {
   "codemirror_mode": {
    "name": "ipython",
    "version": 2
   },
   "file_extension": ".py",
   "mimetype": "text/x-python",
   "name": "python",
   "nbconvert_exporter": "python",
   "pygments_lexer": "ipython2",
   "version": "2.7.6"
  }
 },
 "nbformat": 4,
 "nbformat_minor": 5
}
