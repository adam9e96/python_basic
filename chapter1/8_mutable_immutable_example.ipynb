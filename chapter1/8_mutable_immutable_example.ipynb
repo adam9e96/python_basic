{
 "cells": [
  {
   "metadata": {
    "ExecuteTime": {
     "end_time": "2024-10-22T09:43:02.680327Z",
     "start_time": "2024-10-22T09:43:02.672940Z"
    }
   },
   "cell_type": "code",
   "source": [
    "\"\"\"\n",
    "1. 파일명 : 8_mutable_immutable_example.ipynb\n",
    "2. 개요: 파이썬의 변경 가능한(mutable) 자료형과 변경 불가능한(immutable) 자료형의 차이점 및 예시\n",
    "3. 작성자 : adam9e96\n",
    "4. 업데이트: 2024-10-22\n",
    "\"\"\""
   ],
   "id": "3eac9a1dcd52689d",
   "outputs": [
    {
     "data": {
      "text/plain": [
       "'\\n1. 파일명 : 8_mutable_immutable_example.ipynb\\n2. 개요: 파이썬의 변경 가능한(mutable) 자료형과 변경 불가능한(immutable) 자료형의 차이점 및 예시\\n3. 작성자 : adam9e96\\n4. 업데이트: 2024-10-22\\n'"
      ]
     },
     "execution_count": 5,
     "metadata": {},
     "output_type": "execute_result"
    }
   ],
   "execution_count": 5
  },
  {
   "metadata": {},
   "cell_type": "markdown",
   "source": [
    "## 1. Mutable vs Immutable 개념\n",
    " - **mutable(변경 가능)**: 객체의 값을 변경해도 객체의 메모리 주소(id)가 바뀌지 않습니다.\n",
    " - **immutable(변경 불가능)**: 객체의 값을 변경하려면 새로운 객체를 생성하고, 기존 객체와 다른 메모리 주소를 사용합니다.\n"
   ],
   "id": "f2fe7ffeddd6a4fc"
  },
  {
   "cell_type": "code",
   "id": "initial_id",
   "metadata": {
    "collapsed": true,
    "ExecuteTime": {
     "end_time": "2024-10-22T09:43:02.716684Z",
     "start_time": "2024-10-22T09:43:02.709423Z"
    }
   },
   "source": [
    "# mutable 예시: 리스트(list)\n",
    "me = [1, 2, 3]\n",
    "print(id(me))  # 리스트 me의 id 출력 (ex: 1809355448384)\n",
    "\n",
    "me.append(4)  # 리스트에 요소 추가\n",
    "print(id(me))  # id가 동일함 (ex: 1809355448384)\n",
    "\n",
    "# 리스트는 변경 가능(mutable)한 자료형입니다.\n",
    "# 요소를 추가해도 메모리 주소가 변하지 않고, 기존 리스트가 수정됩니다."
   ],
   "outputs": [
    {
     "name": "stdout",
     "output_type": "stream",
     "text": [
      "2340519888704\n",
      "2340519888704\n"
     ]
    }
   ],
   "execution_count": 6
  },
  {
   "metadata": {},
   "cell_type": "markdown",
   "source": "## 2. immutable 예시: 숫자(int)\n",
   "id": "4244419145b16785"
  },
  {
   "cell_type": "code",
   "source": [
    "# immutable 예시: 정수(int)\n",
    "obj = 10\n",
    "print(type(obj))  # 출력: <class 'int'>\n",
    "print(id(obj))  # 출력: 정수 10의 메모리 주소 (ex: 2548145586704)\n",
    "\n",
    "# 정수는 immutable(변경 불가능)한 자료형입니다.\n",
    "# 값을 변경할 때마다 새로운 객체가 생성됩니다.\n",
    "obj = obj + 1  # obj의 값을 1 증가\n",
    "print(obj)  # 출력: 11\n",
    "print(id(obj))  # 출력: 정수 11의 새로운 메모리 주소 (ex: 2548145586736)\n",
    "\n",
    "# 기존의 10 객체를 수정한 것이 아니라, 새로운 11 객체가 할당된 것입니다."
   ],
   "metadata": {
    "collapsed": false,
    "ExecuteTime": {
     "end_time": "2024-10-22T09:43:02.830129Z",
     "start_time": "2024-10-22T09:43:02.822241Z"
    }
   },
   "id": "6329657c90ff08d5",
   "outputs": [
    {
     "name": "stdout",
     "output_type": "stream",
     "text": [
      "<class 'int'>\n",
      "140704993569496\n",
      "11\n",
      "140704993569528\n"
     ]
    }
   ],
   "execution_count": 7
  },
  {
   "metadata": {},
   "cell_type": "markdown",
   "source": "## 3. mutable 예시: 리스트, 딕셔너리, 집합\n",
   "id": "37fdfe3b1613d74b"
  },
  {
   "cell_type": "code",
   "source": [
    "# 리스트는 mutable입니다.\n",
    "my_list = [1, 2, 3]\n",
    "my_list.append(4)  # 리스트에 요소 추가\n",
    "my_list[0] = 0  # 리스트의 첫 번째 요소 변경\n",
    "print(my_list)  # 출력: [0, 2, 3, 4]\n",
    "\n",
    "# 딕셔너리는 mutable입니다.\n",
    "my_dict = {'name': 'Alice', 'age': 25}\n",
    "my_dict['age'] = 26  # 값 변경\n",
    "my_dict['gender'] = 'Female'  # 새로운 키와 값 추가\n",
    "print(my_dict)  # 출력: {'name': 'Alice', 'age': 26, 'gender': 'Female'}\n",
    "\n",
    "# 집합(set)도 mutable입니다.\n",
    "my_set = {1, 2, 3}\n",
    "my_set.add(4)  # 요소 추가\n",
    "my_set.remove(1)  # 요소 삭제\n",
    "print(my_set)  # 출력: {2, 3, 4}\n",
    "\n",
    "# 리스트, 딕셔너리, 집합은 요소를 추가하거나 변경해도 메모리 주소(id)가 변하지 않습니다."
   ],
   "metadata": {
    "collapsed": false,
    "ExecuteTime": {
     "end_time": "2024-10-22T09:43:02.991687Z",
     "start_time": "2024-10-22T09:43:02.983842Z"
    }
   },
   "id": "a69b21b3d86f9432",
   "outputs": [
    {
     "name": "stdout",
     "output_type": "stream",
     "text": [
      "[0, 2, 3, 4]\n",
      "{'name': 'Alice', 'age': 26, 'gender': 'Female'}\n",
      "{2, 3, 4}\n"
     ]
    }
   ],
   "execution_count": 8
  },
  {
   "metadata": {},
   "cell_type": "markdown",
   "source": [
    "## 개념 요약\n",
    "# - **mutable** (변경 가능): 리스트(list), 딕셔너리(dict), 집합(set) 등.\n",
    "#   - 기존 객체의 상태를 변경할 수 있어 효율적으로 데이터를 수정할 수 있음.\n",
    "#   - 메모리 주소가 유지됨.\n",
    "# - **immutable** (변경 불가능): 정수(int), 문자열(str), 튜플(tuple) 등.\n",
    "#   - 값을 변경할 때마다 새로운 객체를 생성해 메모리 주소가 바뀜.\n",
    "#   - 데이터의 안전성과 일관성을 유지하는 데 유리함."
   ],
   "id": "f0000f4b45e68590"
  }
 ],
 "metadata": {
  "kernelspec": {
   "display_name": "Python 3",
   "language": "python",
   "name": "python3"
  },
  "language_info": {
   "codemirror_mode": {
    "name": "ipython",
    "version": 2
   },
   "file_extension": ".py",
   "mimetype": "text/x-python",
   "name": "python",
   "nbconvert_exporter": "python",
   "pygments_lexer": "ipython2",
   "version": "2.7.6"
  }
 },
 "nbformat": 4,
 "nbformat_minor": 5
}
