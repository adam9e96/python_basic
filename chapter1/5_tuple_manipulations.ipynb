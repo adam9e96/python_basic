{
 "cells": [
  {
   "metadata": {
    "ExecuteTime": {
     "end_time": "2024-10-22T09:14:20.415719Z",
     "start_time": "2024-10-22T09:14:20.405573Z"
    }
   },
   "cell_type": "code",
   "source": [
    "\"\"\"\n",
    "1. 파일명 : 5_tuple_manipulations.ipynb\n",
    "2. 개요: 파이썬 튜플 자료형의 생성, 사용 예시 및 관련 함수 설명\n",
    "3. 작성자 : adam9e96\n",
    "4. 업데이트: 2024-10-22\n",
    "\"\"\""
   ],
   "id": "b5bc8aba9152cf0e",
   "outputs": [
    {
     "data": {
      "text/plain": [
       "'\\n1. 파일명 : 5_tuple_manipulations.ipynb\\n2. 개요: 파이썬 튜플 자료형의 생성, 사용 예시 및 관련 함수 설명\\n3. 작성자 : adam9e96\\n4. 업데이트: 2024-10-22\\n'"
      ]
     },
     "execution_count": 31,
     "metadata": {},
     "output_type": "execute_result"
    }
   ],
   "execution_count": 31
  },
  {
   "cell_type": "markdown",
   "source": [
    "# 튜플 (tuple)\n",
    "## 1. 튜플 생성"
   ],
   "metadata": {
    "collapsed": false
   },
   "id": "2d13e42f5f6b5b9"
  },
  {
   "cell_type": "code",
   "id": "initial_id",
   "metadata": {
    "collapsed": true,
    "ExecuteTime": {
     "end_time": "2024-10-22T09:14:20.479704Z",
     "start_time": "2024-10-22T09:14:20.471577Z"
    }
   },
   "source": [
    "# 튜플 자료형의 예시\n",
    "t1 = (1, 2, 3)\n",
    "print(t1)  # 출력: (1, 2, 3)\n",
    "\n",
    "# 괄호 없이 튜플 생성 가능\n",
    "t2 = 1, 2, 3\n",
    "print(t2)  # 출력: (1, 2, 3)"
   ],
   "outputs": [
    {
     "name": "stdout",
     "output_type": "stream",
     "text": [
      "(1, 2, 3)\n",
      "(1, 2, 3)\n"
     ]
    }
   ],
   "execution_count": 32
  },
  {
   "metadata": {},
   "cell_type": "markdown",
   "source": [
    "## 2. 함수의 반환값으로 튜플 사용\n",
    "- 파이썬에서는 함수가 여러 개의 값을 반환할 수 있으며, 실제로는 자동으로 튜플로 반환됩니다."
   ],
   "id": "64e52d2cbfe1cbf7"
  },
  {
   "cell_type": "code",
   "source": [
    "# 함수의 값 반환 예시\n",
    "def sample():\n",
    "    return 1, 2\n",
    "\n",
    "print(sample())  # 출력: (1, 2)\n",
    "# 반환값이 2개 이상인 경우, 파이썬은 자동으로 튜플로 반환한다.\n",
    "# 이는 자바, 자바스크립트, C 등과 달리 파이썬이 하나 이상의 값을 반환할 수 있는 이유이다."
   ],
   "metadata": {
    "collapsed": false,
    "ExecuteTime": {
     "end_time": "2024-10-22T09:14:20.502480Z",
     "start_time": "2024-10-22T09:14:20.491050Z"
    }
   },
   "id": "6329bd8e595b80a5",
   "outputs": [
    {
     "name": "stdout",
     "output_type": "stream",
     "text": [
      "(1, 2)\n"
     ]
    }
   ],
   "execution_count": 33
  },
  {
   "metadata": {},
   "cell_type": "markdown",
   "source": "## 3. 리스트와 튜플 변환\n",
   "id": "69299a4a4a4eccb"
  },
  {
   "cell_type": "code",
   "source": [
    "list1 = [100, 3.14, 'hello']\n",
    "print(list1)  # 출력: [100, 3.14, 'hello']\n",
    "\n",
    "# 리스트를 튜플로 변경\n",
    "t3 = tuple(list1)\n",
    "print(t3)  # 출력: (100, 3.14, 'hello')"
   ],
   "metadata": {
    "collapsed": false,
    "ExecuteTime": {
     "end_time": "2024-10-22T09:14:20.569515Z",
     "start_time": "2024-10-22T09:14:20.563273Z"
    }
   },
   "id": "21076736d8410af9",
   "outputs": [
    {
     "name": "stdout",
     "output_type": "stream",
     "text": [
      "[100, 3.14, 'hello']\n",
      "(100, 3.14, 'hello')\n"
     ]
    }
   ],
   "execution_count": 34
  },
  {
   "metadata": {},
   "cell_type": "markdown",
   "source": "## 4. 단일 요소를 가지는 튜플 생성",
   "id": "37fb65deded6d735"
  },
  {
   "cell_type": "code",
   "source": [
    "# 값을 1개만 보관하는 튜플을 생성할 경우에는 값과 콤마(,)를 반드시 함께 작성해야 합니다.\n",
    "t4 = (100)\n",
    "print(t4)  # 출력: 100 / 값으로 인식\n",
    "print(type(t4))  # 출력: <class 'int'>\n",
    "\n",
    "t5 = (100,)\n",
    "print(t5)  # 출력: (100,) / 튜플로 인식\n",
    "print(type(t5))  # 출력: <class 'tuple'>"
   ],
   "metadata": {
    "collapsed": false,
    "ExecuteTime": {
     "end_time": "2024-10-22T09:14:20.599971Z",
     "start_time": "2024-10-22T09:14:20.592963Z"
    }
   },
   "id": "8cc3a3f6f75770d0",
   "outputs": [
    {
     "name": "stdout",
     "output_type": "stream",
     "text": [
      "100\n",
      "<class 'int'>\n",
      "(100,)\n",
      "<class 'tuple'>\n"
     ]
    }
   ],
   "execution_count": 35
  },
  {
   "metadata": {},
   "cell_type": "markdown",
   "source": "## 5. 튜플을 이용한 값 교환 (swap)",
   "id": "4913be22e64ba3ae"
  },
  {
   "cell_type": "code",
   "source": [
    "# 파이썬에서는 튜플을 이용하여 값의 교환(swap)을 간단하게 할 수 있습니다.\n",
    "a = 10\n",
    "b = 20\n",
    "print(a, b)  # 출력: 10 20\n",
    "\n",
    "# 튜플을 이용한 값 교환\n",
    "(a, b) = (b, a)\n",
    "print(a, b)  # 출력: 20 10\n",
    "\n",
    "# 사실 a, b = b, a와 동일한 작업입니다.\n",
    "a, b = 100, '홍길동'  # 이 형태도 튜플 형태가 생략된 튜플입니다.\n",
    "print(a)  # 출력: 100\n",
    "print(b)  # 출력: 홍길동\n",
    "\n",
    "# 빈 튜플과 단일 요소 튜플 생성\n",
    "empty_tuple = ()\n",
    "single_element_tuple = (5,)\n",
    "print(type(empty_tuple))  # 출력: <class 'tuple'>\n",
    "print(type(single_element_tuple))  # 출력: <class 'tuple'>"
   ],
   "metadata": {
    "collapsed": false,
    "ExecuteTime": {
     "end_time": "2024-10-22T09:14:20.632818Z",
     "start_time": "2024-10-22T09:14:20.626374Z"
    }
   },
   "id": "6960a7c7d9aa9d43",
   "outputs": [
    {
     "name": "stdout",
     "output_type": "stream",
     "text": [
      "10 20\n",
      "20 10\n",
      "100\n",
      "홍길동\n",
      "<class 'tuple'>\n",
      "<class 'tuple'>\n"
     ]
    }
   ],
   "execution_count": 36
  },
  {
   "metadata": {},
   "cell_type": "markdown",
   "source": "## 6. 튜플 관련 함수 및 기능\n",
   "id": "4e30d674a316195d"
  },
  {
   "metadata": {
    "ExecuteTime": {
     "end_time": "2024-10-22T09:14:20.657879Z",
     "start_time": "2024-10-22T09:14:20.643256Z"
    }
   },
   "cell_type": "code",
   "source": [
    "# 튜플은 변경 불가능한(immutable) 자료형이기 때문에 요소의 추가, 수정, 삭제가 불가능합니다.\n",
    "# 대신 아래와 같은 기능들을 사용할 수 있습니다.\n",
    "\n",
    "# len() 함수: 튜플의 길이를 반환\n",
    "t = (1, 2, 3, 4, 5)\n",
    "print(len(t))  # 출력: 5\n",
    "\n",
    "# max() 함수: 튜플에서 최대값 반환\n",
    "print(max(t))  # 출력: 5\n",
    "\n",
    "# min() 함수: 튜플에서 최소값 반환\n",
    "print(min(t))  # 출력: 1\n",
    "\n",
    "# sum() 함수: 튜플의 요소 합 계산 (모두 숫자일 경우)\n",
    "print(sum(t))  # 출력: 15\n",
    "\n",
    "# 튜플 요소 접근 (인덱싱)\n",
    "print(t[0])  # 출력: 1\n",
    "print(t[-1])  # 출력: 5\n",
    "\n",
    "# 튜플 슬라이싱\n",
    "print(t[1:4])  # 출력: (2, 3, 4)\n",
    "\n",
    "# 튜플 언패킹: 튜플의 값을 여러 변수에 나눠 담을 수 있습니다.\n",
    "x, y, z = (1, 2, 3)\n",
    "print(x)  # 출력: 1\n",
    "print(y)  # 출력: 2\n",
    "print(z)  # 출력: 3\n",
    "\n",
    "# 요소의 존재 여부 확인: in 연산자\n",
    "print(3 in t)  # 출력: True\n",
    "print(6 not in t)  # 출력: True\n",
    "\n",
    "# 튜플은 리스트와 달리 변경이 불가능하므로, 안전하게 값을 보존해야 할 때 사용합니다."
   ],
   "id": "a220eaa62063af3c",
   "outputs": [
    {
     "name": "stdout",
     "output_type": "stream",
     "text": [
      "5\n",
      "5\n",
      "1\n",
      "15\n",
      "1\n",
      "5\n",
      "(2, 3, 4)\n",
      "1\n",
      "2\n",
      "3\n",
      "True\n",
      "True\n"
     ]
    }
   ],
   "execution_count": 37
  }
 ],
 "metadata": {
  "kernelspec": {
   "display_name": "Python 3",
   "language": "python",
   "name": "python3"
  },
  "language_info": {
   "codemirror_mode": {
    "name": "ipython",
    "version": 2
   },
   "file_extension": ".py",
   "mimetype": "text/x-python",
   "name": "python",
   "nbconvert_exporter": "python",
   "pygments_lexer": "ipython2",
   "version": "2.7.6"
  }
 },
 "nbformat": 4,
 "nbformat_minor": 5
}
