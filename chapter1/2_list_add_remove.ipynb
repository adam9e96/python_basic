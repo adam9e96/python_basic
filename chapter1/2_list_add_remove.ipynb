{
 "cells": [
  {
   "metadata": {
    "ExecuteTime": {
     "end_time": "2024-10-22T06:57:24.619543Z",
     "start_time": "2024-10-22T06:57:24.611047Z"
    }
   },
   "cell_type": "code",
   "source": [
    "\"\"\"\n",
    "1. 파일명 : 2_list_add_remove.ipynb\n",
    "2. 개요: 파이썬 리스트의 요소 추가와 삭제 메서드 사용법을 설명하는 코드\n",
    "3. 작성자 : adam9e96\n",
    "4. 업데이트 : 2024-10-22\n",
    "\"\"\""
   ],
   "id": "80fd6ac61d908c38",
   "outputs": [
    {
     "data": {
      "text/plain": [
       "'\\n1. 파일명 : 2_list_add_remove.ipynb\\n2. 개요: 파이썬 리스트의 요소 추가와 삭제 메서드 사용법을 설명하는 코드\\n3. 작성자 : adam9e96\\n4. 업데이트 : 2024-10-22\\n'"
      ]
     },
     "execution_count": 11,
     "metadata": {},
     "output_type": "execute_result"
    }
   ],
   "execution_count": 11
  },
  {
   "metadata": {},
   "cell_type": "markdown",
   "source": [
    "# 리스트\n",
    "## 요소의 추가\n",
    "### 새로운 요소를 추가할 때는 append()와 insert() 메소드를 사용합니다.\n",
    "- append() : 리스트의 마지막에 항상 새로운 요소를 추가합니다.\n",
    "- insert() : 추가할 위치(인덱스)를 지정하여 해당 위치에 요소를 추가합니다."
   ],
   "id": "cee91c11084c2cd7"
  },
  {
   "metadata": {},
   "cell_type": "markdown",
   "source": "",
   "id": "bce80b84b204a197"
  },
  {
   "cell_type": "code",
   "id": "initial_id",
   "metadata": {
    "collapsed": true,
    "ExecuteTime": {
     "end_time": "2024-10-22T06:57:24.711273Z",
     "start_time": "2024-10-22T06:57:24.705127Z"
    }
   },
   "source": [
    "# 초기 리스트 생성\n",
    "scores = [50, 40, 30]  # 대괄호로 감싸고 콤마로 구분하면 list임\n",
    "print(\"초기 scores 값 : \", scores)\n",
    "\n",
    "# append() 사용 - 마지막 요소에 100 추가\n",
    "scores.append(100)  # 마지막 요소에 100을 추가\n",
    "print(scores)  # 결과: [50, 40, 30, 100]\n",
    "\n",
    "# 특정 인덱스의 요소 출력\n",
    "print(scores[1])  # 결과: 40 (1번 인덱스의 값)\n",
    "\n",
    "# insert() 사용 - 인덱스 0에 90 추가\n",
    "scores.insert(0, 90)  # 인덱스 0에 90을 추가\n",
    "print(scores)  # 결과: [90, 50, 40, 30, 100]\n",
    "\n",
    "# 특정 인덱스의 요소 출력\n",
    "print(scores[1])  # 결과: 50 (1번 인덱스의 값, 기존 첫 번째 요소가 밀려남)\n",
    "\n",
    "# 중복 추가 가능\n",
    "scores.append(100)  # 마지막 요소에 100을 추가\n",
    "print(scores)  # 결과: [50, 40, 30, 100]\n"
   ],
   "outputs": [
    {
     "name": "stdout",
     "output_type": "stream",
     "text": [
      "초기 scores 값 :  [50, 40, 30]\n",
      "[50, 40, 30, 100]\n",
      "40\n",
      "[90, 50, 40, 30, 100]\n",
      "50\n",
      "[90, 50, 40, 30, 100, 100]\n"
     ]
    }
   ],
   "execution_count": 12
  },
  {
   "metadata": {},
   "cell_type": "markdown",
   "source": [
    "## 요소 삭제\n",
    "### 요소를 삭제하는 방법에는 pop(), remove(), del, clear() 등이 있습니다.\n",
    "\n",
    "1. pop() 메소드:\n",
    "- 인덱스를 지정하지 않으면 리스트의 마지막 요소를 삭제한다.\n",
    "- 인덱스를 전달하면 해당 위치의 요소를 삭제한다.\n",
    "- 삭제된 요소를 반환한다.\n",
    "\n",
    "2. remove() 메소드:\n",
    "- 값을 직접 지정하여 해당 값을 가진 첫 번째 요소를 삭제한다.\n",
    "- 값이 리스트에 여러 개 있어도 첫 번째로 발견된 요소만 삭제된다.\n",
    "- 삭제할 값이 없으면 ValueError가 발생한다.\n",
    "\n",
    "3. del() 메소드:\n",
    "- 인덱스를 지정하여 해당 위치의 요소를 삭제하거나, 슬라이스를 사용해 여러 요소를 한 번에 삭제할 수 있다.\n",
    "- 리스트 자체를 삭제할 수도 있다.\n",
    "\n",
    "4. clear() 메소드:\n",
    "- 리스트의 모든 요소를 삭제하여 빈 리스트로 만든다.\n"
   ],
   "id": "b90d0e65cf2c881d"
  },
  {
   "metadata": {},
   "cell_type": "code",
   "outputs": [],
   "execution_count": null,
   "source": [
    "# pop() 사용 - 마지막 요소 삭제 (100 제거됨)\n",
    "print(\"# pop() 사용 예시\")\n",
    "removed_element = scores.pop()  # 마지막 요소 제거\n",
    "print(f\"제거된 요소: {removed_element}\")  # 결과: 100\n",
    "print(scores)  # 결과: [90, 50, 40, 30, 100]\n",
    "\n",
    "# 특정 인덱스의 요소 삭제 - 인덱스 0의 요소 삭제 (90 제거됨)\n",
    "removed_element = scores.pop(0)  # 0번 인덱스의 요소 제거\n",
    "print(f\"제거된 요소: {removed_element}\")  # 결과: 90\n",
    "print(scores)  # 결과: [50, 40, 30, 100]"
   ],
   "id": "e3196cfe71556e56"
  },
  {
   "metadata": {
    "ExecuteTime": {
     "end_time": "2024-10-22T06:57:24.937431Z",
     "start_time": "2024-10-22T06:57:24.931325Z"
    }
   },
   "cell_type": "code",
   "source": [
    "# 2. remove() 메소드:\n",
    "print(\"# remove() 사용 예시\")\n",
    "scores.remove(100)  # 값이 100인 요소 제거 (첫 번째 100만 제거됨)\n",
    "print(scores)  # 결과: [50, 40, 30]"
   ],
   "id": "d7d009cfebacb19a",
   "outputs": [
    {
     "name": "stdout",
     "output_type": "stream",
     "text": [
      "# remove() 사용 예시\n",
      "[50, 40, 30]\n"
     ]
    }
   ],
   "execution_count": 14
  },
  {
   "metadata": {
    "ExecuteTime": {
     "end_time": "2024-10-22T06:57:25.101194Z",
     "start_time": "2024-10-22T06:57:25.094009Z"
    }
   },
   "cell_type": "code",
   "source": [
    "print(\"# del 키워드 사용 예시\")\n",
    "del scores[0]  # 인덱스 0의 요소 제거 (50 제거)\n",
    "print(scores)  # 결과: [40, 30]\n",
    "\n",
    "# 슬라이스를 사용한 여러 요소 삭제\n",
    "scores = [10, 20, 30, 40, 50]\n",
    "del scores[1:3]  # 인덱스 1부터 3 전까지의 요소 삭제 (20, 30 제거)\n",
    "print(scores)  # 결과: [10, 40, 50]"
   ],
   "id": "98cac652167d52e8",
   "outputs": [
    {
     "name": "stdout",
     "output_type": "stream",
     "text": [
      "# del 키워드 사용 예시\n",
      "[40, 30]\n",
      "[10, 40, 50]\n"
     ]
    }
   ],
   "execution_count": 15
  },
  {
   "metadata": {
    "ExecuteTime": {
     "end_time": "2024-10-22T06:57:25.277952Z",
     "start_time": "2024-10-22T06:57:25.267323Z"
    }
   },
   "cell_type": "code",
   "source": [
    "# 4. clear() 메소드:\n",
    "print(\"# clear() 사용 예시\")\n",
    "scores.clear()  # 모든 요소 제거\n",
    "print(scores)  # 결과: []"
   ],
   "id": "b03343cf82303bd",
   "outputs": [
    {
     "name": "stdout",
     "output_type": "stream",
     "text": [
      "# clear() 사용 예시\n",
      "[]\n"
     ]
    }
   ],
   "execution_count": 16
  }
 ],
 "metadata": {
  "kernelspec": {
   "display_name": "Python 3",
   "language": "python",
   "name": "python3"
  },
  "language_info": {
   "codemirror_mode": {
    "name": "ipython",
    "version": 2
   },
   "file_extension": ".py",
   "mimetype": "text/x-python",
   "name": "python",
   "nbconvert_exporter": "python",
   "pygments_lexer": "ipython2",
   "version": "2.7.6"
  }
 },
 "nbformat": 4,
 "nbformat_minor": 5
}
