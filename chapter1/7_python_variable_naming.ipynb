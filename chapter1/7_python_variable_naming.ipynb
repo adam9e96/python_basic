{
 "cells": [
  {
   "metadata": {},
   "cell_type": "code",
   "outputs": [],
   "execution_count": null,
   "source": [
    "\"\"\"\n",
    "1. 파일명 : 7_python_variable_naming.ipynb\n",
    "2. 개요: 파이썬에서 사용하기 옳바른 변수네이밍\n",
    "3. 작성자 : adam9e96\n",
    "4. 업데이트: 2024-10-22\n",
    "\"\"\""
   ],
   "id": "1759dff954b26c74"
  },
  {
   "metadata": {},
   "cell_type": "markdown",
   "source": "# 좋은 변수 이름의 원칙좋은 변수 이름의 원칙",
   "id": "5b8e09ecd76e7be4"
  },
  {
   "cell_type": "code",
   "source": [
    "\"\"\"좋은 예\"\"\"\n",
    "user_age = 25  # 변수 이름이 사용자 나이를 나타낸다는 것을 명확히 전달합니다.\n",
    "total_price = 199.99  # 총 가격을 의미하는 변수로, 의미가 쉽게 이해됩니다.\n",
    "is_active = True  # 어떤 상태(활성 여부)를 나타내는 불리언 값으로, 명확한 의미를 가지고 있습니다.\n",
    "customer_name = \"John Doe\"  # 고객 이름을 저장하는 변수로, 변수의 목적이 명확합니다.\n",
    "number_of_items = 5  # 아이템의 수를 나타내는 변수로, 명확하게 전달합니다.\n",
    "average_score = 88.5  # 평균 점수를 나타내는 변수로, 이름만 보고도 무엇을 의미하는지 알 수 있습니다.\n",
    "\n",
    "\"\"\"나쁜 예\"\"\"\n",
    "a = 25  # 변수 이름이 무엇을 의미하는지 전혀 알 수 없습니다.\n",
    "tp = 199.99  # `tp`라는 이름은 너무 축약되어 있어서 무엇을 나타내는지 이해하기 어렵습니다.\n",
    "flg = True  # 불리언 값임을 유추할 수는 있지만, 어떤 의미인지 명확하지 않습니다.\n",
    "x = \"John Doe\"  # `x`라는 이름은 무엇을 저장하는지 알 수 없습니다.\n",
    "n = 5  # `n`은 어떤 수를 나타내는지 알기 어려워, 의미를 전달하기에 적절하지 않습니다.\n",
    "avg = 88.5  # `avg`는 축약어로, 평균인지 다른 계산 값인지 명확히 알기 어렵습니다.\n"
   ],
   "metadata": {
    "collapsed": false,
    "ExecuteTime": {
     "end_time": "2024-10-04T15:16:54.734386Z",
     "start_time": "2024-10-04T15:16:54.726967Z"
    }
   },
   "id": "e8189a6c1a3e8f8",
   "outputs": [],
   "execution_count": 3
  }
 ],
 "metadata": {
  "kernelspec": {
   "display_name": "Python 3",
   "language": "python",
   "name": "python3"
  },
  "language_info": {
   "codemirror_mode": {
    "name": "ipython",
    "version": 2
   },
   "file_extension": ".py",
   "mimetype": "text/x-python",
   "name": "python",
   "nbconvert_exporter": "python",
   "pygments_lexer": "ipython2",
   "version": "2.7.6"
  }
 },
 "nbformat": 4,
 "nbformat_minor": 5
}
