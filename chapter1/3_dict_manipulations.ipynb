{
 "cells": [
  {
   "metadata": {
    "ExecuteTime": {
     "end_time": "2024-10-22T07:20:27.688501Z",
     "start_time": "2024-10-22T07:20:27.678310Z"
    }
   },
   "cell_type": "code",
   "source": [
    "\"\"\"\n",
    "1. 파일명 : 3_dict_manipulations.ipynb\n",
    "2. 개요: 파이썬 딕셔너리의 생성, 접근, 추가, 수정, 삭제에 관한 사용법을 설명하는 코드\n",
    "3. 작성자 : adam9e96\n",
    "4. 업데이트 : 2024-10-22\n",
    "\"\"\""
   ],
   "id": "9ecaa80b1162633f",
   "outputs": [
    {
     "data": {
      "text/plain": [
       "'\\n1. 파일명 : 3_dict_manipulations.ipynb\\n2. 개요: 파이썬 딕셔너리의 생성, 접근, 추가, 수정, 삭제에 관한 사용법을 설명하는 코드\\n3. 작성자 : adam9e96\\n4. 업데이트 : 2024-10-22\\n'"
      ]
     },
     "execution_count": 60,
     "metadata": {},
     "output_type": "execute_result"
    }
   ],
   "execution_count": 60
  },
  {
   "cell_type": "markdown",
   "source": [
    "# 딕셔너리(dict) : 자바의 맵과 유사.\n",
    "## 1. 딕셔너리 생성 및 접근\n",
    "- 키값을 사용해 value에 접근이 가능함"
   ],
   "metadata": {
    "collapsed": false
   },
   "id": "232eac9376c1177d"
  },
  {
   "cell_type": "code",
   "source": [
    "# 딕셔너리 생성 예시\n",
    "my_dict = {'name': 'John', 'age': 30, 'city': 'New York'}\n",
    "empty_dict = {}\n",
    "another_dict = dict()\n",
    "\n",
    "print(my_dict)  # 출력 : {'name': 'John', 'age': 30, 'city': 'New York'}\n",
    "print(empty_dict)   # 출력 : {}\n",
    "print(another_dict) # 출력 : {}\n",
    "\n",
    "print(type(my_dict))    # 출력 : <class 'dict'>\n",
    "print(type(empty_dict)) # 출력 : <class 'dict'>\n",
    "print(type(another_dict))   # 출력 : <class 'dict'>"
   ],
   "metadata": {
    "collapsed": false,
    "ExecuteTime": {
     "end_time": "2024-10-22T07:20:27.722311Z",
     "start_time": "2024-10-22T07:20:27.714976Z"
    }
   },
   "id": "8077ee5f052dffaa",
   "outputs": [
    {
     "name": "stdout",
     "output_type": "stream",
     "text": [
      "{'name': 'John', 'age': 30, 'city': 'New York'}\n",
      "{}\n",
      "{}\n",
      "<class 'dict'>\n",
      "<class 'dict'>\n",
      "<class 'dict'>\n"
     ]
    }
   ],
   "execution_count": 61
  },
  {
   "cell_type": "code",
   "source": [
    "# 딕셔너리 생성 및 값 접근\n",
    "d = {'a': 'apple', 'b': 'banana'}  # dict 생성 , 키-값 형태\n",
    "print(d)  # 출력 : {'a': 'apple', 'b': 'banana'}\n",
    "print(type(d))  # 출력 : <class 'dict'>\n",
    "\n",
    "# value 값 찾기\n",
    "print(d['a'])  # 결과: 'apple' / 인덱스 대신 Key를 사용하면 value가 반환\n",
    "print(d['b'])  # 결과: 'banana'"
   ],
   "metadata": {
    "collapsed": false,
    "ExecuteTime": {
     "end_time": "2024-10-22T07:20:27.776602Z",
     "start_time": "2024-10-22T07:20:27.771147Z"
    }
   },
   "id": "49834fe58444e202",
   "outputs": [
    {
     "name": "stdout",
     "output_type": "stream",
     "text": [
      "{'a': 'apple', 'b': 'banana'}\n",
      "<class 'dict'>\n",
      "apple\n",
      "banana\n"
     ]
    }
   ],
   "execution_count": 62
  },
  {
   "cell_type": "code",
   "source": [
    "# 키 값의 자료형이 문자열(str) 이라면 dict() 함수를 이용해서 생성 가능\n",
    "d = dict(a='apple', b='banana')\n",
    "print(d)  # {'a': 'apple', 'b': 'banana'}\n",
    "\n",
    "# 새로운 키-값 추가\n",
    "d['c'] = 'grape'\n",
    "print(d)  # 출력 : {'a': 'apple', 'b': 'banana', 'c': 'grape'}"
   ],
   "metadata": {
    "collapsed": false,
    "ExecuteTime": {
     "end_time": "2024-10-22T07:20:27.810054Z",
     "start_time": "2024-10-22T07:20:27.804266Z"
    }
   },
   "id": "25e2f746f3111dd7",
   "outputs": [
    {
     "name": "stdout",
     "output_type": "stream",
     "text": [
      "{'a': 'apple', 'b': 'banana'}\n",
      "{'a': 'apple', 'b': 'banana', 'c': 'grape'}\n"
     ]
    }
   ],
   "execution_count": 63
  },
  {
   "metadata": {},
   "cell_type": "markdown",
   "source": [
    "## 2. 새로운 키-값 쌍 추가 및 수정\n",
    "- 키를 이용해 값을 수정할 수 있습니다."
   ],
   "id": "970a2819c08834c5"
  },
  {
   "cell_type": "code",
   "source": [
    "# 딕셔너리 요소의 추가와 수정\n",
    "dic = {'apple': '사과'}\n",
    "\n",
    "# 새로운 키와 값을 추가\n",
    "dic['watermelon'] = '멜론'\n",
    "print(dic)  # 출력 : {'apple': '사과', 'watermelon': '멜론'}\n",
    "\n",
    "# 존재하는 키 값을 이용해 값을 수정\n",
    "dic['watermelon'] = '수박'\n",
    "print(dic)  # 출력 : {'apple': '사과', 'watermelon': '수박'}"
   ],
   "metadata": {
    "collapsed": false,
    "ExecuteTime": {
     "end_time": "2024-10-22T07:20:27.876935Z",
     "start_time": "2024-10-22T07:20:27.871179Z"
    }
   },
   "id": "3c869d0b4f97aded",
   "outputs": [
    {
     "name": "stdout",
     "output_type": "stream",
     "text": [
      "{'apple': '사과', 'watermelon': '멜론'}\n",
      "{'apple': '사과', 'watermelon': '수박'}\n"
     ]
    }
   ],
   "execution_count": 64
  },
  {
   "cell_type": "code",
   "source": [
    "# setdefault() 메소드를 이용한 추가\n",
    "me = {'name': 'james'}\n",
    "me.setdefault('age', 20)\n",
    "print(me)  # {'name': 'james', 'age': 20}\n",
    "\n",
    "# setdefault()는 동일한 키가 있는 경우 무시됨\n",
    "me.setdefault('age', 30)  # age가 이미 존재하므로 무시됨\n",
    "print(me)  # {'name': 'james', 'age': 20}\n",
    "\n",
    "# 존재하는 키를 직접 수정\n",
    "me['age'] = 35\n",
    "print(me)  # {'name': 'james', 'age': 35}\n",
    "\n",
    "# update() 메소드를 사용한 추가와 수정\n",
    "me.update(age=25)  # 존재하는 키는 값 수정\n",
    "print(me)  # {'name': 'james', 'age': 25}\n",
    "\n",
    "me.update(address='seoul')  # 존재하지 않는 키는 추가\n",
    "print(me)  # {'name': 'james', 'age': 25, 'address': 'seoul'}"
   ],
   "metadata": {
    "collapsed": false,
    "ExecuteTime": {
     "end_time": "2024-10-22T07:20:28.080220Z",
     "start_time": "2024-10-22T07:20:28.073548Z"
    }
   },
   "id": "22b1071613719a16",
   "outputs": [
    {
     "name": "stdout",
     "output_type": "stream",
     "text": [
      "{'name': 'james', 'age': 20}\n",
      "{'name': 'james', 'age': 20}\n",
      "{'name': 'james', 'age': 35}\n",
      "{'name': 'james', 'age': 25}\n",
      "{'name': 'james', 'age': 25, 'address': 'seoul'}\n"
     ]
    }
   ],
   "execution_count": 65
  },
  {
   "metadata": {},
   "cell_type": "markdown",
   "source": [
    "## 3. 요소 삭제\n",
    "### 요소를 삭제하는 방법:\n",
    "- pop(), del, clear(), get() 메소드 등 사용 가능."
   ],
   "id": "652998b90d514a78"
  },
  {
   "metadata": {
    "ExecuteTime": {
     "end_time": "2024-10-22T07:20:28.139263Z",
     "start_time": "2024-10-22T07:20:28.132868Z"
    }
   },
   "cell_type": "code",
   "source": [
    "# 1. pop() 메소드: 특정 키를 전달하면 해당 키의 값을 삭제하고 반환.\n",
    "me.pop('address')\n",
    "print(me)  # {'name': 'james', 'age': 25}\n",
    "\n",
    "# 2. del 키워드: 특정 키 또는 슬라이스를 사용해 요소를 삭제.\n",
    "del me['age']  # age 키 삭제\n",
    "print(me)  # {'name': 'james'}\n",
    "\n",
    "# 3. clear() 메소드: 모든 요소를 삭제해 빈 딕셔너리로 만듭니다.\n",
    "me.clear()\n",
    "print(me)  # 출력: {}"
   ],
   "id": "a9ae39e72a773414",
   "outputs": [
    {
     "name": "stdout",
     "output_type": "stream",
     "text": [
      "{'name': 'james', 'age': 25}\n",
      "{'name': 'james'}\n",
      "{}\n"
     ]
    }
   ],
   "execution_count": 66
  },
  {
   "cell_type": "code",
   "source": [
    "# 4. get() 메서드: 키에 해당하는 값을 반환.\n",
    "# - 없는 키를 찾으면 None을 반환하므로 안전하게 값을 가져올 때 사용.\n",
    "me = {'name': 'james', 'age': 25}\n",
    "print(me.get('name'))  # 'james'\n",
    "print(me.get('address'))  # None (존재하지 않는 키)"
   ],
   "metadata": {
    "collapsed": false,
    "ExecuteTime": {
     "end_time": "2024-10-22T07:20:28.285221Z",
     "start_time": "2024-10-22T07:20:28.279132Z"
    }
   },
   "id": "8b2be0d69d938d3e",
   "outputs": [
    {
     "name": "stdout",
     "output_type": "stream",
     "text": [
      "james\n",
      "None\n"
     ]
    }
   ],
   "execution_count": 67
  },
  {
   "cell_type": "markdown",
   "source": [],
   "metadata": {
    "collapsed": false
   },
   "id": "17b4e6f25d32ac78"
  },
  {
   "metadata": {},
   "cell_type": "markdown",
   "source": [
    "## 4. 딕셔너리에서 키 존재 여부 확인\n",
    "- in 메소드"
   ],
   "id": "f856a0144ce5dacd"
  },
  {
   "cell_type": "code",
   "source": [
    "# 해당 Key가 딕셔너리 안에 있는지 조사하기 - in\n",
    "a = {'name': 'pay', 'phone': '010-4444-5555', 'email': 'abc@gmail.com'}\n",
    "print('name' in a)  # 출력: True (name 키가 존재)\n",
    "print('email' not in a)  # 출력: False (email 키가 존재하므로 not in의 결과는 False"
   ],
   "metadata": {
    "collapsed": false,
    "ExecuteTime": {
     "end_time": "2024-10-22T07:20:28.435455Z",
     "start_time": "2024-10-22T07:20:28.416846Z"
    }
   },
   "id": "e94aa6e79c47c851",
   "outputs": [
    {
     "name": "stdout",
     "output_type": "stream",
     "text": [
      "True\n",
      "False\n"
     ]
    }
   ],
   "execution_count": 68
  }
 ],
 "metadata": {
  "kernelspec": {
   "display_name": "Python 3",
   "language": "python",
   "name": "python3"
  },
  "language_info": {
   "codemirror_mode": {
    "name": "ipython",
    "version": 2
   },
   "file_extension": ".py",
   "mimetype": "text/x-python",
   "name": "python",
   "nbconvert_exporter": "python",
   "pygments_lexer": "ipython2",
   "version": "2.7.6"
  }
 },
 "nbformat": 4,
 "nbformat_minor": 5
}
