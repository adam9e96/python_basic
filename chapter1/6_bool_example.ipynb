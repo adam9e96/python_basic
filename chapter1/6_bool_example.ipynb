{
 "cells": [
  {
   "metadata": {},
   "cell_type": "code",
   "outputs": [],
   "execution_count": null,
   "source": [
    "\"\"\"\n",
    "1. 파일명 : 6_bool_example.ipynb\n",
    "2. 개요: 파이썬의 불 자료형의 참/거짓 평가와 객체 비교에 대한 예시\n",
    "3. 작성자 : adam9e96\n",
    "4. 업데이트: 2024-10-22\n",
    "\"\"\""
   ],
   "id": "dea1fe6fe4450910"
  },
  {
   "metadata": {},
   "cell_type": "markdown",
   "source": [
    "## 불 자료형의 참과 거짓\n",
    "- 파이썬에서는 다양한 데이터가 불 자료형으로 평가될 수 있습니다.\n",
    "- 불 값은 참(True)과 거짓(False) 두 가지로만 표현됩니다."
   ],
   "id": "7a62f2a131e44d24"
  },
  {
   "metadata": {
    "ExecuteTime": {
     "end_time": "2024-09-27T11:54:07.832203Z",
     "start_time": "2024-09-27T11:54:07.820129Z"
    }
   },
   "cell_type": "code",
   "source": [
    "# True와 False를 반환하는 예시들\n",
    "print(bool(True))  # 출력: True (True는 항상 참)\n",
    "print(bool(' '))  # 출력: True (공백 문자가 있는 문자열은 참)\n",
    "print(bool(''))  # 출력: False (빈 문자열은 거짓)\n",
    "print(bool([]))  # 출력: False (빈 리스트는 거짓)\n",
    "print(bool({}))  # 출력: False (빈 딕셔너리는 거짓)\n",
    "print(bool(()))  # 출력: False (빈 튜플은 거짓)\n",
    "print(bool([1, 2, 3]))  # 출력: True (요소가 있는 리스트는 참)\n",
    "print(bool(0))  # 출력: False (정수 0은 거짓)\n",
    "print(bool(3))  # 출력: True (0이 아닌 모든 숫자는 참)"
   ],
   "id": "d5f16ef9212f751b",
   "outputs": [
    {
     "name": "stdout",
     "output_type": "stream",
     "text": [
      "True\n",
      "True\n",
      "False\n",
      "False\n",
      "False\n",
      "False\n",
      "True\n",
      "False\n",
      "True\n"
     ]
    }
   ],
   "execution_count": 1
  },
  {
   "metadata": {},
   "cell_type": "markdown",
   "source": [
    "## 객체 비교 (is, is not)\n",
    "- 파이썬에서 `is` 연산자는 두 변수가 동일한 객체를 참조하는지 확인할 때 사용합니다.\n",
    "- `is not` 연산자는 두 변수가 다른 객체를 참조하는지 확인합니다."
   ],
   "id": "454e6a51f72a639a"
  },
  {
   "cell_type": "code",
   "source": [
    "# 변수 할당 및 id() 함수 사용 예시\n",
    "a = 42\n",
    "b = a  # b는 a와 동일한 객체를 참조\n",
    "c = 42  # c는 a와 같은 값을 가짐\n",
    "\n",
    "# id() 함수는 객체의 고유한 식별자(ID)를 반환합니다.\n",
    "print(id(a))  # a의 id 출력\n",
    "print(id(b))  # b의 id 출력, a와 같음\n",
    "print(id(c))  # c의 id 출력, Python은 작은 정수에 대해 같은 객체를 재사용할 수 있음\n",
    "\n",
    "# `is` 연산자를 이용한 동일 객체 여부 확인\n",
    "if a is b:\n",
    "    print(\"a and b are the same object\")  # 출력: a와 b는 동일한 객체를 참조\n",
    "\n",
    "# `is not` 연산자를 이용한 다른 객체 여부 확인\n",
    "if a is not c:\n",
    "    print(\"a and c are different objects\")  # 일반적으로 실행되지 않음, a와 c는 동일 객체일 가능성 있음\n",
    "\n",
    "# 파이썬에서는 -5부터 256 사이의 정수는 캐싱되어 동일 객체로 간주됩니다.\n",
    "# 그 범위를 벗어난 정수는 값이 같더라도 다른 객체일 수 있습니다."
   ],
   "metadata": {
    "collapsed": false,
    "ExecuteTime": {
     "end_time": "2024-09-27T11:54:08.686237Z",
     "start_time": "2024-09-27T11:54:08.678832Z"
    }
   },
   "id": "4fb1dd407963b375",
   "outputs": [
    {
     "name": "stdout",
     "output_type": "stream",
     "text": [
      "140734621957848\n",
      "140734621957848\n",
      "140734621957848\n",
      "a and b are the same object\n"
     ]
    }
   ],
   "execution_count": 15
  }
 ],
 "metadata": {
  "kernelspec": {
   "display_name": "Python 3",
   "language": "python",
   "name": "python3"
  },
  "language_info": {
   "codemirror_mode": {
    "name": "ipython",
    "version": 2
   },
   "file_extension": ".py",
   "mimetype": "text/x-python",
   "name": "python",
   "nbconvert_exporter": "python",
   "pygments_lexer": "ipython2",
   "version": "2.7.6"
  }
 },
 "nbformat": 4,
 "nbformat_minor": 5
}
