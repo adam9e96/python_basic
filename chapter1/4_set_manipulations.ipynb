{
 "cells": [
  {
   "metadata": {
    "ExecuteTime": {
     "end_time": "2024-10-22T08:59:55.868992Z",
     "start_time": "2024-10-22T08:59:55.855681Z"
    }
   },
   "cell_type": "code",
   "source": [
    "\"\"\"\n",
    "1. 파일명 : 4_set_manipulations.ipynb\n",
    "2. 개요: 파이썬 집합(set) 자료형의 생성, 추가, 삭제 및 집합 연산에 관한 사용법을 설명하는 코드\n",
    "3. 작성자 : adam9e96\n",
    "4. 업데이트: 2024-10-22\n",
    "\"\"\""
   ],
   "id": "c479da8e8719349",
   "outputs": [
    {
     "data": {
      "text/plain": [
       "'\\n1. 파일명 : 4_set_manipulations.ipynb\\n2. 개요: 파이썬 집합(set) 자료형의 생성, 추가, 삭제 및 집합 연산에 관한 사용법을 설명하는 코드\\n3. 작성자 : adam9e96\\n4. 업데이트: 2024-10-22\\n'"
      ]
     },
     "execution_count": 24,
     "metadata": {},
     "output_type": "execute_result"
    }
   ],
   "execution_count": 24
  },
  {
   "cell_type": "markdown",
   "source": [
    "# 셋 (집합)\n",
    "## 1. 집합 생성 및 중복 제거\n",
    "- set은 중복을 허용하지 않는 집합 자료형. 중괄호({}) 또는 set() 함수를 이용하여 생성할 수 있습니다.\n"
   ],
   "metadata": {
    "collapsed": false
   },
   "id": "6973d37a2b676fe7"
  },
  {
   "cell_type": "code",
   "source": [
    "# 셋 생성 예시\n",
    "s1 = {'hello World'}\n",
    "print(s1)  # {'hello World'}\n",
    "print(type(s1))  # 출력: <class 'set'>\n",
    "\n",
    "# 리스트를 set으로 변환하면 중복된 값을 제거할 수 있습니다.\n",
    "li = [1, 1, 2, 2, 3, 3]  # 리스트\n",
    "print(li)  # 출력: [1, 1, 2, 2, 3, 3]  # 리스트로 출력\n",
    "\n",
    "# set으로 변환하여 중복 제거\n",
    "print(set(li))  # 출력: {1, 2, 3}\n",
    "li = list(set(li))  # set을 다시 리스트로 변환\n",
    "print(li)  # 출력: [1, 2, 3]\n",
    "\n",
    "# 문자열을 set으로 변환하면 각 문자를 요소로 하는 집합을 생성합니다.\n",
    "s2 = set('hello')\n",
    "print(f's2 : {s2}')  # 출력: s2 : {'h', 'o', 'l', 'e'}\n",
    "\n",
    "# 비어있는 집합 생성\n",
    "s3 = set()\n",
    "print(s3)  # 출력: set()"
   ],
   "metadata": {
    "collapsed": false,
    "ExecuteTime": {
     "end_time": "2024-10-22T08:59:55.915822Z",
     "start_time": "2024-10-22T08:59:55.905641Z"
    }
   },
   "id": "dda0c37ddc511ec1",
   "outputs": [
    {
     "name": "stdout",
     "output_type": "stream",
     "text": [
      "{'hello World'}\n",
      "<class 'set'>\n",
      "[1, 1, 2, 2, 3, 3]\n",
      "{1, 2, 3}\n",
      "[1, 2, 3]\n",
      "s2 : {'e', 'h', 'o', 'l'}\n",
      "set()\n"
     ]
    }
   ],
   "execution_count": 25
  },
  {
   "metadata": {},
   "cell_type": "markdown",
   "source": [
    "{}는 빈 딕셔너리를 생성하고, set()은 빈 집합을 생성한다.<br>\n",
    "중괄호에 키-값 쌍이 있으면 dict로, 단일 값들이 들어있으면 set으로 인식한다.<br>\n",
    "이러한 차이 때문에 빈 set자료형을 생성하려면 `set()` 을 사용해야함."
   ],
   "id": "d14a580ee54158f3"
  },
  {
   "metadata": {
    "ExecuteTime": {
     "end_time": "2024-10-22T08:59:55.967379Z",
     "start_time": "2024-10-22T08:59:55.960027Z"
    }
   },
   "cell_type": "code",
   "source": [
    "# 빈 딕셔너리\n",
    "empty_dict = {}\n",
    "print(type(empty_dict))  # 출력: <class 'dict'>\n",
    "\n",
    "# 빈 집합\n",
    "empty_set = set()\n",
    "print(type(empty_set))  # 출력: <class 'set'>\n",
    "\n",
    "# 요소가 있는 집합\n",
    "s1 = {'hello', 'world'}\n",
    "print(type(s1))  # 출력: <class 'set'>\n"
   ],
   "id": "6c5fc3aeb6319183",
   "outputs": [
    {
     "name": "stdout",
     "output_type": "stream",
     "text": [
      "<class 'dict'>\n",
      "<class 'set'>\n",
      "<class 'set'>\n"
     ]
    }
   ],
   "execution_count": 26
  },
  {
   "metadata": {},
   "cell_type": "markdown",
   "source": "## 2. 집합 요소 추가와 삭제",
   "id": "16afd389665838a0"
  },
  {
   "cell_type": "code",
   "source": [
    "# 추가할 때는 add() 메소드를 사용합니다.\n",
    "s = {10, 20, 30}\n",
    "s.add(40)  # 40을 추가\n",
    "print(s)  # 출력: {40, 10, 20, 30} / 저장되는 요소들은 순서가 없음\n",
    "\n",
    "# 요소를 삭제할 때는 remove()나 discard() 메소드를 사용합니다.\n",
    "# remove()는 요소가 없으면 KeyError를 발생시킵니다.\n",
    "s.remove(20)  # 20을 제거\n",
    "print(s)  # 출력: {40, 10, 30}\n",
    "\n",
    "# s.remove(345)  # KeyError: 345 발생 (주석 처리)\n",
    "\n",
    "# discard()는 요소가 없어도 오류가 발생하지 않습니다.\n",
    "s.discard(30)  # 30 제거\n",
    "s.discard(30)  # 이미 제거된 30을 다시 제거해도 오류 없음\n",
    "print(s)  # 출력: {40, 10}\n",
    "s.discard(234567)  # 존재하지 않는 값을 제거해도 오류 없음\n",
    "print(s)  # 출력: {40, 10}"
   ],
   "metadata": {
    "collapsed": false,
    "ExecuteTime": {
     "end_time": "2024-10-22T08:59:56.042971Z",
     "start_time": "2024-10-22T08:59:56.034715Z"
    }
   },
   "id": "601fe63a0507e2ed",
   "outputs": [
    {
     "name": "stdout",
     "output_type": "stream",
     "text": [
      "{40, 10, 20, 30}\n",
      "{40, 10, 30}\n",
      "{40, 10}\n",
      "{40, 10}\n"
     ]
    }
   ],
   "execution_count": 27
  },
  {
   "metadata": {},
   "cell_type": "markdown",
   "source": "## 3. 집합 변환\n",
   "id": "7ac30dc3238f1a07"
  },
  {
   "cell_type": "code",
   "source": [
    "# 리스트를 집합으로 변환하면 중복된 요소가 제거된다.\n",
    "s1 = set([1, 2, 3, 3, 4, 5, 2, 1])\n",
    "print(s1)  # 출력: {1, 2, 3, 4, 5}\n",
    "\n",
    "# s1(set자료형)을 리스트로 변환\n",
    "li = list(s1)\n",
    "print(li)  # 출력: [1, 2, 3, 4, 5]\n",
    "\n",
    "# set을 튜플로 변환\n",
    "t1 = tuple(s1)\n",
    "print(t1)  # 출력: (1, 2, 3, 4, 5)"
   ],
   "metadata": {
    "collapsed": false,
    "ExecuteTime": {
     "end_time": "2024-10-22T08:59:56.123282Z",
     "start_time": "2024-10-22T08:59:56.109747Z"
    }
   },
   "id": "23038ef9beb8ffdc",
   "outputs": [
    {
     "name": "stdout",
     "output_type": "stream",
     "text": [
      "{1, 2, 3, 4, 5}\n",
      "[1, 2, 3, 4, 5]\n",
      "(1, 2, 3, 4, 5)\n"
     ]
    }
   ],
   "execution_count": 28
  },
  {
   "metadata": {},
   "cell_type": "markdown",
   "source": [
    "## 4. 집합 연산\n",
    " - set 자료형은 교집합, 합집합, 차집합 구할 때 유용합니다."
   ],
   "id": "621002010ba6d069"
  },
  {
   "cell_type": "code",
   "source": [
    "# set 자료형의 기능\n",
    "# 교집합, 합집합, 차집함 구할때 유용하다."
   ],
   "metadata": {
    "collapsed": false,
    "ExecuteTime": {
     "end_time": "2024-10-22T08:59:56.279178Z",
     "start_time": "2024-10-22T08:59:56.274823Z"
    }
   },
   "id": "db7a23979d0e81b8",
   "outputs": [],
   "execution_count": 29
  },
  {
   "cell_type": "code",
   "source": [
    "# 셋 생성 및 요소 추가 예시\n",
    "my_set = {1, 2, 3, 4, 5}\n",
    "my_set.add(6)  # 6 추가\n",
    "my_set.update([7, 8, 9])  # 여러 요소 추가\n",
    "print(my_set)  # 출력: {1, 2, 3, 4, 5, 6, 7, 8, 9}\n",
    "\n",
    "# 요소 제거 예시\n",
    "my_set.remove(9)  # 9 제거 (존재하지 않으면 KeyError 발생)\n",
    "my_set.discard(8)  # 8 제거 (존재하지 않아도 오류 없음)\n",
    "\n",
    "# 데이터 존재 여부 확인\n",
    "if 1 in my_set:\n",
    "    print(\"1은 my_set에 있습니다.\")  # 출력: 1은 my_set에 있습니다.\n",
    "\n",
    "# 집합 연산\n",
    "another_set = {4, 5, 6, 7}\n",
    "intersection = my_set.intersection(another_set)  # 교집합\n",
    "union = my_set.union(another_set)  # 합집합\n",
    "difference = my_set.difference(another_set)  # 차집합\n",
    "\n",
    "print(intersection)  # 출력: {4, 5, 6}\n",
    "print(union)         # 출력: {1, 2, 3, 4, 5, 6, 7}\n",
    "print(difference)    # 출력: {1, 2, 3}"
   ],
   "metadata": {
    "collapsed": false,
    "ExecuteTime": {
     "end_time": "2024-10-22T08:59:56.311594Z",
     "start_time": "2024-10-22T08:59:56.303047Z"
    }
   },
   "id": "7c062c45109448c3",
   "outputs": [
    {
     "name": "stdout",
     "output_type": "stream",
     "text": [
      "{1, 2, 3, 4, 5, 6, 7, 8, 9}\n",
      "1은 my_set에 있습니다.\n",
      "{4, 5, 6, 7}\n",
      "{1, 2, 3, 4, 5, 6, 7}\n",
      "{1, 2, 3}\n"
     ]
    }
   ],
   "execution_count": 30
  }
 ],
 "metadata": {
  "kernelspec": {
   "display_name": "Python 3",
   "language": "python",
   "name": "python3"
  },
  "language_info": {
   "codemirror_mode": {
    "name": "ipython",
    "version": 2
   },
   "file_extension": ".py",
   "mimetype": "text/x-python",
   "name": "python",
   "nbconvert_exporter": "python",
   "pygments_lexer": "ipython2",
   "version": "2.7.6"
  }
 },
 "nbformat": 4,
 "nbformat_minor": 5
}
