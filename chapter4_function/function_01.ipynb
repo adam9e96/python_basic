{
 "cells": [
  {
   "metadata": {},
   "cell_type": "markdown",
   "source": "# abd\n",
   "id": "acef4e7570fc92a5"
  },
  {
   "cell_type": "code",
   "source": [
    "# 1. 함수 정의 및 사용\n",
    "# welcome() 함수 정의 및 호출\n",
    "def welcome():\n",
    "    # 환영 메시지 출력\n",
    "    print(\"Hello Python\")\n",
    "    print('Nice to meet you')\n",
    "\n",
    "welcome()  # 함수는 호출 전에 정의되어야 함 (파이썬은 인터프리터 방식이기 때문임)\n",
    "\n",
    "def process(number):\n",
    "    return number / 1\n",
    "\n",
    "# process(\"hello\")  # TypeError: unsupported operand type(s) for /: 'str' and 'int'\n",
    "\n",
    "# 파이썬 함수의 한계:\n",
    "# - 명시적 데이터 타입이 없어, 함수 사용 시 예상한 타입이 아닐 경우 오류 발생 가능\n",
    "\n",
    "# 3. 함수의 타입 힌트 사용\n",
    "# 타입 힌트를 추가하여 입력으로 예상되는 타입을 명확히 함\n",
    "def process_ver2(number: int) -> float:\n",
    "    return number / 1\n",
    "\n",
    "# 타입 힌트는 사용 지침을 제공할 뿐, 강제하지 않음.\n",
    "def process_ver2(number: int) -> float:\n",
    "    return number / 1\n",
    "process_ver2(3)"
   ],
   "metadata": {
    "collapsed": false,
    "ExecuteTime": {
     "end_time": "2024-10-24T16:50:59.248788Z",
     "start_time": "2024-10-24T16:50:59.235990Z"
    }
   },
   "id": "5e94a5eacd29091",
   "outputs": [
    {
     "name": "stdout",
     "output_type": "stream",
     "text": [
      "Hello Python\n",
      "Nice to meet you\n"
     ]
    },
    {
     "data": {
      "text/plain": [
       "3.0"
      ]
     },
     "execution_count": 16,
     "metadata": {},
     "output_type": "execute_result"
    }
   ],
   "execution_count": 16
  },
  {
   "metadata": {},
   "cell_type": "markdown",
   "source": [
    "### 파이썬 함수의 한계\n",
    "- 명시적 데이터 타입이 없어, 함수 사용 시 예상한 타입이 아닐 경우 오류 발생 가능."
   ],
   "id": "401226947b71d2d7"
  },
  {
   "metadata": {
    "collapsed": false,
    "ExecuteTime": {
     "end_time": "2024-10-24T16:47:52.422139Z",
     "start_time": "2024-10-24T16:47:52.417127Z"
    }
   },
   "cell_type": "code",
   "outputs": [
    {
     "name": "stdout",
     "output_type": "stream",
     "text": [
      "내 이름은 james이고, 나이는25살이다.\n",
      "내 이름은 james이고, 나이는25살이다.\n"
     ]
    }
   ],
   "execution_count": 2,
   "source": [
    "# 인수와 매개변수\n",
    "# 매개변수(함수에서 정의된 변수, parameter)는 전달받는 인수(함수에 전달되는 값, argument)를 저장함\n",
    "\n",
    "# 1. 인수가 있는 함수\n",
    "def introduce(name: str, age: int) -> None:\n",
    "    print(f'내 이름은 {name}이고, 나이는{age}살이다.')\n",
    "\n",
    "introduce('james', 25)  # 매개변수명을 사용하면 인수 순서가 자유로워짐\n",
    "introduce(age=25, name='james')  # 출력 : 내 이름은 james이고, 나이는25살이다.\n",
    "# 매개변수 순서를 임의로 할 수있다. 단 맥개변수명 = 형태로해야한다.\n",
    "\n",
    "# def introduce(name: Any, age: Any) -> None\n",
    "def introduce(name, age):\n",
    "    print(f'내 이름은 {name}이고, 나이는{age}살이다.')"
   ],
   "id": "42562d479f0b81e"
  },
  {
   "metadata": {
    "collapsed": false,
    "ExecuteTime": {
     "end_time": "2024-10-27T08:59:36.290857Z",
     "start_time": "2024-10-27T08:59:36.278534Z"
    }
   },
   "cell_type": "code",
   "outputs": [
    {
     "name": "stdout",
     "output_type": "stream",
     "text": [
      "python\n",
      "happy\n",
      "birthday\n",
      "name: Alice\n",
      "age: 30\n",
      "job: Engineer\n"
     ]
    }
   ],
   "execution_count": 1,
   "source": [
    "# 2. 가변 매개변수\n",
    "# *args는 위치 기반 인수, **kwargs는 키워드 기반 인수를 처리함\n",
    "def show(*args):\n",
    "    for item in args:\n",
    "        print(item)\n",
    "\n",
    "show('python')  # show 함수 호출. 인수가 1개 # 출력 : python\n",
    "show('happy', 'birthday')  # show 함수 호출. 인수가 2개 # 출력 : happy, birthday\n",
    "\n",
    "def print_kwargs(**kwargs):\n",
    "    for key, value in kwargs.items():\n",
    "        print(f\"{key}: {value}\")\n",
    "\n",
    "print_kwargs(name='Alice', age=30, job='Engineer')"
   ],
   "id": "5b510c63d089450a"
  },
  {
   "metadata": {
    "collapsed": false,
    "ExecuteTime": {
     "end_time": "2024-10-27T09:05:46.350757Z",
     "start_time": "2024-10-27T09:05:46.342924Z"
    }
   },
   "cell_type": "code",
   "source": [
    "# 반환값이 있는 경우\n",
    "def address():\n",
    "    string = '우편번호 12345\\n'\n",
    "    string += '서울시 영등포구 여의도동'\n",
    "    return string\n",
    "    # def address() -> str\n",
    "\n",
    "address()  # 출력 결과 없음\n",
    "\n",
    "print(address())\n",
    "\n",
    "\n",
    "# 출력\n",
    "# 우편번호 12345\n",
    "# 서울시 영등포구 여의도동\n",
    "\n",
    "\n",
    "# 반환값이 없는 경우\n",
    "def address():\n",
    "    string = '우편번호 12345\\n'\n",
    "    string += '서울시 영등포구 여의도동'\n",
    "    print(string)\n",
    "    # def address() -> None\n",
    "\n",
    "\n",
    "print(address())\n",
    "# 출력\n",
    "# 우편번호 12345  <-- address() 함수의 print()\n",
    "# 서울시 영등포구 여의도동 <-- address() 함수의 print()\n",
    "# None < -- print(address()) 호출 결과\n",
    "\n",
    "# None : 반환값이 없어서 출력이 안됨\n",
    "\n",
    "address()\n",
    "# 출력\n",
    "# 우편번호 12345\n",
    "# 서울시 영등포구 여의도동"
   ],
   "id": "2c0491640ad30b5",
   "outputs": [
    {
     "name": "stdout",
     "output_type": "stream",
     "text": [
      "우편번호 12345\n",
      "서울시 영등포구 여의도동\n",
      "우편번호 12345\n",
      "서울시 영등포구 여의도동\n",
      "None\n",
      "우편번호 12345\n",
      "서울시 영등포구 여의도동\n"
     ]
    }
   ],
   "execution_count": 2
  },
  {
   "metadata": {
    "collapsed": false,
    "ExecuteTime": {
     "end_time": "2024-10-25T05:43:31.812395Z",
     "start_time": "2024-10-25T05:43:31.807363Z"
    }
   },
   "cell_type": "code",
   "outputs": [
    {
     "name": "stdout",
     "output_type": "stream",
     "text": [
      "반갑습니다.\n",
      "안녕하세요\n",
      "김철수님 안녕하세요.\n",
      "김철수님 반갑습니다.\n",
      "이철수님 안녕하세요.\n",
      "김철수님 안녕하세요.\n",
      "김철수님 반갑습니다.\n"
     ]
    }
   ],
   "execution_count": 3,
   "source": [
    "# 3. 디폴트 매개변수\n",
    "# 전달된 인수가 없을 때 기본값을 사용함\n",
    "\n",
    "def greet(message='안녕하세요'):\n",
    "    print(message)\n",
    "\n",
    "greet('반갑습니다.')  # 출력 : 반갑습니다.\n",
    "greet()  # 출력 : 안녕하세요 <-- 기본값이 출력되었음. 디폴트 매개변수가 없었다면 에러가 떴다.\n",
    "# 디폴트 매개변수는 일반 매개변수 뒤에 배치하여 혼동을 피하는 것이 좋음.\n",
    "\n",
    "# 자바는 디폴트 매개변수가 지원되지 않는데\n",
    "# 자바는 메소드오버로딩이 있어서 그렇고 파이썬은 메소드 오버로딩을 지원하지 않음. 둘다 지원하는 경우 C++ 가 있는데 헷갈림\n",
    "\n",
    "# 디폴트 매개변수와 일반 매개변수를 같이 사용하는 경우 디폴트 매개변수를 뒤(오른쪽)으로 배치\n",
    "def greet(name, message='안녕하세요.'):  # 순서를 바꾸면 주의 문구뜸. \n",
    "    print(f'{name}님 {message}')\n",
    "\n",
    "greet('김철수')  # 출력 : 김철수님 안녕하세요.\n",
    "greet('김철수', '반갑습니다.')  # 출력 : 김철수님 반갑습니다.\n",
    "\n",
    "\n",
    "# 복수의 디폴트 매개변수를 사용하는 경우\n",
    "def greet(name='이철수', message='안녕하세요.'):\n",
    "    print(f'{name}님 {message}')\n",
    "\n",
    "\n",
    "greet()  # 출력 : 이철수님 안녕하세요.\n",
    "greet('김철수')  # 왼쪽부터 적용 # 출력 : 김철수님 안녕하세요.\n",
    "greet('김철수', '반갑습니다.')  # 출력 : 김철수님 반갑습니다."
   ],
   "id": "44dfa1261384ac9d"
  },
  {
   "cell_type": "code",
   "source": [
    "# 2. 다중 반환\n",
    "# 하나의 반환값도 처리할 수 있고 여러 개의 반환 값도 처리할 수 있음\n",
    "\n",
    "def calculator(*args):\n",
    "    return sum(args), sum(args) / len(args), max(args), min(args)\n",
    "    # args: tuple[Any, ...]\n",
    "\n",
    "\n",
    "# print(calculator())\n",
    "a, b, c, d = calculator(1, 2, 3, 4, 5)  # 4개의 반환값을 모두 저장하기 위해서 변수 4개 배치\n",
    "print('합계', a)  # 출력 : 합계 15\n",
    "print('평균', b)  # 출력 : 평균 3.0\n",
    "print('최댓값', c)  # 출력 : 최댓값 5\n",
    "print('최솟값', d)  # 출력 : 최솟값 1\n",
    "\n",
    "print(calculator(1, 2, 3, 4, 5))  # 출력 : (15, 3.0, 5, 1) # 테스트코드\n",
    "\n",
    "print()\n",
    "result = calculator(1, 2, 3, 4, 5)\n",
    "print('합계', result[0])  # 출력 : 합계 15\n",
    "print('평균', result[1])  # 출력 : 평균 3.0\n",
    "print('최댓값', result[2])  # 출력 : 최댓값 5\n",
    "print('최솟값', result[3])  # 출력 : 최솟값 1\n"
   ],
   "metadata": {
    "collapsed": false,
    "ExecuteTime": {
     "end_time": "2024-10-24T16:47:53.088294Z",
     "start_time": "2024-10-24T16:47:53.082176Z"
    }
   },
   "id": "f74624ac4154a67a",
   "outputs": [
    {
     "name": "stdout",
     "output_type": "stream",
     "text": [
      "합계 15\n",
      "평균 3.0\n",
      "최댓값 5\n",
      "최솟값 1\n",
      "(15, 3.0, 5, 1)\n",
      "\n",
      "합계 15\n",
      "평균 3.0\n",
      "최댓값 5\n",
      "최솟값 1\n"
     ]
    }
   ],
   "execution_count": 6
  },
  {
   "cell_type": "code",
   "source": [
    "# 3. 함수의 종료를 위한 return\n",
    "# 반환값이 없으면 return 문을 사용해 반환하고, 반환값이 없으면 return 문을 생략하면 됨\n",
    "# 반환값이 없을 때도 return 문을 작성하는 경우 -> 함수를 종료할 때\n",
    "\n",
    "def charge(energy):\n",
    "    if energy < 0:\n",
    "        print('0보다 작은 에너지는 충전할 수 없습니다.')\n",
    "        return  # charge() 함수의 종료를 의미\n",
    "    print('에너지가 충전되었습니다.')\n",
    "\n",
    "\n",
    "charge(1)  # 출력 : 에너지가 충전되었습니다.\n",
    "charge(-1)  # 출력 : 0보다 작은 에너지는 충전할 수 없습니다."
   ],
   "metadata": {
    "collapsed": false,
    "ExecuteTime": {
     "end_time": "2024-10-24T16:47:53.143675Z",
     "start_time": "2024-10-24T16:47:53.138740Z"
    }
   },
   "id": "9c5d2d2909294d58",
   "outputs": [
    {
     "name": "stdout",
     "output_type": "stream",
     "text": [
      "에너지가 충전되었습니다.\n",
      "0보다 작은 에너지는 충전할 수 없습니다.\n"
     ]
    }
   ],
   "execution_count": 7
  },
  {
   "cell_type": "code",
   "source": [
    "# 4. 파이썬의 함수는 객체이고 자료형이다.\n",
    "print(charge)  # 출력 : <function charge at 0x0000029097B992D0>\n",
    "\n",
    "\n",
    "def charge(energy):\n",
    "    if energy < 0:\n",
    "        print('0보다 작은 에너지는 충전할 수 없습니다.')\n",
    "        return  # charge() 함수의 종료를 의미\n",
    "    print('에너지가 충전되었습니다.')\n",
    "\n",
    "\n",
    "def print_charge(fun):\n",
    "    fun(0)  # 에너지가 충전되었습니다.\n",
    "\n",
    "\n",
    "# def print_charge(fun: Any) -> None\n",
    "# 함수를 매개변수로 넘기는 것이 가능하다.\n",
    "\n",
    "print_charge(charge)  # 함수를 함수 호출시 인수로 사용이 가능. # 출력 : 에너지가 충전되었습니다.\n",
    "\n"
   ],
   "metadata": {
    "collapsed": false,
    "ExecuteTime": {
     "end_time": "2024-10-24T16:47:53.236257Z",
     "start_time": "2024-10-24T16:47:53.231913Z"
    }
   },
   "id": "1ac068e3f14baf98",
   "outputs": [
    {
     "name": "stdout",
     "output_type": "stream",
     "text": [
      "<function charge at 0x000001B98C0D8540>\n",
      "에너지가 충전되었습니다.\n"
     ]
    }
   ],
   "execution_count": 8
  },
  {
   "cell_type": "code",
   "source": [
    "# 지역변수와 전역변수\n",
    "\n",
    "# 1. 지역변수 local variable\n",
    "\n",
    "def f():\n",
    "    a = 10  # 내부에서 선언된 지역변수\n",
    "    print(f'f() 내부 : {a}')\n",
    "\n",
    "\n",
    "f()  # 출력 : f() 내부 : 10\n",
    "# print(f'f() 외부 : {a}') # 함수 외부에서는 a 변수를 사용할 수 없음. # 지역 변수이기 때문 \n",
    "# NameError: name 'a' is not defined"
   ],
   "metadata": {
    "collapsed": false,
    "ExecuteTime": {
     "end_time": "2024-10-24T16:47:53.325255Z",
     "start_time": "2024-10-24T16:47:53.320487Z"
    }
   },
   "id": "907d88d8e2683c21",
   "outputs": [
    {
     "name": "stdout",
     "output_type": "stream",
     "text": [
      "f() 내부 : 10\n"
     ]
    }
   ],
   "execution_count": 9
  },
  {
   "cell_type": "code",
   "source": [
    "# 2. 전역변수 global variable\n",
    "\n",
    "def f():\n",
    "    print(f'f() 내부 : {b}')\n",
    "\n",
    "\n",
    "b = 10\n",
    "f()  # 출력 : f() 내부 : 10\n",
    "print(f'f() 외부 : {b}')  # 출력 : f() 외부 : 10\n",
    "\n",
    "# 주의할점\n",
    "# 1) 전역변수를 단순히 참조만 하는 경우\n",
    "a = 0  # 전역변수 초기화\n",
    "\n",
    "\n",
    "def f():\n",
    "    print(a)  # 함수 f() 내부에서 전역변수 a를 참조\n",
    "\n",
    "\n",
    "f()  # 출력 : 0     함수 f() 외부에서 전역변수 a를 참조\n",
    "print(a)  # 출력 : 0\n",
    "\n",
    "# 2) 전역변수의 값을 변경하는 경우\n",
    "a = 0\n",
    "\n",
    "z = 0\n",
    "z = 10  # 파이썬의 단점. 변수를 생성해서 초기화 하는 과정이 변수에 값을 변경하는 과정과 문법적으로 차이가 없어서 구분하기가 힘들다.\n",
    "\n",
    "\n",
    "def f():\n",
    "    a = 10  # 전역변수 a의 값을 변경시도  # 전역변수 a 의 값을 변경하고 싶은건지 a라는 변수를 지연변수로 선언 및 초기화를 하고 싶은건지 알 수가 없음\n",
    "\n",
    "\n",
    "f()  # 전역변수a인지 지역변수 a인지 알 수 가 없음\n",
    "print(a)  # 0 / 전역변수의 변경된 값을 확인 # 0이다\n",
    "\n",
    "\n",
    "def f():\n",
    "    global a  # 전역변수 a 를 사용\n",
    "    a = 10  # 전역변수 a의 값을 변경 \n",
    "\n",
    "\n",
    "f()  # 전역변수a인지 지역변수 a인지 알 수 가 없음 => 구분을 못해서 0 출력 (f()호출하면서 전역변수 a는 10으로 초기화는 됨)\n",
    "print(a)  # 10 / 전역변수의 변경된 값을 확인\n",
    "\n",
    "# 전역 글로벌 문제 오류 줄이는 방법\n",
    "# global을 쓰거나 매개변수로 a를 받아서 사용\n",
    "# 함수에서 값을 받아서 사용하고 싶으면 RETURN 값으로 받아서 값을 변경."
   ],
   "metadata": {
    "collapsed": false,
    "ExecuteTime": {
     "end_time": "2024-10-24T16:47:53.378689Z",
     "start_time": "2024-10-24T16:47:53.372113Z"
    }
   },
   "id": "fb177f7a131ff2f2",
   "outputs": [
    {
     "name": "stdout",
     "output_type": "stream",
     "text": [
      "f() 내부 : 10\n",
      "f() 외부 : 10\n",
      "0\n",
      "0\n",
      "0\n",
      "10\n"
     ]
    }
   ],
   "execution_count": 10
  },
  {
   "cell_type": "code",
   "source": [
    "# 문제\n",
    "# 커피 자판기 프로그램.\n",
    "# 1. 커피 자판기에 돈과 주문할 커피를 전달\n",
    "# 2. 주문할 수 있는 커피의 종류와 가격\n",
    "# '아메리카노': 1000,\n",
    "# '카페라떼': 1500,\n",
    "# '카푸치노': 2000\n",
    "# 3. 없는 커피를 주문할 경우 입력한 돈을 그대로 반환 <-\n",
    "# 4. 구매 금액이 부족하면 입력한 돈을 그대로 반환 <-\n",
    "# 5. 정상 주문이면 주문한 커피와 잔돈을 반환"
   ],
   "metadata": {
    "collapsed": false,
    "ExecuteTime": {
     "end_time": "2024-10-24T16:47:53.426502Z",
     "start_time": "2024-10-24T16:47:53.422317Z"
    }
   },
   "id": "3c1d1bcf664070fb",
   "outputs": [],
   "execution_count": 11
  },
  {
   "cell_type": "code",
   "source": [
    "def coffee_machine(money: int, pick: str) -> tuple[int, str]:  # 어노테이션\n",
    "    print(f'{money}원에 {pick}을 선택하셨습니다.')\n",
    "    # 커피와 가격을 하나의 데이터로 처리하기 위해 딕셔너리 dict 를 사용\n",
    "    menu = {\n",
    "        '아메리카노': 1000,\n",
    "        '카페라떼': 1500,\n",
    "        '카푸치노': 2000\n",
    "    }\n",
    "    # 없는 커피를 주문 하는 경우\n",
    "    if pick not in menu:\n",
    "        print(f'{pick}는 판매하지 않습니다.')\n",
    "        return money, '자만기에 없는 메뉴'\n",
    "    elif menu[pick] > money:  # 구매할 금액이 부족한 경우\n",
    "        print(f'{pick}는 {menu[pick]}원입니다.')\n",
    "        return money, '금액 부족'\n",
    "    else:  # 정상주문이면 잔돈과 선택한 커피를 반환\n",
    "        return money - menu[pick], pick\n",
    "\n",
    "\n",
    "order = input('커피를 선택하세요. (아메리카노, 카페라떼, 카푸치노) >>> ')\n",
    "pay = int(input('얼마를 내시나요? >>> '))\n",
    "\n",
    "change, coffee = coffee_machine(pay, order)\n",
    "print(f'잔돈 {change}원, 커피 {coffee}')\n",
    "\n",
    "# print(coffee_machine(change, order))  # 테스트 # 출력 : (1000, '아메리카노')"
   ],
   "metadata": {
    "collapsed": false,
    "ExecuteTime": {
     "end_time": "2024-10-24T16:48:02.942379Z",
     "start_time": "2024-10-24T16:47:53.476656Z"
    }
   },
   "id": "6d2e13d48170967a",
   "outputs": [
    {
     "name": "stdout",
     "output_type": "stream",
     "text": [
      "10000원에 아메리카노을 선택하셨습니다.\n",
      "잔돈 9000원, 커피 아메리카노\n"
     ]
    }
   ],
   "execution_count": 12
  },
  {
   "cell_type": "markdown",
   "source": [
    "# 문제 1\n",
    "1. 700원짜리 음료수를 뽑을 수 있는 자판기 프로그램을 구현하세요.\n",
    "돈을 넣으면 몇 잔의 음료수를 뽑을 수 있는지 그리고 잔돈은 얼마인지 모든 경우의 수를 출력하도록 구현하세요.\n",
    "\n",
    "함수 정의\n",
    "* 반환값 : 없음\n",
    "* 함수 이름 : vending_machine()\n",
    "* 매개변수 : 정수 money\n",
    "\n",
    "코드 구성\n",
    "def vending_machine(money):\n",
    " # 함수 구현\n",
    "\n",
    "vending_machine(3000)\n",
    "\n",
    "실행 예)\n",
    "음료수 = 0개, 잔돈 = 3000원\n",
    "음료수 = 1개, 잔돈 = 2300원\n",
    "음료수 = 2개, 잔돈 = 1600원\n",
    "음료수 = 3개, 잔돈 = 900원\n",
    "음료수 = 4개, 잔돈 = 200원"
   ],
   "metadata": {
    "collapsed": false
   },
   "id": "f39612293c845e4e"
  },
  {
   "cell_type": "markdown",
   "source": [
    "# 문제 2\n",
    "2. 키(key)가 '과목명', 값(value)이 '점수'인 marks 딕셔너리를 전달하면\n",
    "해당 딕셔너리에 저장된 점수들의 평균을 반환하는 get_average() 함수를 구현하세요.\n",
    "\n",
    "함수 정의\n",
    "* 반환값 : 평균\n",
    "* 함수 이름 :get_average()\n",
    "* 매개변수 : 딕셔너리 marks\n",
    "\n",
    "코드 구성\n",
    "def get_average(marks):\n",
    " # 함수 구현\n",
    "\n",
    "marks = {'국어':90, '영어':80, '수학':85}\n",
    "average = get_average(marks)\n",
    "print(f'평균은 {average}입니다.')\n",
    "\n",
    "실행 예)\n",
    "평균은 85.0점입니다."
   ],
   "metadata": {
    "collapsed": false
   },
   "id": "59c89954b7ce2e59"
  },
  {
   "cell_type": "code",
   "source": [
    "# 문제1\n",
    "def vending_machine(money: int) -> None:\n",
    "    drink: int = 700\n",
    "    count: int = 0\n",
    "    print(f'음료수 ={count}개, 잔돈 = {money}')\n",
    "    while drink <= money:\n",
    "        count += 1\n",
    "        money -= drink\n",
    "        print(f'음료수 ={count}개, 잔돈 = {money}')\n",
    "\n",
    "\n",
    "vending_machine(3000)\n",
    "\n",
    "# case 2\n",
    "def vending_machine(money: int) -> None:\n",
    "    drink: int = 700\n",
    "    count: int = 0\n",
    "    for i in range(money // drink + 1):\n",
    "        print(f'음료수 = {count}개, 잔동 = {money}원')\n",
    "        count += 1\n",
    "        money -= drink\n",
    "\n",
    "\n",
    "vending_machine(3000)\n",
    "\n",
    "# 음료수 =0개, 잔돈 = 3000\n",
    "# 음료수 =1개, 잔돈 = 2300\n",
    "# 음료수 =2개, 잔돈 = 1600\n",
    "# 음료수 =3개, 잔돈 = 900\n",
    "# 음료수 =4개, 잔돈 = 200\n",
    "# 음료수 = 0개, 잔동 = 3000원\n",
    "# 음료수 = 1개, 잔동 = 2300원\n",
    "# 음료수 = 2개, 잔동 = 1600원\n",
    "# 음료수 = 3개, 잔동 = 900원\n",
    "# 음료수 = 4개, 잔동 = 200원\n",
    "\n"
   ],
   "metadata": {
    "collapsed": false,
    "ExecuteTime": {
     "end_time": "2024-10-24T16:48:03.033663Z",
     "start_time": "2024-10-24T16:48:03.026745Z"
    }
   },
   "id": "1de3d71f0e7613aa",
   "outputs": [
    {
     "name": "stdout",
     "output_type": "stream",
     "text": [
      "음료수 =0개, 잔돈 = 3000\n",
      "음료수 =1개, 잔돈 = 2300\n",
      "음료수 =2개, 잔돈 = 1600\n",
      "음료수 =3개, 잔돈 = 900\n",
      "음료수 =4개, 잔돈 = 200\n",
      "음료수 = 0개, 잔동 = 3000원\n",
      "음료수 = 1개, 잔동 = 2300원\n",
      "음료수 = 2개, 잔동 = 1600원\n",
      "음료수 = 3개, 잔동 = 900원\n",
      "음료수 = 4개, 잔동 = 200원\n"
     ]
    }
   ],
   "execution_count": 13
  },
  {
   "cell_type": "code",
   "source": [
    "from typing import Any\n",
    "\n",
    "# 문제 2번\n",
    "def get_average(marks: dict) -> float:\n",
    "    return sum(marks.values()) / len(marks)\n",
    "\n",
    "marks = {'국어': 90, '영어': 80, '수학': 85}\n",
    "average = get_average(marks)\n",
    "print(f'평균은 {average}입니다.')\n",
    "\n",
    "# test\n",
    "print(marks.keys())  # key\n",
    "print(sum(marks.values()))  # value\n",
    "print(marks.values())\n",
    "print(len(marks))\n",
    "print(len(marks.values()))\n",
    "\n",
    "\n",
    "def get_average(marks: dict[Any, int]) -> float:  # Any을 쓸려면 import 필요\n",
    "    return sum(marks.values()) / len(marks)\n"
   ],
   "metadata": {
    "collapsed": false,
    "ExecuteTime": {
     "end_time": "2024-10-24T16:48:03.124576Z",
     "start_time": "2024-10-24T16:48:03.118147Z"
    }
   },
   "id": "bb3370d3924b679b",
   "outputs": [
    {
     "name": "stdout",
     "output_type": "stream",
     "text": [
      "평균은 85.0입니다.\n",
      "dict_keys(['국어', '영어', '수학'])\n",
      "255\n",
      "dict_values([90, 80, 85])\n",
      "3\n",
      "3\n"
     ]
    }
   ],
   "execution_count": 14
  }
 ],
 "metadata": {
  "kernelspec": {
   "display_name": "Python 3",
   "language": "python",
   "name": "python3"
  },
  "language_info": {
   "codemirror_mode": {
    "name": "ipython",
    "version": 2
   },
   "file_extension": ".py",
   "mimetype": "text/x-python",
   "name": "python",
   "nbconvert_exporter": "python",
   "pygments_lexer": "ipython2",
   "version": "2.7.6"
  }
 },
 "nbformat": 4,
 "nbformat_minor": 5
}
