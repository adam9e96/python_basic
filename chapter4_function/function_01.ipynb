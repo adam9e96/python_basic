{
 "cells": [
  {
   "cell_type": "code",
   "source": [
    "# 사용\n",
    "# welcome() 함수 정의\n",
    "def welcome():\n",
    "    print(\"Hello Python\")\n",
    "    print('Nice to meet you')\n",
    "\n",
    "\n",
    "welcome()  # 함수가 정의한 후에 호출을 해야 함 # 함수가 먼저 선언이 되어야 사용가능함\n",
    "\n",
    "\n",
    "# 인터프리티 방식의 특징임.\n",
    "\n",
    "# 파이썬 함수의 단점 : 데이터 타입이 없어서 다른 작업자가 만든 함수를 사용할 때 주의할 점이 많음.\n",
    "def process(number):\n",
    "    return number / 1\n",
    "\n",
    "\n",
    "# process(\"hello\")  # TypeError: unsupported operand type(s) for /: 'str' and 'int'\n",
    "# 내가 만들지 않았으니 정수를 넘겨야 하는데 문자열을 넣는 듯 실수를 할 수 있음\n",
    "\n",
    "# sol. 어노테이션 사용\n",
    "# 어노테이션 사용 가능. 타입 강제는 아님 # 타입을 알려줄 수 있게됨\n",
    "def process(number: int) -> float:\n",
    "    return number / 1\n"
   ],
   "metadata": {
    "collapsed": false,
    "jupyter": {
     "is_executing": true
    }
   },
   "id": "5e94a5eacd29091",
   "outputs": [],
   "execution_count": null
  },
  {
   "cell_type": "code",
   "outputs": [
    {
     "name": "stdout",
     "output_type": "stream",
     "text": [
      "내 이름은 james이고, 나이는25살이다.\n",
      "내 이름은 james이고, 나이는25살이다.\n"
     ]
    }
   ],
   "source": [
    "# 인수와 매개변수\n",
    "# 함수로 전달되는 인수(argument) 를 저장하는 변수를 매개변수(parameter)라고 함\n",
    "\n",
    "# 1. 인수가 있는 함수\n",
    "def introduce(name: str, age: int) -> None:\n",
    "    print(f'내 이름은 {name}이고, 나이는{age}살이다.')\n",
    "\n",
    "\n",
    "introduce('james', 25)  # 출력 : 내 이름은 james이고, 나이는25살이다.\n",
    "introduce(age=25, name='james')  # 출력 : 내 이름은 james이고, 나이는25살이다.\n",
    "\n",
    "\n",
    "# 매개변수 순서를 임의로 할 수있다. 단 맥개변수명= 형태로해야한다.\n",
    "\n",
    "# def introduce(name: Any, age: Any) -> None\n",
    "def introduce(name, age):\n",
    "    print(f'내 이름은 {name}이고, 나이는{age}살이다.')\n"
   ],
   "metadata": {
    "collapsed": false,
    "ExecuteTime": {
     "end_time": "2024-02-28T15:33:50.522325Z",
     "start_time": "2024-02-28T15:33:50.488665Z"
    }
   },
   "id": "42562d479f0b81e",
   "execution_count": 1
  },
  {
   "cell_type": "code",
   "outputs": [
    {
     "name": "stdout",
     "output_type": "stream",
     "text": [
      "python\n",
      "happy\n",
      "birthday\n",
      "name: Alice\n",
      "age: 30\n",
      "job: Engineer\n"
     ]
    }
   ],
   "source": [
    "# 2. 가변 매개변수\n",
    "def show(*args):\n",
    "    for item in args:\n",
    "        print(item)\n",
    "\n",
    "\n",
    "show('python')  # show 함수 호출. 인수가 1개 # 출력 : python\n",
    "show('happy', 'birthday')  # show 함수 호출. 인수가 2개 # 출력 : happy, birthday\n",
    "\n",
    "\n",
    "def print_kwargs(**kwargs):\n",
    "    for key, value in kwargs.items():\n",
    "        print(f\"{key}: {value}\")\n",
    "\n",
    "\n",
    "print_kwargs(name='Alice', age=30, job='Engineer')\n"
   ],
   "metadata": {
    "collapsed": false,
    "ExecuteTime": {
     "end_time": "2024-02-28T15:43:12.885978Z",
     "start_time": "2024-02-28T15:43:12.865939Z"
    }
   },
   "id": "5b510c63d089450a",
   "execution_count": 3
  },
  {
   "cell_type": "code",
   "outputs": [
    {
     "name": "stdout",
     "output_type": "stream",
     "text": [
      "반갑습니다.\n",
      "안녕하세요\n",
      "김철수님 안녕하세요.\n",
      "김철수님 반갑습니다.\n",
      "이철수님 안녕하세요.\n",
      "김철수님 안녕하세요.\n",
      "김철수님 반갑습니다.\n"
     ]
    }
   ],
   "source": [
    "# 3. 디폴트 매개변수\n",
    "# 매개변수로 전달되는 인수가 없는 경우에는 기본적으로 사용할 수 있도록\n",
    "# 매개변수에 기본값을 설정할 수 있음\n",
    "\n",
    "def greet(message='안녕하세요'):\n",
    "    print(message)\n",
    "\n",
    "\n",
    "greet('반갑습니다.')  # 출력 : 반갑습니다.\n",
    "greet()  # 출력 : 안녕하세요 <-- 기본값이 출력되었음. 디폴트 매개변수가 없었다면 에러뜸\n",
    "\n",
    "\n",
    "# 자바는 디폴트 매개변수가 지원되지 않는데\n",
    "# 자바는 메소드오버로딩이 있어서 그렇고 파이썬은 메소드 오버로딩을 지원하지 않음. 둘다 지원하는 경우 C++ 가 있는데 헷갈림\n",
    "\n",
    "\n",
    "# 디폴트 매개변수와 일반 매개변수를 같이 사용하는 경우 디폴트 매개변수를 뒤(오른쪽)으로 배치\n",
    "def greet(name, message='안녕하세요.'):  # 순서를 바꾸면 주의 문구뜸 안헷갈리도록 하기 위해 디폴트 매개변수는 뒤에 배치한다.\n",
    "    print(f'{name}님 {message}')\n",
    "\n",
    "\n",
    "greet('김철수')  # 출력 : 김철수님 안녕하세요.\n",
    "greet('김철수', '반갑습니다.')  # 출력 : 김철수님 반갑습니다.\n",
    "\n",
    "\n",
    "# 복수의 디폴트 매개변수를 사용하는 경우\n",
    "def greet(name='이철수', message='안녕하세요.'):\n",
    "    print(f'{name}님 {message}')\n",
    "\n",
    "\n",
    "greet()  # 출력 : 이철수님 안녕하세요.\n",
    "greet('김철수')  # 왼쪽부터 적용 # 출력 : 김철수님 안녕하세요.\n",
    "greet('김철수', '반갑습니다.')  # 출력 : 김철수님 반갑습니다."
   ],
   "metadata": {
    "collapsed": false,
    "ExecuteTime": {
     "end_time": "2024-02-28T03:10:44.507058Z",
     "start_time": "2024-02-28T03:10:44.480701Z"
    }
   },
   "id": "44dfa1261384ac9d",
   "execution_count": 15
  },
  {
   "cell_type": "code",
   "outputs": [
    {
     "name": "stdout",
     "output_type": "stream",
     "text": [
      "우편번호 12345\n",
      "서울시 영등포구 여의도동\n"
     ]
    }
   ],
   "source": [
    "# 반환값이 있는 경우\n",
    "def address():\n",
    "    string = '우편번호 12345\\n'\n",
    "    string += '서울시 영등포구 여의도동'\n",
    "    return string\n",
    "    # def address() -> str\n",
    "\n",
    "\n",
    "address()  # 출력 결과 없음\n",
    "\n",
    "print(address())\n",
    "\n",
    "\n",
    "# 출력\n",
    "# 우편번호 12345\n",
    "# 서울시 영등포구 여의도동\n",
    "\n",
    "\n",
    "# 반환값이 없는 경우\n",
    "def address():\n",
    "    string = '우편번호 12345\\n'\n",
    "    string += '서울시 영등포구 여의도동'\n",
    "    print(string)\n",
    "    # def address() -> None\n",
    "\n",
    "\n",
    "print(address())\n",
    "# 출력\n",
    "# 우편번호 12345  <-- address() 함수의 print()\n",
    "# 서울시 영등포구 여의도동 <-- address() 함수의 print()\n",
    "# None < -- print(address()) 호출 결과\n",
    "\n",
    "# None : 반환값이 없어서 출력이 안됨\n",
    "\n",
    "address()\n",
    "# 출력\n",
    "# 우편번호 12345\n",
    "# 서울시 영등포구 여의도동"
   ],
   "metadata": {
    "collapsed": false,
    "ExecuteTime": {
     "end_time": "2024-03-01T11:47:26.804268Z",
     "start_time": "2024-03-01T11:47:26.790924Z"
    }
   },
   "id": "2c0491640ad30b5",
   "execution_count": 10
  },
  {
   "cell_type": "code",
   "outputs": [
    {
     "name": "stdout",
     "output_type": "stream",
     "text": [
      "합계 15\n",
      "평균 3.0\n",
      "최댓값 5\n",
      "최솟값 1\n",
      "(15, 3.0, 5, 1)\n",
      "\n",
      "합계 15\n",
      "평균 3.0\n",
      "최댓값 5\n",
      "최솟값 1\n"
     ]
    }
   ],
   "source": [
    "# 2. 다중 반환\n",
    "# 하나의 반환값도 처리할 수 있고 여러 개의 반환 값도 처리할 수 있음\n",
    "\n",
    "def calculator(*args):\n",
    "    return sum(args), sum(args) / len(args), max(args), min(args)\n",
    "    # args: tuple[Any, ...]\n",
    "\n",
    "\n",
    "# print(calculator())\n",
    "a, b, c, d = calculator(1, 2, 3, 4, 5)  # 4개의 반환값을 모두 저장하기 위해서 변수 4개 배치\n",
    "print('합계', a)  # 출력 : 합계 15\n",
    "print('평균', b)  # 출력 : 평균 3.0\n",
    "print('최댓값', c)  # 출력 : 최댓값 5\n",
    "print('최솟값', d)  # 출력 : 최솟값 1\n",
    "\n",
    "print(calculator(1, 2, 3, 4, 5))  # 출력 : (15, 3.0, 5, 1) # 테스트코드\n",
    "\n",
    "print()\n",
    "result = calculator(1, 2, 3, 4, 5)\n",
    "print('합계', result[0])  # 출력 : 합계 15\n",
    "print('평균', result[1])  # 출력 : 평균 3.0\n",
    "print('최댓값', result[2])  # 출력 : 최댓값 5\n",
    "print('최솟값', result[3])  # 출력 : 최솟값 1\n"
   ],
   "metadata": {
    "collapsed": false,
    "ExecuteTime": {
     "end_time": "2024-02-28T15:55:39.006064Z",
     "start_time": "2024-02-28T15:55:38.992297Z"
    }
   },
   "id": "f74624ac4154a67a",
   "execution_count": 9
  },
  {
   "cell_type": "code",
   "outputs": [
    {
     "name": "stdout",
     "output_type": "stream",
     "text": [
      "에너지가 충전되었습니다.\n",
      "0보다 작은 에너지는 충전할 수 없습니다.\n"
     ]
    }
   ],
   "source": [
    "# 3. 함수의 종료를 위한 return\n",
    "# 반환값이 없으면 return 문을 사용해 반환하고, 반환값이 없으면 return 문을 생략하면 됨\n",
    "# 반환값이 없을 때도 return 문을 작성하는 경우 -> 함수를 종료할 때\n",
    "\n",
    "def charge(energy):\n",
    "    if energy < 0:\n",
    "        print('0보다 작은 에너지는 충전할 수 없습니다.')\n",
    "        return  # charge() 함수의 종료를 의미\n",
    "    print('에너지가 충전되었습니다.')\n",
    "\n",
    "\n",
    "charge(1)  # 출력 : 에너지가 충전되었습니다.\n",
    "charge(-1)  # 출력 : 0보다 작은 에너지는 충전할 수 없습니다."
   ],
   "metadata": {
    "collapsed": false,
    "ExecuteTime": {
     "end_time": "2024-03-01T11:52:16.638634Z",
     "start_time": "2024-03-01T11:52:16.617079Z"
    }
   },
   "id": "9c5d2d2909294d58",
   "execution_count": 2
  },
  {
   "cell_type": "code",
   "outputs": [
    {
     "name": "stdout",
     "output_type": "stream",
     "text": [
      "<function charge at 0x00000233B1BBD7E0>\n",
      "에너지가 충전되었습니다.\n"
     ]
    }
   ],
   "source": [
    "# 4. 파이썬의 함수는 객체이고 자료형이다.\n",
    "print(charge)  # 출력 : <function charge at 0x0000029097B992D0>\n",
    "\n",
    "\n",
    "def charge(energy):\n",
    "    if energy < 0:\n",
    "        print('0보다 작은 에너지는 충전할 수 없습니다.')\n",
    "        return  # charge() 함수의 종료를 의미\n",
    "    print('에너지가 충전되었습니다.')\n",
    "\n",
    "\n",
    "def print_charge(fun):\n",
    "    fun(0)  # 에너지가 충전되었습니다.\n",
    "\n",
    "\n",
    "# def print_charge(fun: Any) -> None\n",
    "# 함수를 매개변수로 넘기는 것이 가능하다.\n",
    "\n",
    "print_charge(charge)  # 함수를 함수 호출시 인수로 사용이 가능. # 출력 : 에너지가 충전되었습니다.\n",
    "\n"
   ],
   "metadata": {
    "collapsed": false,
    "ExecuteTime": {
     "end_time": "2024-03-01T11:52:46.076098Z",
     "start_time": "2024-03-01T11:52:46.061692Z"
    }
   },
   "id": "1ac068e3f14baf98",
   "execution_count": 7
  },
  {
   "cell_type": "code",
   "outputs": [
    {
     "name": "stdout",
     "output_type": "stream",
     "text": [
      "f() 내부 : 10\n"
     ]
    },
    {
     "ename": "NameError",
     "evalue": "name 'a' is not defined",
     "output_type": "error",
     "traceback": [
      "\u001B[1;31m---------------------------------------------------------------------------\u001B[0m",
      "\u001B[1;31mNameError\u001B[0m                                 Traceback (most recent call last)",
      "Cell \u001B[1;32mIn[8], line 11\u001B[0m\n\u001B[0;32m      7\u001B[0m     \u001B[38;5;28mprint\u001B[39m(\u001B[38;5;124mf\u001B[39m\u001B[38;5;124m'\u001B[39m\u001B[38;5;124mf() 내부 : \u001B[39m\u001B[38;5;132;01m{\u001B[39;00ma\u001B[38;5;132;01m}\u001B[39;00m\u001B[38;5;124m'\u001B[39m)\n\u001B[0;32m     10\u001B[0m f()  \u001B[38;5;66;03m# 출력 : f() 내부 : 10\u001B[39;00m\n\u001B[1;32m---> 11\u001B[0m \u001B[38;5;28mprint\u001B[39m(\u001B[38;5;124mf\u001B[39m\u001B[38;5;124m'\u001B[39m\u001B[38;5;124mf() 외부 : \u001B[39m\u001B[38;5;132;01m{\u001B[39;00ma\u001B[38;5;132;01m}\u001B[39;00m\u001B[38;5;124m'\u001B[39m)\n",
      "\u001B[1;31mNameError\u001B[0m: name 'a' is not defined"
     ]
    }
   ],
   "source": [
    "# 지역변수와 전역변수\n",
    "\n",
    "# 1. 지역변수 local variable\n",
    "\n",
    "def f():\n",
    "    a = 10  # 내부에서 선언된 지역변수\n",
    "    print(f'f() 내부 : {a}')\n",
    "\n",
    "\n",
    "f()  # 출력 : f() 내부 : 10\n",
    "# print(f'f() 외부 : {a}') # 함수 외부에서는 a 변수를 사용할 수 없음. # 지역 변수이기 때문 \n",
    "# NameError: name 'a' is not defined"
   ],
   "metadata": {
    "collapsed": false,
    "ExecuteTime": {
     "end_time": "2024-03-01T11:53:54.705333Z",
     "start_time": "2024-03-01T11:53:54.654870Z"
    }
   },
   "id": "907d88d8e2683c21",
   "execution_count": 8
  },
  {
   "cell_type": "code",
   "outputs": [
    {
     "name": "stdout",
     "output_type": "stream",
     "text": [
      "f() 내부 : 10\n",
      "f() 외부 : 10\n",
      "0\n",
      "0\n",
      "0\n",
      "10\n"
     ]
    }
   ],
   "source": [
    "# 2. 전역변수 global variable\n",
    "\n",
    "def f():\n",
    "    print(f'f() 내부 : {b}')\n",
    "\n",
    "\n",
    "b = 10\n",
    "f()  # 출력 : f() 내부 : 10\n",
    "print(f'f() 외부 : {b}')  # 출력 : f() 외부 : 10\n",
    "\n",
    "# 주의할점\n",
    "# 1) 전역변수를 단순히 참조만 하는 경우\n",
    "a = 0  # 전역변수 초기화\n",
    "\n",
    "\n",
    "def f():\n",
    "    print(a)  # 함수 f() 내부에서 전역변수 a를 참조\n",
    "\n",
    "\n",
    "f()  # 출력 : 0     함수 f() 외부에서 전역변수 a를 참조\n",
    "print(a)  # 출력 : 0\n",
    "\n",
    "# 2) 전역변수의 값을 변경하는 경우\n",
    "a = 0\n",
    "\n",
    "z = 0\n",
    "z = 10  # 파이썬의 단점. 변수를 생성해서 초기화 하는 과정이 변수에 값을 변경하는 과정과 문법적으로 차이가 없어서 구분하기가 힘들다.\n",
    "\n",
    "\n",
    "def f():\n",
    "    a = 10  # 전역변수 a의 값을 변경시도  # 전역변수 a 의 값을 변경하고 싶은건지 a라는 변수를 지연변수로 선언 및 초기화를 하고 싶은건지 알 수가 없음\n",
    "\n",
    "\n",
    "f()  # 전역변수a인지 지역변수 a인지 알 수 가 없음\n",
    "print(a)  # 0 / 전역변수의 변경된 값을 확인 # 0이다\n",
    "\n",
    "\n",
    "def f():\n",
    "    global a  # 전역변수 a 를 사용\n",
    "    a = 10  # 전역변수 a의 값을 변경 \n",
    "\n",
    "\n",
    "f()  # 전역변수a인지 지역변수 a인지 알 수 가 없음 => 구분을 못해서 0 출력 (f()호출하면서 전역변수 a는 10으로 초기화는 됨)\n",
    "print(a)  # 10 / 전역변수의 변경된 값을 확인\n",
    "\n",
    "# 전역 글로벌 문제 오류 줄이는 방법\n",
    "# global을 쓰거나 매개변수로 a를 받아서 사용\n",
    "# 함수에서 값을 받아서 사용하고 싶으면 RETURN 값으로 받아서 값을 변경."
   ],
   "metadata": {
    "collapsed": false,
    "ExecuteTime": {
     "end_time": "2024-03-01T11:57:17.880243Z",
     "start_time": "2024-03-01T11:57:17.859142Z"
    }
   },
   "id": "fb177f7a131ff2f2",
   "execution_count": 15
  },
  {
   "cell_type": "code",
   "outputs": [
    {
     "name": "stdout",
     "output_type": "stream",
     "text": [
      "100원에 1400을 선택하셨습니다.\n",
      "1400는 판매하지 않습니다.\n",
      "잔돈 100원, 커피 자만기에 없는 메뉴\n",
      "100원에 1400을 선택하셨습니다.\n",
      "1400는 판매하지 않습니다.\n",
      "(100, '자만기에 없는 메뉴')\n"
     ]
    }
   ],
   "source": [
    "# 문제\n",
    "# 커피 자판기 프로그램.\n",
    "# 1. 커피 자판기에 돈과 주문할 커피를 전달\n",
    "# 2. 주문할 수 있는 커피의 종류와 가격\n",
    "# '아메리카노': 1000,\n",
    "# '카페라떼': 1500,\n",
    "# '카푸치노': 2000\n",
    "# 3. 없는 커피를 주문할 경우 입력한 돈을 그대로 반환 <-\n",
    "# 4. 구매 금액이 부족하면 입력한 돈을 그대로 반환 <-\n",
    "# 5. 정상 주문이면 주문한 커피와 잔돈을 반환"
   ],
   "metadata": {
    "collapsed": false,
    "ExecuteTime": {
     "end_time": "2024-03-01T12:50:40.033692Z",
     "start_time": "2024-03-01T12:50:33.633844Z"
    }
   },
   "id": "3c1d1bcf664070fb",
   "execution_count": 16
  },
  {
   "cell_type": "code",
   "outputs": [
    {
     "name": "stdout",
     "output_type": "stream",
     "text": [
      "5000원에 아메리카노을 선택하셨습니다.\n",
      "잔돈 4000원, 커피 아메리카노\n",
      "4000원에 아메리카노을 선택하셨습니다.\n",
      "(3000, '아메리카노')\n"
     ]
    }
   ],
   "source": [
    "def coffee_machine(money: int, pick: str) -> tuple[int, str]:  # 어노테이션\n",
    "    print(f'{money}원에 {pick}을 선택하셨습니다.')\n",
    "    # 커피와 가격을 하나의 데이터로 처리하기 위해 딕셔너리 dict 를 사용\n",
    "    menu = {\n",
    "        '아메리카노': 1000,\n",
    "        '카페라떼': 1500,\n",
    "        '카푸치노': 2000\n",
    "    }\n",
    "    # 없는 커피를 주문 하는 경우\n",
    "    if pick not in menu:\n",
    "        print(f'{pick}는 판매하지 않습니다.')\n",
    "        return money, '자만기에 없는 메뉴'\n",
    "    elif menu[pick] > money:  # 구매할 금액이 부족한 경우\n",
    "        print(f'{pick}는 {menu[pick]}원입니다.')\n",
    "        return money, '금액 부족'\n",
    "    else:  # 정상주문이면 잔돈과 선택한 커피를 반환\n",
    "        return money - menu[pick], pick\n",
    "\n",
    "\n",
    "order = input('커피를 선택하세요. (아메리카노, 카페라떼, 카푸치노) >>> ')\n",
    "pay = int(input('얼마를 내시나요? >>> '))\n",
    "\n",
    "change, coffee = coffee_machine(pay, order)\n",
    "print(f'잔돈 {change}원, 커피 {coffee}')\n",
    "\n",
    "# print(coffee_machine(change, order))  # 테스트 # 출력 : (1000, '아메리카노')"
   ],
   "metadata": {
    "collapsed": false,
    "ExecuteTime": {
     "end_time": "2024-03-01T13:07:09.471522Z",
     "start_time": "2024-03-01T13:07:06.343393Z"
    }
   },
   "id": "6d2e13d48170967a",
   "execution_count": 23
  },
  {
   "cell_type": "markdown",
   "source": [
    "# 문제 1\n",
    "1. 700원짜리 음료수를 뽑을 수 있는 자판기 프로그램을 구현하세요.\n",
    "돈을 넣으면 몇 잔의 음료수를 뽑을 수 있는지 그리고 잔돈은 얼마인지 모든 경우의 수를 출력하도록 구현하세요.\n",
    "\n",
    "함수 정의\n",
    "* 반환값 : 없음\n",
    "* 함수 이름 : vending_machine()\n",
    "* 매개변수 : 정수 money\n",
    "\n",
    "코드 구성\n",
    "def vending_machine(money):\n",
    " # 함수 구현\n",
    "\n",
    "vending_machine(3000)\n",
    "\n",
    "실행 예)\n",
    "음료수 = 0개, 잔돈 = 3000원\n",
    "음료수 = 1개, 잔돈 = 2300원\n",
    "음료수 = 2개, 잔돈 = 1600원\n",
    "음료수 = 3개, 잔돈 = 900원\n",
    "음료수 = 4개, 잔돈 = 200원"
   ],
   "metadata": {
    "collapsed": false
   },
   "id": "f39612293c845e4e"
  },
  {
   "cell_type": "markdown",
   "source": [
    "# 문제 2\n",
    "2. 키(key)가 '과목명', 값(value)이 '점수'인 marks 딕셔너리를 전달하면\n",
    "해당 딕셔너리에 저장된 점수들의 평균을 반환하는 get_average() 함수를 구현하세요.\n",
    "\n",
    "함수 정의\n",
    "* 반환값 : 평균\n",
    "* 함수 이름 :get_average()\n",
    "* 매개변수 : 딕셔너리 marks\n",
    "\n",
    "코드 구성\n",
    "def get_average(marks):\n",
    " # 함수 구현\n",
    "\n",
    "marks = {'국어':90, '영어':80, '수학':85}\n",
    "average = get_average(marks)\n",
    "print(f'평균은 {average}입니다.')\n",
    "\n",
    "실행 예)\n",
    "평균은 85.0점입니다."
   ],
   "metadata": {
    "collapsed": false
   },
   "id": "59c89954b7ce2e59"
  },
  {
   "cell_type": "code",
   "outputs": [
    {
     "name": "stdout",
     "output_type": "stream",
     "text": [
      "음료수 =0개, 잔돈 = 3000\n",
      "음료수 =1개, 잔돈 = 2300\n",
      "음료수 =2개, 잔돈 = 1600\n",
      "음료수 =3개, 잔돈 = 900\n",
      "음료수 =4개, 잔돈 = 200\n",
      "음료수 = 0개, 잔동 = 3000원\n",
      "음료수 = 1개, 잔동 = 2300원\n",
      "음료수 = 2개, 잔동 = 1600원\n",
      "음료수 = 3개, 잔동 = 900원\n",
      "음료수 = 4개, 잔동 = 200원\n"
     ]
    }
   ],
   "source": [
    "# 문제1\n",
    "def vending_machine(money: int) -> None:\n",
    "    drink: int = 700\n",
    "    count: int = 0\n",
    "    print(f'음료수 ={count}개, 잔돈 = {money}')\n",
    "    while drink <= money:\n",
    "        count += 1\n",
    "        money -= drink\n",
    "        print(f'음료수 ={count}개, 잔돈 = {money}')\n",
    "\n",
    "\n",
    "vending_machine(3000)\n",
    "\n",
    "# case 2\n",
    "def vending_machine(money: int) -> None:\n",
    "    drink: int = 700\n",
    "    count: int = 0\n",
    "    for i in range(money // drink + 1):\n",
    "        print(f'음료수 = {count}개, 잔동 = {money}원')\n",
    "        count += 1\n",
    "        money -= drink\n",
    "\n",
    "\n",
    "vending_machine(3000)\n",
    "\n",
    "# 음료수 =0개, 잔돈 = 3000\n",
    "# 음료수 =1개, 잔돈 = 2300\n",
    "# 음료수 =2개, 잔돈 = 1600\n",
    "# 음료수 =3개, 잔돈 = 900\n",
    "# 음료수 =4개, 잔돈 = 200\n",
    "# 음료수 = 0개, 잔동 = 3000원\n",
    "# 음료수 = 1개, 잔동 = 2300원\n",
    "# 음료수 = 2개, 잔동 = 1600원\n",
    "# 음료수 = 3개, 잔동 = 900원\n",
    "# 음료수 = 4개, 잔동 = 200원\n",
    "\n"
   ],
   "metadata": {
    "collapsed": false,
    "ExecuteTime": {
     "end_time": "2024-03-01T13:09:45.209647Z",
     "start_time": "2024-03-01T13:09:45.192981Z"
    }
   },
   "id": "1de3d71f0e7613aa",
   "execution_count": 27
  },
  {
   "cell_type": "code",
   "outputs": [
    {
     "name": "stdout",
     "output_type": "stream",
     "text": [
      "평균은 85.0입니다.\n",
      "dict_keys(['국어', '영어', '수학'])\n",
      "255\n",
      "dict_values([90, 80, 85])\n",
      "3\n",
      "3\n"
     ]
    }
   ],
   "source": [
    "from typing import Any\n",
    "\n",
    "# 문제 2번\n",
    "def get_average(marks: dict) -> float:\n",
    "    return sum(marks.values()) / len(marks)\n",
    "\n",
    "marks = {'국어': 90, '영어': 80, '수학': 85}\n",
    "average = get_average(marks)\n",
    "print(f'평균은 {average}입니다.')\n",
    "\n",
    "# test\n",
    "print(marks.keys())  # key\n",
    "print(sum(marks.values()))  # value\n",
    "print(marks.values())\n",
    "print(len(marks))\n",
    "print(len(marks.values()))\n",
    "\n",
    "\n",
    "def get_average(marks: dict[Any, int]) -> float:  # Any을 쓸려면 import 필요\n",
    "    return sum(marks.values()) / len(marks)\n"
   ],
   "metadata": {
    "collapsed": false,
    "ExecuteTime": {
     "end_time": "2024-03-01T13:15:20.789458Z",
     "start_time": "2024-03-01T13:15:20.771412Z"
    }
   },
   "id": "bb3370d3924b679b",
   "execution_count": 33
  }
 ],
 "metadata": {
  "kernelspec": {
   "display_name": "Python 3",
   "language": "python",
   "name": "python3"
  },
  "language_info": {
   "codemirror_mode": {
    "name": "ipython",
    "version": 2
   },
   "file_extension": ".py",
   "mimetype": "text/x-python",
   "name": "python",
   "nbconvert_exporter": "python",
   "pygments_lexer": "ipython2",
   "version": "2.7.6"
  }
 },
 "nbformat": 4,
 "nbformat_minor": 5
}
