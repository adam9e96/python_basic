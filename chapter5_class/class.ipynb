{
 "cells": [
  {
   "cell_type": "code",
   "source": [
    "class WaffleMachine:  #WaffleMachine 이라는 클래스 정의\n",
    "    pass  # 클래스를 정의할떄 pass을 사용함. 정의만 해두고 추후 기능을 정의\n",
    "\n",
    "\n",
    "waffle1 = WaffleMachine()  # WaffleMachine 이라는 클래스를 이용해 waffle 이라는 객체 생성\n",
    "waffle2 = WaffleMachine()\n",
    "\n",
    "# waffle1과 waffle2는 WaffleMachine 클래스의 인스턴스이다.\n",
    "\n",
    "\n",
    "print(waffle1)  # 출력 : <__main__.WaffleMachine object at 0x000001F970A95AE0>\n",
    "# 메모리의 0x000001F970A95AE0 번지에 저장된 WaffleMachine 의 객체라는 의미\n",
    "print(waffle2)  # 출력 : <__main__.WaffleMachine object at 0x000001F970A7E920>"
   ],
   "metadata": {
    "collapsed": false,
    "ExecuteTime": {
     "end_time": "2024-07-23T12:16:37.564998Z",
     "start_time": "2024-07-23T12:16:37.556003Z"
    }
   },
   "id": "4618ee1f9580fa0e",
   "outputs": [
    {
     "name": "stdout",
     "output_type": "stream",
     "text": [
      "<__main__.WaffleMachine object at 0x0000021B017CB500>\n",
      "<__main__.WaffleMachine object at 0x0000021B0180F5F0>\n"
     ]
    }
   ],
   "execution_count": 1
  },
  {
   "cell_type": "code",
   "outputs": [
    {
     "name": "stdout",
     "output_type": "stream",
     "text": [
      "john\n",
      "15\n",
      "123-1234\n",
      "toronto\n",
      "test@test.com\n"
     ]
    }
   ],
   "source": [
    "class Person:  # Person 클래스를 정의\n",
    "\n",
    "    # 첫 번째 매개변수가 self 이므로 인스턴스 메소드라고 볼 수 있다.\n",
    "    # 모든 인스턴스는 who_am_i() 메소드를 호출할 수 있음\n",
    "    # 매개변수 self 에는 메서드를 호출하는 인스턴스가 전달\n",
    "    # self를 제외한 나머지 매개변수에 실제로 사용될 데이터가 전달\n",
    "    def who_am_i(self, name, age, tel, address):  # 인스턴스 메소드 정의\n",
    "        # 인스턴스 메소드를 선언하려면 self가 있어야하고 가장 첫번째 매개변수여야함\n",
    "        # 인스턴스 변수 = 매개변수. 모든 인스턴스 변수는 최초에 값이 대입되는 시점에 알아서 생성.\n",
    "        self.name = name  # 인스턴스 변수는 인스턴스 메소드에서 사용할 수 있다.\n",
    "        self.age = age  # self는 여기서 this처럼 사용하면된다.\n",
    "        self.tel = tel\n",
    "        self.address = address  # 인스턴스변수라고 구분짓기 위해 self가 붙음\n",
    "\n",
    "\n",
    "boy = Person()  # 인스턴스 boy가 생성. 클래스의 생성자가 호출\n",
    "# print(boy.name)  # 'Person' object has no attribute 'name' # 인스턴스 메소드를 호출하기 전까지는 인스턴스 변수가 없음\n",
    "# who_am_i 를 호출하기 전까지는 인스턴스 변수가 없음. 현시점에선 인스턴스 변수가 없어서 에러가 뜸\n",
    "\n",
    "boy.who_am_i('john', 15, '123-1234', 'toronto')  # 인스턴스 메소드 호출\n",
    "print(boy.name)  # 출력 : john\n",
    "print(boy.age)  # 출력 : 15\n",
    "print(boy.tel)  # 출력 : 123-1234\n",
    "print(boy.address)  # 출력 : toronto\n",
    "\n",
    "# 없는 인스턴스 변수를 호출하면\n",
    "# print(boy.email)    # AttributeError: 'Person' object has no attribute 'email'\n",
    "\n",
    "# 클래스에 없는 속성도 추가가 가능함. 다른 언어의 객체와는 다른 방식. e.g) 자바스크립트와 유사함\n",
    "boy.email = \"test@test.com\"\n",
    "print(boy.email)  # 출력 : test@test.com\n",
    "\n"
   ],
   "metadata": {
    "collapsed": false,
    "ExecuteTime": {
     "end_time": "2024-02-29T00:35:20.363253Z",
     "start_time": "2024-02-29T00:35:20.345617Z"
    }
   },
   "id": "1fbfacd966948a84",
   "execution_count": 9
  },
  {
   "cell_type": "code",
   "outputs": [
    {
     "name": "stdout",
     "output_type": "stream",
     "text": [
      "CPU = i9-14900K\n",
      "RAM = DDR5-6400 16G*2\n",
      "VGA = RTX 4060\n",
      "SSD = 990PRO 512GB\n",
      "\n",
      "CPU = i5-12400\n",
      "RAM = DDR5-6400 8G\n",
      "VGA = MX550\n",
      "SSD = 870EVO 256GB\n",
      "computer\n",
      "computer\n",
      "5\n"
     ]
    }
   ],
   "source": [
    "# CPU, RAM, VGA, SSD 를 구성요소로 가지고 있는 Computer 클래스를 사용해서 인스턴스를 생성하는 프로그램.\n",
    "# Computer 클래스는 각 구성요소에 값을 저장할 수 있는 set_spec() 메소드와 구성요소의 값을\n",
    "# 출력할 수 있는 hardware_info() 메서드로 구성.\n",
    "\n",
    "class Computer:\n",
    "    def set_spec(self, cpu, ram, vga, ssd):\n",
    "        self.cpu = cpu\n",
    "        self.ram = ram\n",
    "        self.vga = vga\n",
    "        self.ssd = ssd\n",
    "\n",
    "    def hardware_info(self):\n",
    "        print(f'CPU = {self.cpu}')\n",
    "        print(f'RAM = {self.ram}')\n",
    "        print(f'VGA = {self.vga}')\n",
    "        print(f'SSD = {self.ssd}')\n",
    "\n",
    "    def __str__(self):  # 파이썬에서의 toString()\n",
    "        return 'computer'\n",
    "\n",
    "    def __len__(self):  # len 매직메서드\n",
    "        return 5\n",
    "\n",
    "\n",
    "desktop = Computer()\n",
    "desktop.set_spec('i9-14900K', 'DDR5-6400 16G*2', 'RTX 4060', '990PRO 512GB')  # 이 시점에서 저장공간이 생긴다고 보면 된다.\n",
    "desktop.hardware_info()\n",
    "print()\n",
    "\n",
    "notebook = Computer()\n",
    "notebook.set_spec('i5-12400', 'DDR5-6400 8G', 'MX550', '870EVO 256GB')  # 이 시점에서 저장공간이 생긴다고 보면 된다.\n",
    "notebook.hardware_info()\n",
    "\n",
    "print(desktop)  # toString # computer\n",
    "\n",
    "print(notebook)  # computer\n",
    "\n",
    "print(len(notebook))  # 5\n"
   ],
   "metadata": {
    "collapsed": false,
    "ExecuteTime": {
     "end_time": "2024-03-01T14:04:28.282414Z",
     "start_time": "2024-03-01T14:04:28.257417Z"
    }
   },
   "id": "299b9bba93407ea0",
   "execution_count": 3
  },
  {
   "cell_type": "markdown",
   "source": [
    "# 문제\n",
    "1. 다음 지시사항을 읽고 책 제목과 저자 정보를 저장할 수 있는 Book 클래스를 생성하세요.\n",
    "\n",
    "지시사항\n",
    "1. 책 제목과 책 저자 정보를 출력하는 print_info() 메서드를 구현하세요.\n",
    "2. 다음과 같은 방법으로 book1과 book2 인스턴스를 생성하세요.\n",
    "\n",
    "# book1, book2 인스턴스의 생성\n",
    "book1 = Book()\n",
    "book2 = Book()\n",
    "\n",
    "# book1, book2 제목과 저자 정보 저장\n",
    "book1.set_info('파이썬', '민경태')\n",
    "book2.set_info('어린왕자', '생텍쥐페리')\n",
    "\n",
    "실행 예) \n",
    "책 제목: 파이썬\n",
    "책 저자: 민경태\n",
    "책 제목: 어린왕자\n",
    "책 저자: 생텍쥐페리\n",
    "\n",
    "2. 다음 지시사항을 읽고 시, 분, 초로 구성된 Watch 클래스를 생성하세요.\n",
    "\n",
    "지시사항\n",
    "1. 사용자로부터 'HH:mm:ss'형식의 시간을 입력받아서 이를 Watch 클래스의 hour, minute, second \n",
    "인스턴스 변수에 저장하세요.\n",
    "2. add_hour() 메서드를 이용해서 지정된 시간이 지난 시간을 계산하세요.\n",
    "3. add_minute() 메서드를 이용해서 지정된 분이 지난 시간을 계산하세요.\n",
    "4. add_second() 메서드를 이용해서 지정된 초가 지난 시간을 계산하세요.\n",
    "5. hour는 0 ~ 23, minute는 0 ~ 59, second는 0 ~ 59 사이의 값만 가질 수 있습니다.\n",
    "\n",
    "실행 예) \n",
    "시간을 입력하세요 >>> 12:00:00\n",
    "계산할 시간을 입력하세요 >>> 3\n",
    "계산할 분을 입력하세요 >>> 90\n",
    "계산할 초를 입력하세요 >>> 3690\n",
    "계산된 시간은 17시 31분 30초입니다\n",
    "\n",
    "3. 다음 지시사항을 읽고 노래 제목과 장르 정보를 저장할 수 있는 Song 클래스와 가수 이름과 \n",
    "대표곡 정보를 저장할 수 있는 Singer 클래스를 구현하세요.\n",
    "\n",
    "지시사항\n",
    "1. 다음과 같은 방법으로 Song과 Singer 인스턴스를 생성하고 필요한 정보를 저장한 뒤 그 정보를 출력하세요.\n",
    "# song 인스턴스 생성\n",
    "song = Song()\n",
    "song.set_song('취중진담', '발라드')\n",
    "\n",
    "# singer 인스턴스 생성\n",
    "singer = Singer()\n",
    "singer.set_singer('김동률')\n",
    "\n",
    "# singer 의 대표곡 지정\n",
    "singer.hit_song(song)\n",
    "\n",
    "# singer 정보 출력\n",
    "singer.print_singer()\n",
    "\n",
    "2. Song 클래스는 다음 메서드를 반드시 가지고 있어야 합니다.\n",
    "set_song() 메서드 : 노래 제목과 장르를 저장하는 메서드\n",
    "print_song() 메서드 : 노래 제목과 장르를 출력하는 메서드\n",
    "\n",
    "3. Singer 클래스는 다음 메서드를 반드시 가지고 있어야 합니다.\n",
    "set_singer() 메서드 : 가수 이름을 저장하는 메서드\n",
    "hit_song() 메서드 : 대표곡을 저장하는 메서드\n",
    "print_singer 메서드 : 가수 이름과 대표곡 제목과 장르를 출력하는 메서드\n",
    "\n",
    "실행 예) \n",
    "가수이름: 김동률\n",
    "노래제목: 취중진담(발라드)\n"
   ],
   "metadata": {
    "collapsed": false
   },
   "id": "9826d76d0ab34dc6"
  },
  {
   "cell_type": "code",
   "outputs": [
    {
     "name": "stdout",
     "output_type": "stream",
     "text": [
      "책 제목: 파이썬\n",
      "책 저자: 민경태\n",
      "책 제목: 어린왕자\n",
      "책 저자: 생텍쥐페리\n"
     ]
    }
   ],
   "source": [
    "# 1번\n",
    "class Book:\n",
    "\n",
    "    def set_info(self, title: str, author: str) -> None:\n",
    "        self.title = title\n",
    "        self.author = author\n",
    "\n",
    "    def print_info(self) -> None:\n",
    "        print(f'책 제목: {self.title}')\n",
    "        print(f'책 저자: {self.author}')\n",
    "\n",
    "\n",
    "book1 = Book()\n",
    "book2 = Book()\n",
    "\n",
    "book1.set_info('파이썬', '민경태')\n",
    "book2.set_info(title='어린왕자', author='생텍쥐페리')\n",
    "\n",
    "book1.print_info()\n",
    "book2.print_info()"
   ],
   "metadata": {
    "collapsed": false,
    "ExecuteTime": {
     "end_time": "2024-02-29T02:12:09.206992Z",
     "start_time": "2024-02-29T02:12:09.187860Z"
    }
   },
   "id": "5308f7489253b9bf",
   "execution_count": 67
  },
  {
   "cell_type": "code",
   "outputs": [
    {
     "name": "stdout",
     "output_type": "stream",
     "text": [
      "계산된 시간은 17시, 61분, 60초입니다.\n"
     ]
    }
   ],
   "source": [
    "# 2번\n",
    "class Watch:\n",
    "    def set_time(self) -> None:\n",
    "        time: str = input(\"시간을 입력하세요 >>> \")\n",
    "        self.hour: int = int(time[0:2])\n",
    "        self.minute: int = int(time[3:5])\n",
    "        self.second: int = int(time[6:8])\n",
    "\n",
    "    def add_hour(self) -> None:\n",
    "        hour: str = input('계산할 시간을 입력하세요 >>> ')\n",
    "        self.hour += int(hour)\n",
    "\n",
    "    def add_minute(self) -> None:\n",
    "        minute = input('계산할 분을 입력하세요 >>> ')\n",
    "        self.hour += int(minute) // 60\n",
    "        self.minute += int(minute) % 60\n",
    "\n",
    "    def add_second(self) -> None:\n",
    "        second = input('계산할 초을 입력하세요 >>> ')\n",
    "        self.hour += int(second) // 3600\n",
    "        self.minute += int(second) % 3600 // 60\n",
    "        self.second += int(second) % 60\n",
    "\n",
    "    def print_time(self) -> None:\n",
    "        print(f'계산된 시간은 {self.hour}시, {self.minute}분, {self.second}초입니다.')\n",
    "\n",
    "\n",
    "watch = Watch()\n",
    "watch.set_time()\n",
    "watch.add_hour()\n",
    "watch.add_minute()\n",
    "watch.add_second()\n",
    "\n",
    "watch.print_time()\n",
    "# 다른 방법으로 split을 이용해서도 해보자.\n"
   ],
   "metadata": {
    "collapsed": false,
    "ExecuteTime": {
     "end_time": "2024-03-01T14:45:15.854759Z",
     "start_time": "2024-03-01T14:45:06.735737Z"
    }
   },
   "id": "b46b3b28e08c9273",
   "execution_count": 16
  },
  {
   "cell_type": "code",
   "outputs": [
    {
     "name": "stdout",
     "output_type": "stream",
     "text": [
      "계산된 시간은 17시, 2분, 30초입니다.\n"
     ]
    }
   ],
   "source": [
    "# 2 번 split 방법 및 개선\n",
    "class Watch:\n",
    "    def set_time(self) -> None:\n",
    "        time_str = input(\"시간을 입력하세요 (HH:MM:SS) >>> \")\n",
    "        time_parts = time_str.split(':')  # ':'를 기준으로 문자열을 나눔\n",
    "        self.hour = int(time_parts[0])\n",
    "        self.minute = int(time_parts[1])\n",
    "        self.second = int(time_parts[2])\n",
    "\n",
    "    def add_hour(self) -> None:\n",
    "        hour = input('계산할 시간을 입력하세요 >>> ')\n",
    "        self.hour += int(hour)\n",
    "        self.hour %= 24  # 24시간을 넘어가면 다시 0시로\n",
    "\n",
    "    def add_minute(self) -> None:\n",
    "        minute = input('계산할 분을 입력하세요 >>> ')\n",
    "        total_minutes = self.minute + int(minute)\n",
    "        self.hour += total_minutes // 60\n",
    "        self.hour %= 24  # 24시간을 넘어가면 다시 0시로\n",
    "        self.minute = total_minutes % 60\n",
    "\n",
    "    def add_second(self) -> None:\n",
    "        second = input('계산할 초를 입력하세요 >>> ')\n",
    "        total_seconds = self.second + int(second)\n",
    "        self.minute += total_seconds // 60\n",
    "        self.hour += self.minute // 60\n",
    "        self.hour %= 24  # 24시간을 넘어가면 다시 0시로\n",
    "        self.minute %= 60\n",
    "        self.second = total_seconds % 60\n",
    "\n",
    "    def print_time(self) -> None:\n",
    "        print(f'계산된 시간은 {self.hour}시, {self.minute}분, {self.second}초입니다.')\n",
    "\n",
    "watch = Watch()\n",
    "watch.set_time()\n",
    "watch.add_hour()\n",
    "watch.add_minute()\n",
    "watch.add_second()\n",
    "watch.print_time()\n"
   ],
   "metadata": {
    "collapsed": false,
    "ExecuteTime": {
     "end_time": "2024-03-01T14:54:27.493941Z",
     "start_time": "2024-03-01T14:54:20.665675Z"
    }
   },
   "id": "75ab07c03f962828",
   "execution_count": 23
  },
  {
   "cell_type": "code",
   "outputs": [
    {
     "name": "stdout",
     "output_type": "stream",
     "text": [
      "\n",
      "가수이름: 김동률\n",
      "노래제목: 취중진담(노래 장르:발라드)\n"
     ]
    }
   ],
   "source": [
    "# 3번\n",
    "class Song:\n",
    "    def set_song(self, title: str, genre: str) -> None:\n",
    "        self.title = title\n",
    "        self.genre = genre\n",
    "\n",
    "    def print_song(self):\n",
    "        print(f'노래 제목: {self.title}\\n노래 장르: {self.genre}')\n",
    "\n",
    "class Singer:\n",
    "    def set_singer(self, artist: str) -> None:\n",
    "        self.artist = artist\n",
    "\n",
    "    def hit_song(self, song: Song) -> None:\n",
    "        self.song = song\n",
    "\n",
    "    def print_singer(self):\n",
    "        print(f'가수이름: {self.artist}')\n",
    "        print(f'노래제목: {self.song.title}(노래 장르:{self.song.genre})')\n",
    "\n",
    "\n",
    "song = Song()\n",
    "song.set_song('취중진담', '발라드')\n",
    "\n",
    "# song.print_song()\n",
    "\n",
    "print()\n",
    "\n",
    "# singer 인스턴스 생성\n",
    "singer = Singer()\n",
    "singer.set_singer('김동률')\n",
    "\n",
    "# print(song.title)\n",
    "# print(song.genre)\n",
    "\n",
    "# singer 의 대표곡 지정\n",
    "singer.hit_song(song)\n",
    "\n",
    "# singer 정보 출력\n",
    "singer.print_singer()"
   ],
   "metadata": {
    "collapsed": false,
    "ExecuteTime": {
     "end_time": "2024-03-01T14:38:27.310444Z",
     "start_time": "2024-03-01T14:38:27.287829Z"
    }
   },
   "id": "71d84b095a60ed67",
   "execution_count": 14
  }
 ],
 "metadata": {
  "kernelspec": {
   "display_name": "Python 3",
   "language": "python",
   "name": "python3"
  },
  "language_info": {
   "codemirror_mode": {
    "name": "ipython",
    "version": 2
   },
   "file_extension": ".py",
   "mimetype": "text/x-python",
   "name": "python",
   "nbconvert_exporter": "python",
   "pygments_lexer": "ipython2",
   "version": "2.7.6"
  }
 },
 "nbformat": 4,
 "nbformat_minor": 5
}
